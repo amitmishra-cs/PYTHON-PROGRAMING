{
  "nbformat": 4,
  "nbformat_minor": 0,
  "metadata": {
    "colab": {
      "provenance": [],
      "authorship_tag": "ABX9TyPwg/r5+NXHEixkcvXd3xTc",
      "include_colab_link": true
    },
    "kernelspec": {
      "name": "python3",
      "display_name": "Python 3"
    },
    "language_info": {
      "name": "python"
    }
  },
  "cells": [
    {
      "cell_type": "markdown",
      "metadata": {
        "id": "view-in-github",
        "colab_type": "text"
      },
      "source": [
        "<a href=\"https://colab.research.google.com/github/amitmishra-cs/PYTHON-PROGRAMING/blob/main/03_GATEPYTHON.ipynb\" target=\"_parent\"><img src=\"https://colab.research.google.com/assets/colab-badge.svg\" alt=\"Open In Colab\"/></a>"
      ]
    },
    {
      "cell_type": "markdown",
      "source": [
        "**List Concept**"
      ],
      "metadata": {
        "id": "FwVGc273qDi7"
      }
    },
    {
      "cell_type": "code",
      "source": [
        "l =[]\n",
        "print(l)\n",
        "print(type(l))"
      ],
      "metadata": {
        "id": "QsJnieusqJOh",
        "colab": {
          "base_uri": "https://localhost:8080/"
        },
        "outputId": "684c2fbb-8c4a-4542-cf70-3f0dde0961ac"
      },
      "execution_count": null,
      "outputs": [
        {
          "output_type": "stream",
          "name": "stdout",
          "text": [
            "[]\n",
            "<class 'list'>\n"
          ]
        }
      ]
    },
    {
      "cell_type": "code",
      "source": [
        "# using list\n",
        "l =list(range(1,6))\n",
        "print(l)"
      ],
      "metadata": {
        "id": "B40Xu47bqJLH",
        "colab": {
          "base_uri": "https://localhost:8080/"
        },
        "outputId": "a15b9a46-ee1f-4916-9bac-470f0538666e"
      },
      "execution_count": null,
      "outputs": [
        {
          "output_type": "stream",
          "name": "stdout",
          "text": [
            "[1, 2, 3, 4, 5]\n"
          ]
        }
      ]
    },
    {
      "cell_type": "code",
      "source": [
        "l=list(range(1,6,2))\n",
        "print(l)"
      ],
      "metadata": {
        "id": "4yXNLgYgqJG1",
        "colab": {
          "base_uri": "https://localhost:8080/"
        },
        "outputId": "0721ce72-4771-4243-ceda-5c39e07b1085"
      },
      "execution_count": null,
      "outputs": [
        {
          "output_type": "stream",
          "name": "stdout",
          "text": [
            "[1, 3, 5]\n"
          ]
        }
      ]
    },
    {
      "cell_type": "code",
      "source": [
        "l=eval(input(\"enter a list\"))\n",
        "print(l)"
      ],
      "metadata": {
        "id": "gUoe5NQ_qJE8",
        "colab": {
          "base_uri": "https://localhost:8080/"
        },
        "outputId": "eadc1c81-9449-4717-87b0-70d9d95d7862"
      },
      "execution_count": null,
      "outputs": [
        {
          "output_type": "stream",
          "name": "stdout",
          "text": [
            "enter a list[1,2,3,4]\n",
            "[1, 2, 3, 4]\n"
          ]
        }
      ]
    },
    {
      "cell_type": "code",
      "source": [
        "#loop\n",
        "l=[]\n",
        "for i in range(1,6):\n",
        "  l.append(i)\n",
        "print(l)"
      ],
      "metadata": {
        "id": "IqBOqpegqJCr",
        "colab": {
          "base_uri": "https://localhost:8080/"
        },
        "outputId": "6ae406e1-90cf-4a99-dd57-2278e9931909"
      },
      "execution_count": null,
      "outputs": [
        {
          "output_type": "stream",
          "name": "stdout",
          "text": [
            "[1, 2, 3, 4, 5]\n"
          ]
        }
      ]
    },
    {
      "cell_type": "code",
      "source": [
        "l=[ 0 for i in range(5)]\n",
        "print(l)"
      ],
      "metadata": {
        "id": "gocXCQdzqI_P",
        "colab": {
          "base_uri": "https://localhost:8080/"
        },
        "outputId": "d4129fd3-7962-4a2f-a6e0-b3a77bbb4b45"
      },
      "execution_count": null,
      "outputs": [
        {
          "output_type": "stream",
          "name": "stdout",
          "text": [
            "[0, 0, 0, 0, 0]\n"
          ]
        }
      ]
    },
    {
      "cell_type": "code",
      "source": [
        "l=[ i for i in range(5)]\n",
        "print(l)"
      ],
      "metadata": {
        "id": "pNHbJyxzrhSO",
        "colab": {
          "base_uri": "https://localhost:8080/"
        },
        "outputId": "efadc97d-02af-41c3-998d-fc3c148d07ea"
      },
      "execution_count": null,
      "outputs": [
        {
          "output_type": "stream",
          "name": "stdout",
          "text": [
            "[0, 1, 2, 3, 4]\n"
          ]
        }
      ]
    },
    {
      "cell_type": "code",
      "source": [
        "l=[ 2*i for i in range(5)]\n",
        "print(l)"
      ],
      "metadata": {
        "id": "rdxa5oSmrhOp",
        "colab": {
          "base_uri": "https://localhost:8080/"
        },
        "outputId": "9fb350d8-fe99-4899-ef8e-74fffe2c8266"
      },
      "execution_count": null,
      "outputs": [
        {
          "output_type": "stream",
          "name": "stdout",
          "text": [
            "[0, 2, 4, 6, 8]\n"
          ]
        }
      ]
    },
    {
      "cell_type": "code",
      "source": [
        "l=[i*i for i in range(10)]\n",
        "print(l)"
      ],
      "metadata": {
        "id": "R0pGL4KjrhMw"
      },
      "execution_count": null,
      "outputs": []
    },
    {
      "cell_type": "code",
      "source": [
        "# adding element in the list\n",
        "l=[]\n",
        "l.append(100)\n",
        "print(l)"
      ],
      "metadata": {
        "id": "ILR4rGGOrhKw",
        "colab": {
          "base_uri": "https://localhost:8080/"
        },
        "outputId": "c584a9e7-3929-467d-88a9-9ecc61c52225"
      },
      "execution_count": null,
      "outputs": [
        {
          "output_type": "stream",
          "name": "stdout",
          "text": [
            "[100]\n"
          ]
        }
      ]
    },
    {
      "cell_type": "code",
      "source": [
        "l.append(200)\n",
        "print(l)"
      ],
      "metadata": {
        "colab": {
          "base_uri": "https://localhost:8080/"
        },
        "id": "-vrUqHe10Pxy",
        "outputId": "0b281edf-2e6f-495a-81ee-a23e76fcaee5"
      },
      "execution_count": null,
      "outputs": [
        {
          "output_type": "stream",
          "name": "stdout",
          "text": [
            "[100, 200]\n"
          ]
        }
      ]
    },
    {
      "cell_type": "code",
      "source": [
        "l.append(\"Mishra\")\n",
        "print(l)"
      ],
      "metadata": {
        "colab": {
          "base_uri": "https://localhost:8080/"
        },
        "id": "Za6KVBLB0Pua",
        "outputId": "1632a327-7712-4b78-bfcf-419c5fb34b2d"
      },
      "execution_count": null,
      "outputs": [
        {
          "output_type": "stream",
          "name": "stdout",
          "text": [
            "[100, 200, 'Mishra']\n"
          ]
        }
      ]
    },
    {
      "cell_type": "code",
      "source": [
        "l"
      ],
      "metadata": {
        "colab": {
          "base_uri": "https://localhost:8080/"
        },
        "id": "_5bXiYf50PsK",
        "outputId": "8e60e343-75b1-4663-a3a4-1c9b4b791e78"
      },
      "execution_count": null,
      "outputs": [
        {
          "output_type": "execute_result",
          "data": {
            "text/plain": [
              "[100, 200, 'Mishra']"
            ]
          },
          "metadata": {},
          "execution_count": 9
        }
      ]
    },
    {
      "cell_type": "code",
      "source": [
        "l = [i for i in range(5)]"
      ],
      "metadata": {
        "id": "um7jLObY3TdA"
      },
      "execution_count": null,
      "outputs": []
    },
    {
      "cell_type": "code",
      "source": [
        "l.insert(0,\"neeraj\") # insert at inedx 0\n",
        "print(l)"
      ],
      "metadata": {
        "colab": {
          "base_uri": "https://localhost:8080/"
        },
        "id": "I5jSS6Su2FtM",
        "outputId": "ef573bd1-89f8-4925-c38e-331ba1e99e9b"
      },
      "execution_count": null,
      "outputs": [
        {
          "output_type": "stream",
          "name": "stdout",
          "text": [
            "['neeraj', 'neeraj', 0, 999, 999, 1, 2, 3, 4]\n"
          ]
        }
      ]
    },
    {
      "cell_type": "code",
      "source": [
        "l.insert(2,999)\n",
        "print(l)"
      ],
      "metadata": {
        "colab": {
          "base_uri": "https://localhost:8080/"
        },
        "id": "xQDg8UdD0PmP",
        "outputId": "ee67e17d-d66c-4ea5-89b5-b100f2952179"
      },
      "execution_count": null,
      "outputs": [
        {
          "output_type": "stream",
          "name": "stdout",
          "text": [
            "['neeraj', 0, 999, 999, 1, 2, 3, 4]\n"
          ]
        }
      ]
    },
    {
      "cell_type": "code",
      "source": [
        "a =[1,2,3,4]\n",
        "b=[4,5,6,7]\n",
        "a.extend(b)\n",
        "print(a)\n",
        "print(b)"
      ],
      "metadata": {
        "id": "nVaA-PiO0Pkf",
        "colab": {
          "base_uri": "https://localhost:8080/"
        },
        "outputId": "113fa573-11d2-4263-e556-cb5b2e259d02"
      },
      "execution_count": null,
      "outputs": [
        {
          "output_type": "stream",
          "name": "stdout",
          "text": [
            "[1, 2, 3, 4, 4, 5, 6, 7]\n",
            "[4, 5, 6, 7]\n"
          ]
        }
      ]
    },
    {
      "cell_type": "code",
      "source": [
        "l=[1,2,3,4,5,6.7]\n",
        "l.remove(2)\n",
        "print(l)\n"
      ],
      "metadata": {
        "id": "FtV_Kxk20Pii",
        "colab": {
          "base_uri": "https://localhost:8080/"
        },
        "outputId": "74564cc0-f27f-46c9-f134-fdd07c6dca46"
      },
      "execution_count": null,
      "outputs": [
        {
          "output_type": "stream",
          "name": "stdout",
          "text": [
            "[1, 3, 4, 5, 6.7]\n"
          ]
        }
      ]
    },
    {
      "cell_type": "code",
      "source": [
        "l.remove(4)\n",
        "print(l)"
      ],
      "metadata": {
        "colab": {
          "base_uri": "https://localhost:8080/"
        },
        "id": "nbmfZzhr6j1h",
        "outputId": "f6046da0-c51e-4a92-b415-38425e135fe8"
      },
      "execution_count": null,
      "outputs": [
        {
          "output_type": "stream",
          "name": "stdout",
          "text": [
            "[1, 3, 5, 6.7]\n"
          ]
        }
      ]
    },
    {
      "cell_type": "code",
      "source": [
        "#pop is remove retrun last element\n",
        "a=[1,2,3,4,5]\n",
        "l=a.remove(1)\n",
        "print(l)"
      ],
      "metadata": {
        "colab": {
          "base_uri": "https://localhost:8080/"
        },
        "id": "jeHu6d6o6jyB",
        "outputId": "d90a7303-46e1-4058-ee16-b8fa88e7715d"
      },
      "execution_count": null,
      "outputs": [
        {
          "output_type": "stream",
          "name": "stdout",
          "text": [
            "None\n"
          ]
        }
      ]
    },
    {
      "cell_type": "code",
      "source": [
        "a=[1,2,3,4,5]\n",
        "print(\"orginal list\",a)\n",
        "l=a.pop()\n",
        "print(\"Element remove is\" ,l)\n",
        "print(\"new list is\", a)"
      ],
      "metadata": {
        "colab": {
          "base_uri": "https://localhost:8080/"
        },
        "id": "lirP0nfj6jv7",
        "outputId": "54c2a492-06eb-41f4-dedf-7d35f5ecf37d"
      },
      "execution_count": null,
      "outputs": [
        {
          "output_type": "stream",
          "name": "stdout",
          "text": [
            "orginal list [1, 2, 3, 4, 5]\n",
            "Element remove is 5\n",
            "new list is [1, 2, 3, 4]\n"
          ]
        }
      ]
    },
    {
      "cell_type": "code",
      "source": [
        "# aliasing concept\n",
        "x=[10,20,30,40]\n",
        "y=x\n",
        "id(x)\n"
      ],
      "metadata": {
        "colab": {
          "base_uri": "https://localhost:8080/"
        },
        "id": "1Gemjoma6jsI",
        "outputId": "6c689fc0-9588-444a-89e1-8af0d7728b75"
      },
      "execution_count": null,
      "outputs": [
        {
          "output_type": "execute_result",
          "data": {
            "text/plain": [
              "135466671291968"
            ]
          },
          "metadata": {},
          "execution_count": 36
        }
      ]
    },
    {
      "cell_type": "code",
      "source": [
        "id(y)"
      ],
      "metadata": {
        "colab": {
          "base_uri": "https://localhost:8080/"
        },
        "id": "6imwwbIY7xSG",
        "outputId": "15408510-0ba8-4088-d244-5b435accb33b"
      },
      "execution_count": null,
      "outputs": [
        {
          "output_type": "execute_result",
          "data": {
            "text/plain": [
              "135466671291968"
            ]
          },
          "metadata": {},
          "execution_count": 37
        }
      ]
    },
    {
      "cell_type": "code",
      "source": [
        "x"
      ],
      "metadata": {
        "colab": {
          "base_uri": "https://localhost:8080/"
        },
        "id": "ZEy5yX-07xOg",
        "outputId": "3e964e9f-ba1d-4f63-cb55-bbd3bcade7a9"
      },
      "execution_count": null,
      "outputs": [
        {
          "output_type": "execute_result",
          "data": {
            "text/plain": [
              "[10, 20, 30, 40]"
            ]
          },
          "metadata": {},
          "execution_count": 38
        }
      ]
    },
    {
      "cell_type": "code",
      "source": [
        "y"
      ],
      "metadata": {
        "colab": {
          "base_uri": "https://localhost:8080/"
        },
        "id": "s79-kb3V7xMf",
        "outputId": "9065e5f7-bcc6-49a5-a6ea-8bcc47d4e9b0"
      },
      "execution_count": null,
      "outputs": [
        {
          "output_type": "execute_result",
          "data": {
            "text/plain": [
              "[10, 20, 30, 40]"
            ]
          },
          "metadata": {},
          "execution_count": 39
        }
      ]
    },
    {
      "cell_type": "code",
      "source": [
        " # cloing\n",
        " #slicin\n",
        " #copy\n",
        "c=[10,20,30,40,50]\n",
        "d=c[:]"
      ],
      "metadata": {
        "id": "JUd5cQ3bUaDH"
      },
      "execution_count": null,
      "outputs": []
    },
    {
      "cell_type": "code",
      "source": [
        "print(c)"
      ],
      "metadata": {
        "colab": {
          "base_uri": "https://localhost:8080/"
        },
        "id": "-EO4CjO1UZ_z",
        "outputId": "91016395-6d6e-4088-9279-e9e178ee4bb9"
      },
      "execution_count": null,
      "outputs": [
        {
          "output_type": "stream",
          "name": "stdout",
          "text": [
            "[10, 20, 30, 40, 50]\n"
          ]
        }
      ]
    },
    {
      "cell_type": "code",
      "source": [
        "print(b)"
      ],
      "metadata": {
        "colab": {
          "base_uri": "https://localhost:8080/"
        },
        "id": "wlTmwOW2UZ9f",
        "outputId": "903631ac-6e7c-46c9-f2ca-c47c0bbbdb12"
      },
      "execution_count": null,
      "outputs": [
        {
          "output_type": "stream",
          "name": "stdout",
          "text": [
            "[10, 20, 30, 40, 50]\n"
          ]
        }
      ]
    },
    {
      "cell_type": "code",
      "source": [
        "x=[1,\"mishra\",3,40]"
      ],
      "metadata": {
        "id": "NsyUeU5tUZ7M"
      },
      "execution_count": null,
      "outputs": []
    },
    {
      "cell_type": "code",
      "source": [
        "id(x)"
      ],
      "metadata": {
        "colab": {
          "base_uri": "https://localhost:8080/"
        },
        "id": "b58BUnwqUZ5e",
        "outputId": "02d965ed-3e4a-45b2-bd72-f3275b2dca90"
      },
      "execution_count": null,
      "outputs": [
        {
          "output_type": "execute_result",
          "data": {
            "text/plain": [
              "135466673112768"
            ]
          },
          "metadata": {},
          "execution_count": 49
        }
      ]
    },
    {
      "cell_type": "code",
      "source": [
        "id(y)"
      ],
      "metadata": {
        "colab": {
          "base_uri": "https://localhost:8080/"
        },
        "id": "AK0QjhzbXgyn",
        "outputId": "17f6daf2-e50b-403a-8e98-3d1bdc923fa9"
      },
      "execution_count": null,
      "outputs": [
        {
          "output_type": "execute_result",
          "data": {
            "text/plain": [
              "135466671291968"
            ]
          },
          "metadata": {},
          "execution_count": 50
        }
      ]
    },
    {
      "cell_type": "code",
      "source": [
        "x"
      ],
      "metadata": {
        "colab": {
          "base_uri": "https://localhost:8080/"
        },
        "id": "KBQM6zxTXj7v",
        "outputId": "b8561aca-7060-4c77-f083-0c6072a893ad"
      },
      "execution_count": null,
      "outputs": [
        {
          "output_type": "execute_result",
          "data": {
            "text/plain": [
              "[1, 'mishra', 3, 40]"
            ]
          },
          "metadata": {},
          "execution_count": 51
        }
      ]
    },
    {
      "cell_type": "code",
      "source": [
        "y"
      ],
      "metadata": {
        "colab": {
          "base_uri": "https://localhost:8080/"
        },
        "id": "hGTsMLvRXj4R",
        "outputId": "c4536952-aed4-4577-d133-03ad2509c3f7"
      },
      "execution_count": null,
      "outputs": [
        {
          "output_type": "execute_result",
          "data": {
            "text/plain": [
              "[10, 20, 30, 40]"
            ]
          },
          "metadata": {},
          "execution_count": 52
        }
      ]
    },
    {
      "cell_type": "code",
      "source": [
        "l1=[1,2,3,4,\"mishra\"]\n",
        "l2=[10,20,3,4,\"neeraj\"]\n",
        "s=l1+l2"
      ],
      "metadata": {
        "id": "oQJqflg3XjyS"
      },
      "execution_count": null,
      "outputs": []
    },
    {
      "cell_type": "code",
      "source": [
        "print(s)"
      ],
      "metadata": {
        "colab": {
          "base_uri": "https://localhost:8080/"
        },
        "id": "OZdy6fH1X85b",
        "outputId": "0f36a449-95e9-4457-beac-44d054b31182"
      },
      "execution_count": null,
      "outputs": [
        {
          "output_type": "stream",
          "name": "stdout",
          "text": [
            "[1, 2, 3, 4, 'mishra', 10, 20, 3, 4, 'neeraj']\n"
          ]
        }
      ]
    },
    {
      "cell_type": "code",
      "source": [
        "# relational opreaters\n",
        "a=[1,2,3]\n",
        "b=[2,3,4]\n",
        "a<b"
      ],
      "metadata": {
        "colab": {
          "base_uri": "https://localhost:8080/"
        },
        "id": "gk92HnvLX8tq",
        "outputId": "cb6d3d84-c5a0-42a4-a5d5-3297048877f4"
      },
      "execution_count": null,
      "outputs": [
        {
          "output_type": "execute_result",
          "data": {
            "text/plain": [
              "True"
            ]
          },
          "metadata": {},
          "execution_count": 6
        }
      ]
    },
    {
      "cell_type": "code",
      "source": [
        "a=[1,2,3,4]\n",
        "b=[2,3,4]\n",
        "a<b"
      ],
      "metadata": {
        "colab": {
          "base_uri": "https://localhost:8080/"
        },
        "id": "phrwDkHzCMNA",
        "outputId": "c1c46b24-4e0c-4667-b572-0c24febcbeeb"
      },
      "execution_count": null,
      "outputs": [
        {
          "output_type": "execute_result",
          "data": {
            "text/plain": [
              "True"
            ]
          },
          "metadata": {},
          "execution_count": 7
        }
      ]
    },
    {
      "cell_type": "code",
      "source": [
        "a=[1,2,3,4]\n",
        "b=[2,3,4]\n",
        "a>b"
      ],
      "metadata": {
        "colab": {
          "base_uri": "https://localhost:8080/"
        },
        "id": "4_kH3gQgCMJn",
        "outputId": "116fc6ee-916d-4da6-812a-d009bf0a336e"
      },
      "execution_count": null,
      "outputs": [
        {
          "output_type": "execute_result",
          "data": {
            "text/plain": [
              "False"
            ]
          },
          "metadata": {},
          "execution_count": 8
        }
      ]
    },
    {
      "cell_type": "code",
      "source": [
        "a=[1,2,3,4]\n",
        "b=[2,3,4]\n",
        "a.clear()"
      ],
      "metadata": {
        "id": "7YRwVds7CMII"
      },
      "execution_count": null,
      "outputs": []
    },
    {
      "cell_type": "code",
      "source": [
        "a"
      ],
      "metadata": {
        "colab": {
          "base_uri": "https://localhost:8080/"
        },
        "id": "z4b7WCJACMFw",
        "outputId": "62ddb15b-8314-4e4b-9b24-a2e9ad740ad1"
      },
      "execution_count": null,
      "outputs": [
        {
          "output_type": "execute_result",
          "data": {
            "text/plain": [
              "[]"
            ]
          },
          "metadata": {},
          "execution_count": 10
        }
      ]
    },
    {
      "cell_type": "code",
      "source": [
        "a=[[1,2,3],[4,5,6]] #2D list 2 rows 3 column\n",
        "b=[[1,2,3],[4,5]]   #2d list in python\n",
        "\n",
        "print(a)\n",
        "print(b)"
      ],
      "metadata": {
        "colab": {
          "base_uri": "https://localhost:8080/"
        },
        "id": "YvWGZMRsCMEH",
        "outputId": "c2ce4cb1-42a6-4bb1-a9bf-16c393f36fec"
      },
      "execution_count": null,
      "outputs": [
        {
          "output_type": "stream",
          "name": "stdout",
          "text": [
            "[[1, 2, 3], [4, 5, 6]]\n",
            "[[1, 2, 3], [4, 5]]\n"
          ]
        }
      ]
    },
    {
      "cell_type": "code",
      "source": [
        "a[0]"
      ],
      "metadata": {
        "colab": {
          "base_uri": "https://localhost:8080/"
        },
        "id": "Tx8H3eJuCz-D",
        "outputId": "6ccd0d7d-b521-4279-fa6d-d1ee9be037e5"
      },
      "execution_count": null,
      "outputs": [
        {
          "output_type": "execute_result",
          "data": {
            "text/plain": [
              "[1, 2, 3]"
            ]
          },
          "metadata": {},
          "execution_count": 14
        }
      ]
    },
    {
      "cell_type": "code",
      "source": [
        "b[1]"
      ],
      "metadata": {
        "colab": {
          "base_uri": "https://localhost:8080/"
        },
        "id": "_jfNHSqhCz6s",
        "outputId": "a0a5654d-2931-454d-9d1e-8ef143b4415c"
      },
      "execution_count": null,
      "outputs": [
        {
          "output_type": "execute_result",
          "data": {
            "text/plain": [
              "[4, 5]"
            ]
          },
          "metadata": {},
          "execution_count": 15
        }
      ]
    },
    {
      "cell_type": "code",
      "source": [
        "dimension =input().split()\n",
        "m=int(dimension[0]) #row\n",
        "n=int(dimension[1]) #column\n",
        "l=[]\n",
        "for i in range(m):# need not to worry about n3\n",
        "  new_row=[ int(i) for i in input().split()]\n",
        "  l.append(new_row)\n",
        "print(l)\n",
        "\n",
        "\n"
      ],
      "metadata": {
        "colab": {
          "base_uri": "https://localhost:8080/"
        },
        "id": "Lhdv8DviCz34",
        "outputId": "85899a97-897c-401b-c0c5-f235a46309d9"
      },
      "execution_count": null,
      "outputs": [
        {
          "output_type": "stream",
          "name": "stdout",
          "text": [
            "3 4\n",
            "2 3 4 5 \n",
            " 4 5 6 7\n",
            "6  7 8 9\n",
            "[[2, 3, 4, 5], [4, 5, 6, 7], [6, 7, 8, 9]]\n"
          ]
        }
      ]
    },
    {
      "cell_type": "code",
      "source": [
        "dimension =input().split()\n",
        "m=int(dimension[0]) #row\n",
        "n=int(dimension[1])\n",
        "list_in_1d=[int(i) for i in input().split()]                                  #column\n",
        "l=[]\n",
        "for i in range(m):\n",
        "  begin=n*i\n",
        "  end=n*(i+1)\n",
        "  new_row=list_in_1d[begin:end]\n",
        "  l.append(new_row)\n",
        "print(l)"
      ],
      "metadata": {
        "colab": {
          "base_uri": "https://localhost:8080/"
        },
        "id": "C4NcgP0_Cz0A",
        "outputId": "1f9e090d-c10b-499b-b1e8-1cac81313350"
      },
      "execution_count": null,
      "outputs": [
        {
          "output_type": "stream",
          "name": "stdout",
          "text": [
            "3 4\n",
            "1 2 3 4 5 6 7 8 0 0 0   0\n",
            "[[1, 2, 3, 4], [5, 6, 7, 8], [0, 0, 0, 0]]\n"
          ]
        }
      ]
    },
    {
      "cell_type": "code",
      "source": [],
      "metadata": {
        "id": "vzyUpMJyCzyX"
      },
      "execution_count": null,
      "outputs": []
    },
    {
      "cell_type": "markdown",
      "source": [
        "**SET AND TUPLES**"
      ],
      "metadata": {
        "id": "t2LoEYUPvSzm"
      }
    },
    {
      "cell_type": "code",
      "source": [
        "a= 1  ,2\n",
        "print(type(a))"
      ],
      "metadata": {
        "colab": {
          "base_uri": "https://localhost:8080/"
        },
        "id": "9od68IA9EQaT",
        "outputId": "f53dfc80-87b8-4b83-8649-ee801860ca3d"
      },
      "execution_count": null,
      "outputs": [
        {
          "output_type": "stream",
          "name": "stdout",
          "text": [
            "<class 'tuple'>\n"
          ]
        }
      ]
    },
    {
      "cell_type": "code",
      "source": [
        "b=()\n",
        "print(type(b))"
      ],
      "metadata": {
        "colab": {
          "base_uri": "https://localhost:8080/"
        },
        "id": "4M9nQHNhEQW9",
        "outputId": "eb91c086-5692-40f4-8626-b18e30e0119e"
      },
      "execution_count": null,
      "outputs": [
        {
          "output_type": "stream",
          "name": "stdout",
          "text": [
            "<class 'tuple'>\n"
          ]
        }
      ]
    },
    {
      "cell_type": "code",
      "source": [
        "a=(10+20)*30\n",
        "print(a)\n",
        "b=(10+20) * (30)\n",
        "print(b)"
      ],
      "metadata": {
        "colab": {
          "base_uri": "https://localhost:8080/"
        },
        "id": "JFuh_PbYEQUR",
        "outputId": "64762822-ba19-4b22-b317-51480b190175"
      },
      "execution_count": null,
      "outputs": [
        {
          "output_type": "stream",
          "name": "stdout",
          "text": [
            "900\n",
            "900\n"
          ]
        }
      ]
    },
    {
      "cell_type": "code",
      "source": [
        "# prenthises used expression used by value\n",
        "#prenthesess value of it\n"
      ],
      "metadata": {
        "id": "dqcz9YJvEQRs"
      },
      "execution_count": null,
      "outputs": []
    },
    {
      "cell_type": "code",
      "source": [
        "t=(10)\n",
        "print(type(t))"
      ],
      "metadata": {
        "colab": {
          "base_uri": "https://localhost:8080/"
        },
        "id": "1HnSYomACzwb",
        "outputId": "22ff6806-e917-488c-dbab-c1af35799590"
      },
      "execution_count": null,
      "outputs": [
        {
          "output_type": "stream",
          "name": "stdout",
          "text": [
            "<class 'int'>\n"
          ]
        }
      ]
    },
    {
      "cell_type": "code",
      "source": [
        "# with single  element with tuple\n",
        "t=()\n",
        "s=(1,)\n",
        "a=(1,2,3,4,5)\n",
        "b=tuple([1,2,3,4,5])\n",
        "c=tuple(\"mishra\")\n",
        "print(t,s,a,b,c)"
      ],
      "metadata": {
        "colab": {
          "base_uri": "https://localhost:8080/"
        },
        "id": "GX2B-PqXFTC4",
        "outputId": "8fbf1e2f-403a-4bdd-ba75-b61e46b8e7e9"
      },
      "execution_count": null,
      "outputs": [
        {
          "output_type": "stream",
          "name": "stdout",
          "text": [
            "() (1,) (1, 2, 3, 4, 5) (1, 2, 3, 4, 5) ('m', 'i', 's', 'h', 'r', 'a')\n"
          ]
        }
      ]
    },
    {
      "cell_type": "code",
      "source": [
        "a=(1,2,3)\n",
        "a=a*3\n",
        "a"
      ],
      "metadata": {
        "colab": {
          "base_uri": "https://localhost:8080/"
        },
        "id": "z-fKrJJFFS_g",
        "outputId": "f515e1bc-730a-4dbc-9878-02704d11841a"
      },
      "execution_count": null,
      "outputs": [
        {
          "output_type": "execute_result",
          "data": {
            "text/plain": [
              "(1, 2, 3, 1, 2, 3, 1, 2, 3)"
            ]
          },
          "metadata": {},
          "execution_count": 15
        }
      ]
    },
    {
      "cell_type": "code",
      "source": [
        "a=(1,2,3)\n",
        "b=(1,2,3)\n",
        "c=a+b\n",
        "print(c)"
      ],
      "metadata": {
        "colab": {
          "base_uri": "https://localhost:8080/"
        },
        "id": "xlReEUY8FS4P",
        "outputId": "e839b3f4-1ee2-41a4-af72-42446a954895"
      },
      "execution_count": null,
      "outputs": [
        {
          "output_type": "stream",
          "name": "stdout",
          "text": [
            "(1, 2, 3, 1, 2, 3)\n"
          ]
        }
      ]
    },
    {
      "cell_type": "code",
      "source": [
        "# indexing and slicing\n",
        "a=(1,2,3,\"mishra\")\n",
        "a[0]"
      ],
      "metadata": {
        "colab": {
          "base_uri": "https://localhost:8080/"
        },
        "id": "LkUOrGm-FS2G",
        "outputId": "23b340fd-4e1f-47c0-dd6a-e9d459a56db6"
      },
      "execution_count": null,
      "outputs": [
        {
          "output_type": "execute_result",
          "data": {
            "text/plain": [
              "1"
            ]
          },
          "metadata": {},
          "execution_count": 17
        }
      ]
    },
    {
      "cell_type": "code",
      "source": [
        "a=(1,2,3,1,11,1,1,1,1,1,1,1,1,11,1)"
      ],
      "metadata": {
        "id": "qNs2S1RS17XS"
      },
      "execution_count": null,
      "outputs": []
    },
    {
      "cell_type": "code",
      "source": [
        "print(a.count(1))"
      ],
      "metadata": {
        "colab": {
          "base_uri": "https://localhost:8080/"
        },
        "id": "Hk-Q0Ncizyso",
        "outputId": "5258af1b-acaa-42d2-807b-e41650bca5a0"
      },
      "execution_count": null,
      "outputs": [
        {
          "output_type": "stream",
          "name": "stdout",
          "text": [
            "11\n"
          ]
        }
      ]
    },
    {
      "cell_type": "code",
      "source": [
        "a =10\n",
        "b=\"mishra\"\n",
        "c=20\n",
        "d=12.35\n",
        "t=a,b,c,d\n",
        "print(t)"
      ],
      "metadata": {
        "colab": {
          "base_uri": "https://localhost:8080/"
        },
        "id": "VpHhOqGzzynD",
        "outputId": "3ea5a5b0-0ba8-4555-9211-a794c646245f"
      },
      "execution_count": null,
      "outputs": [
        {
          "output_type": "stream",
          "name": "stdout",
          "text": [
            "(10, 'mishra', 20, 12.35)\n"
          ]
        }
      ]
    },
    {
      "cell_type": "code",
      "source": [],
      "metadata": {
        "id": "xWlsbNplzylT"
      },
      "execution_count": null,
      "outputs": []
    },
    {
      "cell_type": "markdown",
      "source": [
        "***sets***"
      ],
      "metadata": {
        "id": "5X_LfVhnURPg"
      }
    },
    {
      "cell_type": "code",
      "source": [
        "s =set()\n",
        "print(type(s))"
      ],
      "metadata": {
        "colab": {
          "base_uri": "https://localhost:8080/"
        },
        "id": "cuj9wCS3zyi8",
        "outputId": "887c2b90-5912-4c6a-a5de-06c1414af715"
      },
      "execution_count": null,
      "outputs": [
        {
          "output_type": "stream",
          "name": "stdout",
          "text": [
            "<class 'set'>\n"
          ]
        }
      ]
    },
    {
      "cell_type": "code",
      "source": [
        "s=set(\"Mishra\")\n",
        "print(s)"
      ],
      "metadata": {
        "colab": {
          "base_uri": "https://localhost:8080/"
        },
        "id": "vUiQYwrI1y3I",
        "outputId": "96b1fb96-f2ad-42f5-aa7c-d94d94ff9ca9"
      },
      "execution_count": null,
      "outputs": [
        {
          "output_type": "stream",
          "name": "stdout",
          "text": [
            "{'i', 's', 'r', 'h', 'M', 'a'}\n"
          ]
        }
      ]
    },
    {
      "cell_type": "code",
      "source": [
        "s=set([1,2,34,5,6,7,8])\n",
        "print(s)"
      ],
      "metadata": {
        "colab": {
          "base_uri": "https://localhost:8080/"
        },
        "id": "O67YL-A2VIUG",
        "outputId": "a302c1d9-edb3-4f0b-947b-d05dd7cbc8b4"
      },
      "execution_count": null,
      "outputs": [
        {
          "output_type": "stream",
          "name": "stdout",
          "text": [
            "{1, 2, 34, 5, 6, 7, 8}\n"
          ]
        }
      ]
    },
    {
      "cell_type": "code",
      "source": [
        "a=set(range(1,10))\n",
        "print(a)"
      ],
      "metadata": {
        "colab": {
          "base_uri": "https://localhost:8080/"
        },
        "id": "gdY4As_YVIRH",
        "outputId": "9e7a0f60-e60c-448e-cb80-a6d5125aa256"
      },
      "execution_count": null,
      "outputs": [
        {
          "output_type": "stream",
          "name": "stdout",
          "text": [
            "{1, 2, 3, 4, 5, 6, 7, 8, 9}\n"
          ]
        }
      ]
    },
    {
      "cell_type": "code",
      "source": [],
      "metadata": {
        "id": "8bAbgbwBVIP6"
      },
      "execution_count": null,
      "outputs": []
    },
    {
      "cell_type": "markdown",
      "source": [
        "**DICTIONARY**"
      ],
      "metadata": {
        "id": "gyZ61WVNtmxK"
      }
    },
    {
      "cell_type": "code",
      "source": [
        "d={}\n",
        "print(type(d))"
      ],
      "metadata": {
        "id": "U09Wm-3tVIOi",
        "colab": {
          "base_uri": "https://localhost:8080/"
        },
        "outputId": "05e99428-a528-4a78-e2a2-0681950c37d3"
      },
      "execution_count": null,
      "outputs": [
        {
          "output_type": "stream",
          "name": "stdout",
          "text": [
            "<class 'dict'>\n"
          ]
        }
      ]
    },
    {
      "cell_type": "code",
      "source": [
        "d={1:\"amit\", 2:\"anita\",3:\"aman\"}\n",
        "type(d)"
      ],
      "metadata": {
        "id": "_TIc60lrVINa",
        "colab": {
          "base_uri": "https://localhost:8080/"
        },
        "outputId": "0e52ede9-061e-47c7-de86-a7704f21238d"
      },
      "execution_count": null,
      "outputs": [
        {
          "output_type": "execute_result",
          "data": {
            "text/plain": [
              "dict"
            ]
          },
          "metadata": {},
          "execution_count": 2
        }
      ]
    },
    {
      "cell_type": "code",
      "source": [
        "d"
      ],
      "metadata": {
        "id": "8QQ0oNeIVIMK",
        "colab": {
          "base_uri": "https://localhost:8080/"
        },
        "outputId": "75739ac2-d19d-43c3-a97c-30ed6003d04a"
      },
      "execution_count": null,
      "outputs": [
        {
          "output_type": "execute_result",
          "data": {
            "text/plain": [
              "{1: 'amit', 2: 'anita', 3: 'aman'}"
            ]
          },
          "metadata": {},
          "execution_count": 3
        }
      ]
    },
    {
      "cell_type": "code",
      "source": [
        "(1,\"mishra\")\n",
        "(2,\"virat\")\n",
        "(3,\"amit\")\n",
        "l=[(1,\"mishra\"),(2,\"virat\"),(3,\"amit\")]\n",
        "d=dict(l)\n",
        "\n"
      ],
      "metadata": {
        "id": "YO29VIeeVIIH"
      },
      "execution_count": null,
      "outputs": []
    },
    {
      "cell_type": "code",
      "source": [
        "d=dict.fromkeys([\"mishar\",12,34.5])\n",
        "d"
      ],
      "metadata": {
        "id": "XCACQsMIVIDg",
        "colab": {
          "base_uri": "https://localhost:8080/"
        },
        "outputId": "5da1638b-b047-42ad-fb05-b82029f3b029"
      },
      "execution_count": null,
      "outputs": [
        {
          "output_type": "execute_result",
          "data": {
            "text/plain": [
              "{'mishar': None, 12: None, 34.5: None}"
            ]
          },
          "metadata": {},
          "execution_count": 7
        }
      ]
    },
    {
      "cell_type": "code",
      "source": [
        "d=dict.fromkeys([\"mishar\",12,34.5], 0)\n",
        "d"
      ],
      "metadata": {
        "id": "K88by7dOVH_1",
        "colab": {
          "base_uri": "https://localhost:8080/"
        },
        "outputId": "f4a87341-48cc-4660-a7eb-7cad2f0d787e"
      },
      "execution_count": null,
      "outputs": [
        {
          "output_type": "execute_result",
          "data": {
            "text/plain": [
              "{'mishar': 0, 12: 0, 34.5: 0}"
            ]
          },
          "metadata": {},
          "execution_count": 9
        }
      ]
    },
    {
      "cell_type": "code",
      "source": [
        "d={1:\"mishra\", 2:\"mishra\", 3:\"amit\"}\n",
        "d.values()"
      ],
      "metadata": {
        "id": "UuAmmd_6VH-G",
        "colab": {
          "base_uri": "https://localhost:8080/"
        },
        "outputId": "b27eb524-87c0-447b-e061-c7f3853eae84"
      },
      "execution_count": null,
      "outputs": [
        {
          "output_type": "execute_result",
          "data": {
            "text/plain": [
              "dict_values(['mishra', 'mishra', 'amit'])"
            ]
          },
          "metadata": {},
          "execution_count": 12
        }
      ]
    },
    {
      "cell_type": "code",
      "source": [
        "d.items()"
      ],
      "metadata": {
        "colab": {
          "base_uri": "https://localhost:8080/"
        },
        "id": "xwQT18tZvNm2",
        "outputId": "122e7d5d-66f0-427d-9df9-8a838a30dfcd"
      },
      "execution_count": null,
      "outputs": [
        {
          "output_type": "execute_result",
          "data": {
            "text/plain": [
              "dict_items([(1, 'mishra'), (2, 'mishra'), (3, 'amit')])"
            ]
          },
          "metadata": {},
          "execution_count": 14
        }
      ]
    },
    {
      "cell_type": "code",
      "source": [
        "# how to itreate on dict\n",
        "for x in d:\n",
        "  print(x)\n"
      ],
      "metadata": {
        "colab": {
          "base_uri": "https://localhost:8080/"
        },
        "id": "aE5w4kuzvNji",
        "outputId": "706ccdfd-8451-4a5f-c7c6-a5a062e99129"
      },
      "execution_count": null,
      "outputs": [
        {
          "output_type": "stream",
          "name": "stdout",
          "text": [
            "1\n",
            "2\n",
            "3\n"
          ]
        }
      ]
    },
    {
      "cell_type": "code",
      "source": [
        "for x in d:\n",
        "  print(x,d[x])"
      ],
      "metadata": {
        "colab": {
          "base_uri": "https://localhost:8080/"
        },
        "id": "_dkPkoSNvNhq",
        "outputId": "da4f2b89-70ec-461b-f83c-f7a81d16ff67"
      },
      "execution_count": null,
      "outputs": [
        {
          "output_type": "stream",
          "name": "stdout",
          "text": [
            "1 mishra\n",
            "2 mishra\n",
            "3 amit\n"
          ]
        }
      ]
    },
    {
      "cell_type": "code",
      "source": [
        "a={1:2,2:'mishra',3:'amit',4:34.5}\n",
        "b={1:'arun', 3:89, 5:12}\n",
        "b.update(a)\n",
        "b"
      ],
      "metadata": {
        "colab": {
          "base_uri": "https://localhost:8080/"
        },
        "id": "FTNey4yqvNfW",
        "outputId": "9b4230f6-c3cb-4277-ae74-ce5528ca5014"
      },
      "execution_count": null,
      "outputs": [
        {
          "output_type": "execute_result",
          "data": {
            "text/plain": [
              "{1: 2, 3: 'amit', 5: 12, 2: 'mishra', 4: 34.5}"
            ]
          },
          "metadata": {},
          "execution_count": 21
        }
      ]
    },
    {
      "cell_type": "code",
      "source": [
        "d={1,2,3,4,4}\n",
        "print(2 in d)"
      ],
      "metadata": {
        "colab": {
          "base_uri": "https://localhost:8080/"
        },
        "id": "EQvNyntXvNd2",
        "outputId": "28727de3-3d27-49ba-adcd-3940ce496e53"
      },
      "execution_count": null,
      "outputs": [
        {
          "output_type": "stream",
          "name": "stdout",
          "text": [
            "True\n"
          ]
        }
      ]
    },
    {
      "cell_type": "code",
      "source": [
        "d={1:'amit',2:'mishra',3:12.34}\n",
        "del d[1]"
      ],
      "metadata": {
        "id": "CR4mheFBvNbe"
      },
      "execution_count": null,
      "outputs": []
    },
    {
      "cell_type": "code",
      "source": [
        "d"
      ],
      "metadata": {
        "colab": {
          "base_uri": "https://localhost:8080/"
        },
        "id": "8LUHTo4Nxaug",
        "outputId": "f897f228-deda-4c82-fa0b-e8be53679560"
      },
      "execution_count": null,
      "outputs": [
        {
          "output_type": "execute_result",
          "data": {
            "text/plain": [
              "{2: 'mishra', 3: 12.34}"
            ]
          },
          "metadata": {},
          "execution_count": 24
        }
      ]
    },
    {
      "cell_type": "code",
      "source": [
        "del d[100] # no value"
      ],
      "metadata": {
        "colab": {
          "base_uri": "https://localhost:8080/",
          "height": 141
        },
        "id": "ddbPUN8JxarG",
        "outputId": "cfb391c4-57c8-46a3-ea0c-fa6443ed4772"
      },
      "execution_count": null,
      "outputs": [
        {
          "output_type": "error",
          "ename": "KeyError",
          "evalue": "100",
          "traceback": [
            "\u001b[0;31m---------------------------------------------------------------------------\u001b[0m",
            "\u001b[0;31mKeyError\u001b[0m                                  Traceback (most recent call last)",
            "\u001b[0;32m<ipython-input-25-4ca1cf6f5437>\u001b[0m in \u001b[0;36m<cell line: 1>\u001b[0;34m()\u001b[0m\n\u001b[0;32m----> 1\u001b[0;31m \u001b[0;32mdel\u001b[0m \u001b[0md\u001b[0m\u001b[0;34m[\u001b[0m\u001b[0;36m100\u001b[0m\u001b[0;34m]\u001b[0m\u001b[0;34m\u001b[0m\u001b[0;34m\u001b[0m\u001b[0m\n\u001b[0m",
            "\u001b[0;31mKeyError\u001b[0m: 100"
          ]
        }
      ]
    },
    {
      "cell_type": "code",
      "source": [
        "a={1:'amit',2:'mishra',3:12.34}\n",
        "a.clear()"
      ],
      "metadata": {
        "id": "YoUb0DtSxaoM"
      },
      "execution_count": null,
      "outputs": []
    },
    {
      "cell_type": "code",
      "source": [
        "a"
      ],
      "metadata": {
        "colab": {
          "base_uri": "https://localhost:8080/"
        },
        "id": "SCmL1X47xakS",
        "outputId": "6a7246f9-d2a7-43a2-d884-f1e9ad4be083"
      },
      "execution_count": null,
      "outputs": [
        {
          "output_type": "execute_result",
          "data": {
            "text/plain": [
              "{}"
            ]
          },
          "metadata": {},
          "execution_count": 27
        }
      ]
    },
    {
      "cell_type": "code",
      "source": [
        "#lem()\n",
        "#get()\n",
        "# clear()\n",
        "# dict()\n",
        "#pop()\n",
        "a={1:'amir',2:'mishra',3:12.34}\n",
        "a.pop(1)"
      ],
      "metadata": {
        "colab": {
          "base_uri": "https://localhost:8080/",
          "height": 35
        },
        "id": "VUWlxaW42xrX",
        "outputId": "ed4ebb25-bd7d-4b6a-fdb7-622d23fd5bac"
      },
      "execution_count": null,
      "outputs": [
        {
          "output_type": "execute_result",
          "data": {
            "text/plain": [
              "'amir'"
            ],
            "application/vnd.google.colaboratory.intrinsic+json": {
              "type": "string"
            }
          },
          "metadata": {},
          "execution_count": 29
        }
      ]
    },
    {
      "cell_type": "code",
      "source": [
        "a={1:'amit',2:'mishra',3:12.34}\n",
        "a.popitem()"
      ],
      "metadata": {
        "colab": {
          "base_uri": "https://localhost:8080/"
        },
        "id": "Btdv8YGH2xn_",
        "outputId": "ae6e8c3a-37eb-4fbc-a655-1c3f84dc18d8"
      },
      "execution_count": null,
      "outputs": [
        {
          "output_type": "execute_result",
          "data": {
            "text/plain": [
              "(3, 12.34)"
            ]
          },
          "metadata": {},
          "execution_count": 32
        }
      ]
    },
    {
      "cell_type": "code",
      "source": [
        "s=int(input())\n",
        "l=list(s)\n",
        "d={}\n",
        "for ele in l:\n",
        "  d[ele] =d.get(ele, 0) +1"
      ],
      "metadata": {
        "colab": {
          "base_uri": "https://localhost:8080/",
          "height": 228
        },
        "id": "e65agzto2xkQ",
        "outputId": "417e330f-5a52-4edc-fbf9-ba35646daae1"
      },
      "execution_count": null,
      "outputs": [
        {
          "name": "stdout",
          "output_type": "stream",
          "text": [
            "tghjkl;'\n"
          ]
        },
        {
          "output_type": "error",
          "ename": "ValueError",
          "evalue": "invalid literal for int() with base 10: \"tghjkl;'\"",
          "traceback": [
            "\u001b[0;31m---------------------------------------------------------------------------\u001b[0m",
            "\u001b[0;31mValueError\u001b[0m                                Traceback (most recent call last)",
            "\u001b[0;32m<ipython-input-35-362634b237d2>\u001b[0m in \u001b[0;36m<cell line: 1>\u001b[0;34m()\u001b[0m\n\u001b[0;32m----> 1\u001b[0;31m \u001b[0ms\u001b[0m\u001b[0;34m=\u001b[0m\u001b[0mint\u001b[0m\u001b[0;34m(\u001b[0m\u001b[0minput\u001b[0m\u001b[0;34m(\u001b[0m\u001b[0;34m)\u001b[0m\u001b[0;34m)\u001b[0m\u001b[0;34m\u001b[0m\u001b[0;34m\u001b[0m\u001b[0m\n\u001b[0m\u001b[1;32m      2\u001b[0m \u001b[0ml\u001b[0m\u001b[0;34m=\u001b[0m\u001b[0mlist\u001b[0m\u001b[0;34m(\u001b[0m\u001b[0ms\u001b[0m\u001b[0;34m)\u001b[0m\u001b[0;34m\u001b[0m\u001b[0;34m\u001b[0m\u001b[0m\n\u001b[1;32m      3\u001b[0m \u001b[0md\u001b[0m\u001b[0;34m=\u001b[0m\u001b[0;34m{\u001b[0m\u001b[0;34m}\u001b[0m\u001b[0;34m\u001b[0m\u001b[0;34m\u001b[0m\u001b[0m\n\u001b[1;32m      4\u001b[0m \u001b[0;32mfor\u001b[0m \u001b[0mele\u001b[0m \u001b[0;32min\u001b[0m \u001b[0ml\u001b[0m\u001b[0;34m:\u001b[0m\u001b[0;34m\u001b[0m\u001b[0;34m\u001b[0m\u001b[0m\n\u001b[1;32m      5\u001b[0m   \u001b[0md\u001b[0m\u001b[0;34m[\u001b[0m\u001b[0mele\u001b[0m\u001b[0;34m]\u001b[0m \u001b[0;34m=\u001b[0m\u001b[0md\u001b[0m\u001b[0;34m.\u001b[0m\u001b[0mget\u001b[0m\u001b[0;34m(\u001b[0m\u001b[0mele\u001b[0m\u001b[0;34m,\u001b[0m \u001b[0;36m0\u001b[0m\u001b[0;34m)\u001b[0m \u001b[0;34m+\u001b[0m\u001b[0;36m1\u001b[0m\u001b[0;34m\u001b[0m\u001b[0;34m\u001b[0m\u001b[0m\n",
            "\u001b[0;31mValueError\u001b[0m: invalid literal for int() with base 10: \"tghjkl;'\""
          ]
        }
      ]
    },
    {
      "cell_type": "code",
      "source": [],
      "metadata": {
        "id": "Ejw2XMGbKZWR"
      },
      "execution_count": null,
      "outputs": []
    },
    {
      "cell_type": "code",
      "source": [
        "s=\"geeks\"\n",
        "print(s[::-1])"
      ],
      "metadata": {
        "colab": {
          "base_uri": "https://localhost:8080/"
        },
        "id": "8oYI8yV_5Q2i",
        "outputId": "f4f9686b-20c7-4e3b-d2a0-01e2bf6ebfcc"
      },
      "execution_count": null,
      "outputs": [
        {
          "output_type": "stream",
          "name": "stdout",
          "text": [
            "skeeg\n"
          ]
        }
      ]
    },
    {
      "cell_type": "code",
      "source": [
        "def factorial(n):\n",
        "  prod=1\n",
        "  for i in range(1, n+1):\n",
        "    prod=prod*i\n",
        "  return prod\n"
      ],
      "metadata": {
        "id": "cqLTECWB5Q6J"
      },
      "execution_count": null,
      "outputs": []
    },
    {
      "cell_type": "code",
      "source": [
        "x=factorial(6)\n",
        "print(x)"
      ],
      "metadata": {
        "id": "j5dBrnxw3jh8",
        "colab": {
          "base_uri": "https://localhost:8080/"
        },
        "outputId": "4f338fb0-8a1c-48a6-f95e-c72c53b142f3"
      },
      "execution_count": null,
      "outputs": [
        {
          "output_type": "stream",
          "name": "stdout",
          "text": [
            "720\n"
          ]
        }
      ]
    },
    {
      "cell_type": "code",
      "source": [
        "print(factorial(4))"
      ],
      "metadata": {
        "id": "hzoEqvL73jej",
        "colab": {
          "base_uri": "https://localhost:8080/"
        },
        "outputId": "45389499-dcf7-4697-bbc1-1313a70a5fe3"
      },
      "execution_count": null,
      "outputs": [
        {
          "output_type": "stream",
          "name": "stdout",
          "text": [
            "24\n"
          ]
        }
      ]
    },
    {
      "cell_type": "code",
      "source": [
        "for n in range(1,11):\n",
        "  print(factorial(n))\n"
      ],
      "metadata": {
        "id": "HHWRd13V3jbj",
        "colab": {
          "base_uri": "https://localhost:8080/"
        },
        "outputId": "a84704b6-548f-434d-912d-3dc349dcc3e6"
      },
      "execution_count": null,
      "outputs": [
        {
          "output_type": "stream",
          "name": "stdout",
          "text": [
            "1\n",
            "2\n",
            "6\n",
            "24\n",
            "120\n",
            "720\n",
            "5040\n",
            "40320\n",
            "362880\n",
            "3628800\n"
          ]
        }
      ]
    },
    {
      "cell_type": "code",
      "source": [
        "x=factorial()"
      ],
      "metadata": {
        "id": "Eb2RkcNO3jY6",
        "colab": {
          "base_uri": "https://localhost:8080/",
          "height": 141
        },
        "outputId": "6cf702be-5f54-4915-f87a-ba7ecc614f6b"
      },
      "execution_count": null,
      "outputs": [
        {
          "output_type": "error",
          "ename": "TypeError",
          "evalue": "factorial() missing 1 required positional argument: 'n'",
          "traceback": [
            "\u001b[0;31m---------------------------------------------------------------------------\u001b[0m",
            "\u001b[0;31mTypeError\u001b[0m                                 Traceback (most recent call last)",
            "\u001b[0;32m<ipython-input-12-55f28f27e481>\u001b[0m in \u001b[0;36m<cell line: 1>\u001b[0;34m()\u001b[0m\n\u001b[0;32m----> 1\u001b[0;31m \u001b[0mx\u001b[0m\u001b[0;34m=\u001b[0m\u001b[0mfactorial\u001b[0m\u001b[0;34m(\u001b[0m\u001b[0;34m)\u001b[0m\u001b[0;34m\u001b[0m\u001b[0;34m\u001b[0m\u001b[0m\n\u001b[0m",
            "\u001b[0;31mTypeError\u001b[0m: factorial() missing 1 required positional argument: 'n'"
          ]
        }
      ]
    },
    {
      "cell_type": "code",
      "source": [
        "factorial(4) # we are calling a function"
      ],
      "metadata": {
        "id": "P4BtJ3n03jVs",
        "colab": {
          "base_uri": "https://localhost:8080/"
        },
        "outputId": "eb394ba9-fad8-4527-85b2-cd274d65b92d"
      },
      "execution_count": null,
      "outputs": [
        {
          "output_type": "execute_result",
          "data": {
            "text/plain": [
              "24"
            ]
          },
          "metadata": {},
          "execution_count": 14
        }
      ]
    },
    {
      "cell_type": "code",
      "source": [
        "# while calling a funcion , if the function contain parameters and we are not para\n",
        "# those parameters ===> error"
      ],
      "metadata": {
        "id": "ucqBUBVZ3jSN"
      },
      "execution_count": null,
      "outputs": []
    },
    {
      "cell_type": "code",
      "source": [
        "def mul(a, b):\n",
        "  x=a*b\n",
        "  return x\n"
      ],
      "metadata": {
        "id": "ykmTd0sd3jPX"
      },
      "execution_count": null,
      "outputs": []
    },
    {
      "cell_type": "code",
      "source": [
        "print(mul(10, 20))"
      ],
      "metadata": {
        "id": "bRZePfXD3jNu",
        "colab": {
          "base_uri": "https://localhost:8080/"
        },
        "outputId": "9c17cf6a-883b-488c-e38d-0acd6eb1dc65"
      },
      "execution_count": null,
      "outputs": [
        {
          "output_type": "stream",
          "name": "stdout",
          "text": [
            "200\n"
          ]
        }
      ]
    },
    {
      "cell_type": "code",
      "source": [
        "mul(10, 90)"
      ],
      "metadata": {
        "id": "XXuN40iN7vMb",
        "colab": {
          "base_uri": "https://localhost:8080/"
        },
        "outputId": "be338923-4fa7-407c-e2b9-29b412ac4255"
      },
      "execution_count": null,
      "outputs": [
        {
          "output_type": "execute_result",
          "data": {
            "text/plain": [
              "900"
            ]
          },
          "metadata": {},
          "execution_count": 23
        }
      ]
    },
    {
      "cell_type": "code",
      "source": [
        "def Isprime(n):\n",
        "\n",
        "  for i in range(2, n):\n",
        "    if n%i==0:\n",
        "      break\n",
        "  else :\n",
        "    return True\n",
        "  return False\n",
        "\n"
      ],
      "metadata": {
        "id": "PS6evJ447vJB"
      },
      "execution_count": null,
      "outputs": []
    },
    {
      "cell_type": "code",
      "source": [
        "Isprime(9)"
      ],
      "metadata": {
        "id": "R2KldLou7vGb",
        "colab": {
          "base_uri": "https://localhost:8080/"
        },
        "outputId": "7dc928e1-c5a4-4b16-e8e4-08b5129f3638"
      },
      "execution_count": null,
      "outputs": [
        {
          "output_type": "execute_result",
          "data": {
            "text/plain": [
              "False"
            ]
          },
          "metadata": {},
          "execution_count": 36
        }
      ]
    },
    {
      "cell_type": "code",
      "source": [
        "Isprime(2)"
      ],
      "metadata": {
        "colab": {
          "base_uri": "https://localhost:8080/"
        },
        "id": "qbE0h4vLjy75",
        "outputId": "fe66b79a-2ffe-4659-b414-3af548d2570e"
      },
      "execution_count": null,
      "outputs": [
        {
          "output_type": "execute_result",
          "data": {
            "text/plain": [
              "True"
            ]
          },
          "metadata": {},
          "execution_count": 30
        }
      ]
    },
    {
      "cell_type": "code",
      "source": [
        "Isprime(4)"
      ],
      "metadata": {
        "colab": {
          "base_uri": "https://localhost:8080/"
        },
        "id": "z-WT3i3wjy4V",
        "outputId": "87e0b0e8-99d1-4076-b1f3-5e8511d6f10b"
      },
      "execution_count": null,
      "outputs": [
        {
          "output_type": "execute_result",
          "data": {
            "text/plain": [
              "False"
            ]
          },
          "metadata": {},
          "execution_count": 31
        }
      ]
    },
    {
      "cell_type": "code",
      "source": [
        "for i in range(10, 101):\n",
        "  if Isprime(i):\n",
        "    print(i, \"is prime\")\n",
        "\n",
        "# printing all prime number from 10 to 100"
      ],
      "metadata": {
        "colab": {
          "base_uri": "https://localhost:8080/"
        },
        "id": "Q09oPkMLjy2J",
        "outputId": "2638e05b-feac-4857-92b7-3a158abfa3af"
      },
      "execution_count": null,
      "outputs": [
        {
          "output_type": "stream",
          "name": "stdout",
          "text": [
            "11 is prime\n",
            "13 is prime\n",
            "17 is prime\n",
            "19 is prime\n",
            "23 is prime\n",
            "29 is prime\n",
            "31 is prime\n",
            "37 is prime\n",
            "41 is prime\n",
            "43 is prime\n",
            "47 is prime\n",
            "53 is prime\n",
            "59 is prime\n",
            "61 is prime\n",
            "67 is prime\n",
            "71 is prime\n",
            "73 is prime\n",
            "79 is prime\n",
            "83 is prime\n",
            "89 is prime\n",
            "97 is prime\n"
          ]
        }
      ]
    },
    {
      "cell_type": "code",
      "source": [
        "def Twice(n):\n",
        "  n=2*n\n",
        "i=2\n",
        "Twice(i)\n",
        "print(i)"
      ],
      "metadata": {
        "colab": {
          "base_uri": "https://localhost:8080/"
        },
        "id": "crhdTI3Cjyy_",
        "outputId": "eaa1b8d0-8b77-4d3a-94a5-d537b1902bc5"
      },
      "execution_count": null,
      "outputs": [
        {
          "output_type": "stream",
          "name": "stdout",
          "text": [
            "2\n"
          ]
        }
      ]
    },
    {
      "cell_type": "code",
      "source": [
        "def Twice(l):\n",
        "  for i in range(len(l)):\n",
        "    l[i]=l[i]*2\n",
        "\n",
        "l1=[1,2,3,4,5]\n",
        "Twice(l1)\n",
        "print(l1)"
      ],
      "metadata": {
        "colab": {
          "base_uri": "https://localhost:8080/"
        },
        "id": "xfIEhMeOjyvU",
        "outputId": "14ddf2a3-828b-4627-ac86-4938956e8497"
      },
      "execution_count": null,
      "outputs": [
        {
          "output_type": "stream",
          "name": "stdout",
          "text": [
            "[2, 4, 6, 8, 10]\n"
          ]
        }
      ]
    },
    {
      "cell_type": "code",
      "source": [
        "def twice(s):\n",
        "  s=s*2\n",
        "x =\"mishra\"\n",
        "twice(x)\n",
        "print(x)"
      ],
      "metadata": {
        "colab": {
          "base_uri": "https://localhost:8080/"
        },
        "id": "ky91QMDev0Uv",
        "outputId": "11e1d249-210f-43b7-c40f-9d64a8641c48"
      },
      "execution_count": null,
      "outputs": [
        {
          "output_type": "stream",
          "name": "stdout",
          "text": [
            "mishra\n"
          ]
        }
      ]
    },
    {
      "cell_type": "code",
      "source": [
        "def f():\n",
        "  a=12  #local to functions\n",
        "  a=a+2\n",
        "  print(a)\n",
        "f()\n",
        "print(a)"
      ],
      "metadata": {
        "colab": {
          "base_uri": "https://localhost:8080/",
          "height": 193
        },
        "id": "r8ZTCwTSv0Sr",
        "outputId": "26066241-15d8-4309-ae72-6cc358fe1fc6"
      },
      "execution_count": null,
      "outputs": [
        {
          "output_type": "stream",
          "name": "stdout",
          "text": [
            "14\n"
          ]
        },
        {
          "output_type": "error",
          "ename": "NameError",
          "evalue": "name 'a' is not defined",
          "traceback": [
            "\u001b[0;31m---------------------------------------------------------------------------\u001b[0m",
            "\u001b[0;31mNameError\u001b[0m                                 Traceback (most recent call last)",
            "\u001b[0;32m<ipython-input-46-3213ef09bb37>\u001b[0m in \u001b[0;36m<cell line: 6>\u001b[0;34m()\u001b[0m\n\u001b[1;32m      4\u001b[0m   \u001b[0mprint\u001b[0m\u001b[0;34m(\u001b[0m\u001b[0ma\u001b[0m\u001b[0;34m)\u001b[0m\u001b[0;34m\u001b[0m\u001b[0;34m\u001b[0m\u001b[0m\n\u001b[1;32m      5\u001b[0m \u001b[0mf\u001b[0m\u001b[0;34m(\u001b[0m\u001b[0;34m)\u001b[0m\u001b[0;34m\u001b[0m\u001b[0;34m\u001b[0m\u001b[0m\n\u001b[0;32m----> 6\u001b[0;31m \u001b[0mprint\u001b[0m\u001b[0;34m(\u001b[0m\u001b[0ma\u001b[0m\u001b[0;34m)\u001b[0m\u001b[0;34m\u001b[0m\u001b[0;34m\u001b[0m\u001b[0m\n\u001b[0m",
            "\u001b[0;31mNameError\u001b[0m: name 'a' is not defined"
          ]
        }
      ]
    },
    {
      "cell_type": "code",
      "source": [
        "a=1111111 #global\n",
        "def f():\n",
        "  a1=10  #local to functions\n",
        "  print(a1)\n",
        "f()\n",
        "print(a)"
      ],
      "metadata": {
        "colab": {
          "base_uri": "https://localhost:8080/"
        },
        "id": "tlDN3Kj_v0RJ",
        "outputId": "0cec4e13-91ab-430d-8e0e-b1be6042b7ba"
      },
      "execution_count": null,
      "outputs": [
        {
          "output_type": "stream",
          "name": "stdout",
          "text": [
            "10\n",
            "1111111\n"
          ]
        }
      ]
    },
    {
      "cell_type": "code",
      "source": [
        "x=10 #global\n",
        "def f():\n",
        "  y=200\n",
        "  print(y)\n",
        "  print(x)\n",
        "x=234\n",
        "f()\n",
        "print(x)"
      ],
      "metadata": {
        "colab": {
          "base_uri": "https://localhost:8080/"
        },
        "id": "fjgHXmOowzhU",
        "outputId": "2df6eebf-8925-4f4c-af97-668b5e4c66b5"
      },
      "execution_count": null,
      "outputs": [
        {
          "output_type": "stream",
          "name": "stdout",
          "text": [
            "200\n",
            "234\n",
            "234\n"
          ]
        }
      ]
    },
    {
      "cell_type": "markdown",
      "source": [
        "**DIFFRENT TYPE OF ARGUMENTS IN FUNCTION**"
      ],
      "metadata": {
        "id": "GYB-IwpSFFfi"
      }
    },
    {
      "cell_type": "code",
      "source": [
        "def f(a, b):\n",
        "  return a+b, a-b"
      ],
      "metadata": {
        "id": "JHaKeDrf3JJu"
      },
      "execution_count": null,
      "outputs": []
    },
    {
      "cell_type": "code",
      "source": [
        "x,y=f(10,20)"
      ],
      "metadata": {
        "id": "OKNRhqBu3JGi"
      },
      "execution_count": null,
      "outputs": []
    },
    {
      "cell_type": "code",
      "source": [
        "x"
      ],
      "metadata": {
        "colab": {
          "base_uri": "https://localhost:8080/"
        },
        "id": "lm2srdlp3JEa",
        "outputId": "3958c3c3-c9b1-4b9b-9dd5-369260a6c10b"
      },
      "execution_count": null,
      "outputs": [
        {
          "output_type": "execute_result",
          "data": {
            "text/plain": [
              "30"
            ]
          },
          "metadata": {},
          "execution_count": 56
        }
      ]
    },
    {
      "cell_type": "code",
      "source": [
        "y"
      ],
      "metadata": {
        "colab": {
          "base_uri": "https://localhost:8080/"
        },
        "id": "2sc9Ddwn3JCy",
        "outputId": "45748b1f-50c0-4ef1-a5c5-de153c21c878"
      },
      "execution_count": null,
      "outputs": [
        {
          "output_type": "execute_result",
          "data": {
            "text/plain": [
              "-10"
            ]
          },
          "metadata": {},
          "execution_count": 57
        }
      ]
    },
    {
      "cell_type": "code",
      "source": [
        "type(f(1,2))"
      ],
      "metadata": {
        "colab": {
          "base_uri": "https://localhost:8080/"
        },
        "id": "W_lSplhP3I_d",
        "outputId": "484ef450-6d8b-406f-bc54-094a7c976cad"
      },
      "execution_count": null,
      "outputs": [
        {
          "output_type": "execute_result",
          "data": {
            "text/plain": [
              "tuple"
            ]
          },
          "metadata": {},
          "execution_count": 58
        }
      ]
    },
    {
      "cell_type": "code",
      "source": [
        "def f(a,b,c):\n",
        "  return a+b-c\n",
        "f(10,20,30)"
      ],
      "metadata": {
        "colab": {
          "base_uri": "https://localhost:8080/"
        },
        "id": "LkZcLm2F3I9D",
        "outputId": "2229761c-e42d-4070-deec-936011f4f87a"
      },
      "execution_count": null,
      "outputs": [
        {
          "output_type": "execute_result",
          "data": {
            "text/plain": [
              "0"
            ]
          },
          "metadata": {},
          "execution_count": 60
        }
      ]
    },
    {
      "cell_type": "code",
      "source": [
        "f(20,10,30)"
      ],
      "metadata": {
        "colab": {
          "base_uri": "https://localhost:8080/"
        },
        "id": "ddAmggZk3I7W",
        "outputId": "e5c3641a-0cb1-4829-94e4-bf578be5c46d"
      },
      "execution_count": null,
      "outputs": [
        {
          "output_type": "execute_result",
          "data": {
            "text/plain": [
              "0"
            ]
          },
          "metadata": {},
          "execution_count": 61
        }
      ]
    },
    {
      "cell_type": "code",
      "source": [
        "f(30,10,20)"
      ],
      "metadata": {
        "colab": {
          "base_uri": "https://localhost:8080/"
        },
        "id": "eg0YOTym3I5e",
        "outputId": "5c482a06-6bee-4d6e-f70f-e15beacb265d"
      },
      "execution_count": null,
      "outputs": [
        {
          "output_type": "execute_result",
          "data": {
            "text/plain": [
              "20"
            ]
          },
          "metadata": {},
          "execution_count": 62
        }
      ]
    },
    {
      "cell_type": "code",
      "source": [
        "f(10) # no of arguments"
      ],
      "metadata": {
        "colab": {
          "base_uri": "https://localhost:8080/",
          "height": 141
        },
        "id": "MU_QRmQbJVu4",
        "outputId": "7c6cf3b5-8843-454f-d279-e688b27c36f1"
      },
      "execution_count": null,
      "outputs": [
        {
          "output_type": "error",
          "ename": "TypeError",
          "evalue": "f() missing 2 required positional arguments: 'b' and 'c'",
          "traceback": [
            "\u001b[0;31m---------------------------------------------------------------------------\u001b[0m",
            "\u001b[0;31mTypeError\u001b[0m                                 Traceback (most recent call last)",
            "\u001b[0;32m<ipython-input-63-442218de3cba>\u001b[0m in \u001b[0;36m<cell line: 1>\u001b[0;34m()\u001b[0m\n\u001b[0;32m----> 1\u001b[0;31m \u001b[0mf\u001b[0m\u001b[0;34m(\u001b[0m\u001b[0;36m10\u001b[0m\u001b[0;34m)\u001b[0m\u001b[0;34m\u001b[0m\u001b[0;34m\u001b[0m\u001b[0m\n\u001b[0m",
            "\u001b[0;31mTypeError\u001b[0m: f() missing 2 required positional arguments: 'b' and 'c'"
          ]
        }
      ]
    },
    {
      "cell_type": "code",
      "source": [
        "# f(name,age,dob,add,metrial_status, phone_number)"
      ],
      "metadata": {
        "id": "93hm0-MtJVrk"
      },
      "execution_count": null,
      "outputs": []
    },
    {
      "cell_type": "code",
      "source": [
        "#call  ====) f(age=34, name=\"mishra\")"
      ],
      "metadata": {
        "id": "v9A5TjsPJVqF"
      },
      "execution_count": null,
      "outputs": []
    },
    {
      "cell_type": "code",
      "source": [
        "def f(a,b,c,d):\n",
        "  return a*b/c-d\n",
        "f(10,20,30,40)"
      ],
      "metadata": {
        "id": "WA9x82tQJVnX",
        "colab": {
          "base_uri": "https://localhost:8080/"
        },
        "outputId": "97c68dd4-72a8-48ce-8556-f62a538d0ee8"
      },
      "execution_count": null,
      "outputs": [
        {
          "output_type": "execute_result",
          "data": {
            "text/plain": [
              "-33.333333333333336"
            ]
          },
          "metadata": {},
          "execution_count": 64
        }
      ]
    },
    {
      "cell_type": "code",
      "source": [
        "f(30,20,10,40)"
      ],
      "metadata": {
        "id": "GYueB_ZcJVlb",
        "colab": {
          "base_uri": "https://localhost:8080/"
        },
        "outputId": "8243bc84-0890-4657-f0ea-10a42b940bd3"
      },
      "execution_count": null,
      "outputs": [
        {
          "output_type": "execute_result",
          "data": {
            "text/plain": [
              "20.0"
            ]
          },
          "metadata": {},
          "execution_count": 65
        }
      ]
    },
    {
      "cell_type": "code",
      "source": [
        "f(d=40, c=30, a=10, b =20)"
      ],
      "metadata": {
        "colab": {
          "base_uri": "https://localhost:8080/"
        },
        "id": "qstmN-r4LcmT",
        "outputId": "f5e451b6-d3e9-455c-c86e-d33c6b1afe75"
      },
      "execution_count": null,
      "outputs": [
        {
          "output_type": "execute_result",
          "data": {
            "text/plain": [
              "-33.333333333333336"
            ]
          },
          "metadata": {},
          "execution_count": 66
        }
      ]
    },
    {
      "cell_type": "code",
      "source": [
        "def sum (a,b):\n",
        "  return a+b\n",
        "sum(10,20)\n",
        "\n"
      ],
      "metadata": {
        "colab": {
          "base_uri": "https://localhost:8080/"
        },
        "id": "RWHVSpKILmrh",
        "outputId": "8044170a-b7e6-41be-c655-0b2d9c50b3f9"
      },
      "execution_count": null,
      "outputs": [
        {
          "output_type": "execute_result",
          "data": {
            "text/plain": [
              "30"
            ]
          },
          "metadata": {},
          "execution_count": 68
        }
      ]
    },
    {
      "cell_type": "code",
      "source": [
        "sum(10,20,30)  # only acpect two arguments"
      ],
      "metadata": {
        "colab": {
          "base_uri": "https://localhost:8080/",
          "height": 141
        },
        "id": "1IqIhaRGLmoH",
        "outputId": "b268efd3-8eab-46ec-c68b-993952cf0638"
      },
      "execution_count": null,
      "outputs": [
        {
          "output_type": "error",
          "ename": "TypeError",
          "evalue": "sum() takes 2 positional arguments but 3 were given",
          "traceback": [
            "\u001b[0;31m---------------------------------------------------------------------------\u001b[0m",
            "\u001b[0;31mTypeError\u001b[0m                                 Traceback (most recent call last)",
            "\u001b[0;32m<ipython-input-69-e7ab4573c74f>\u001b[0m in \u001b[0;36m<cell line: 1>\u001b[0;34m()\u001b[0m\n\u001b[0;32m----> 1\u001b[0;31m \u001b[0msum\u001b[0m\u001b[0;34m(\u001b[0m\u001b[0;36m10\u001b[0m\u001b[0;34m,\u001b[0m\u001b[0;36m20\u001b[0m\u001b[0;34m,\u001b[0m\u001b[0;36m30\u001b[0m\u001b[0;34m)\u001b[0m\u001b[0;34m\u001b[0m\u001b[0;34m\u001b[0m\u001b[0m\n\u001b[0m",
            "\u001b[0;31mTypeError\u001b[0m: sum() takes 2 positional arguments but 3 were given"
          ]
        }
      ]
    },
    {
      "cell_type": "code",
      "source": [
        "def sum (a,b,c):\n",
        "  return a+b+c\n",
        "sum(10,20,40)"
      ],
      "metadata": {
        "colab": {
          "base_uri": "https://localhost:8080/"
        },
        "id": "II0XmUplLmmG",
        "outputId": "e77f253d-4f8d-4f53-c57b-92785e0545be"
      },
      "execution_count": null,
      "outputs": [
        {
          "output_type": "execute_result",
          "data": {
            "text/plain": [
              "70"
            ]
          },
          "metadata": {},
          "execution_count": 70
        }
      ]
    },
    {
      "cell_type": "code",
      "source": [
        "def f(*n):\n",
        "  sum=0\n",
        "  for ele in n:\n",
        "    sum=sum+ele\n",
        "  return sum\n"
      ],
      "metadata": {
        "id": "d2ARCUbLLmkO"
      },
      "execution_count": null,
      "outputs": []
    },
    {
      "cell_type": "code",
      "source": [
        "f()"
      ],
      "metadata": {
        "colab": {
          "base_uri": "https://localhost:8080/"
        },
        "id": "qZOs12pILmiF",
        "outputId": "0226b55e-d4b2-49fa-ca5a-8b0d4d8ebaa8"
      },
      "execution_count": null,
      "outputs": [
        {
          "output_type": "execute_result",
          "data": {
            "text/plain": [
              "0"
            ]
          },
          "metadata": {},
          "execution_count": 72
        }
      ]
    },
    {
      "cell_type": "code",
      "source": [
        "f(10,20,30)"
      ],
      "metadata": {
        "colab": {
          "base_uri": "https://localhost:8080/"
        },
        "id": "AfKDLbOkLmgT",
        "outputId": "e1abf79b-bf05-42a8-d4db-06499b458430"
      },
      "execution_count": null,
      "outputs": [
        {
          "output_type": "execute_result",
          "data": {
            "text/plain": [
              "60"
            ]
          },
          "metadata": {},
          "execution_count": 73
        }
      ]
    },
    {
      "cell_type": "code",
      "source": [
        "f(10,20,39.4,56,78)"
      ],
      "metadata": {
        "colab": {
          "base_uri": "https://localhost:8080/"
        },
        "id": "ibnzIGehLmeL",
        "outputId": "ba0f58c5-9b68-4769-ef41-2b011e7f322e"
      },
      "execution_count": null,
      "outputs": [
        {
          "output_type": "execute_result",
          "data": {
            "text/plain": [
              "203.4"
            ]
          },
          "metadata": {},
          "execution_count": 74
        }
      ]
    },
    {
      "cell_type": "code",
      "source": [
        "def f1(*n):\n",
        "  for ele in n:\n",
        "    print(ele)"
      ],
      "metadata": {
        "id": "_wL4f7c8Lmaf"
      },
      "execution_count": null,
      "outputs": []
    },
    {
      "cell_type": "code",
      "source": [
        "f1()"
      ],
      "metadata": {
        "id": "3lDlL71MLmY7"
      },
      "execution_count": null,
      "outputs": []
    },
    {
      "cell_type": "code",
      "source": [
        "f1(1,12,23,\"mishra\", 45)"
      ],
      "metadata": {
        "colab": {
          "base_uri": "https://localhost:8080/"
        },
        "id": "RXJmrqziLmW1",
        "outputId": "7a7e0a84-49dd-4ecd-a350-06ca6deeaa78"
      },
      "execution_count": null,
      "outputs": [
        {
          "output_type": "stream",
          "name": "stdout",
          "text": [
            "1\n",
            "12\n",
            "23\n",
            "mishra\n",
            "45\n"
          ]
        }
      ]
    },
    {
      "cell_type": "code",
      "source": [
        "def f(**kwargs):\n",
        "  for k,v in kwargs.items():\n",
        "\n",
        "    print(\"key is\", k, \"value is\", v)\n"
      ],
      "metadata": {
        "id": "r80mlwLsZthr"
      },
      "execution_count": null,
      "outputs": []
    },
    {
      "cell_type": "code",
      "source": [
        "f(a=1, b='mishra', c=12.34, d=[1,2,3,4])"
      ],
      "metadata": {
        "colab": {
          "base_uri": "https://localhost:8080/"
        },
        "id": "i3lLHUo0Ztfi",
        "outputId": "8d205d9e-4bae-47d4-f389-97212031f84a"
      },
      "execution_count": null,
      "outputs": [
        {
          "output_type": "stream",
          "name": "stdout",
          "text": [
            "key is a value is 1\n",
            "key is b value is mishra\n",
            "key is c value is 12.34\n",
            "key is d value is [1, 2, 3, 4]\n"
          ]
        }
      ]
    },
    {
      "cell_type": "code",
      "source": [
        "f(a=1, b='mishra')"
      ],
      "metadata": {
        "colab": {
          "base_uri": "https://localhost:8080/"
        },
        "id": "j2GwN2uIZtc-",
        "outputId": "8b76e3c4-4da9-4e16-9888-bfedccb5b35c"
      },
      "execution_count": null,
      "outputs": [
        {
          "output_type": "stream",
          "name": "stdout",
          "text": [
            "key is a value is 1\n",
            "key is b value is mishra\n"
          ]
        }
      ]
    },
    {
      "cell_type": "code",
      "source": [
        "s=lambda x : x*x*x"
      ],
      "metadata": {
        "id": "81kKYo4wZtZe"
      },
      "execution_count": 2,
      "outputs": []
    },
    {
      "cell_type": "code",
      "source": [
        "print(s(4))"
      ],
      "metadata": {
        "colab": {
          "base_uri": "https://localhost:8080/"
        },
        "id": "P3_tPws86ecw",
        "outputId": "353bcc97-3a55-4941-b26d-5a0db53730a8"
      },
      "execution_count": 3,
      "outputs": [
        {
          "output_type": "stream",
          "name": "stdout",
          "text": [
            "64\n"
          ]
        }
      ]
    },
    {
      "cell_type": "code",
      "source": [
        "def f(a, b):\n",
        "  return a*b\n",
        "print(f(10,28))"
      ],
      "metadata": {
        "colab": {
          "base_uri": "https://localhost:8080/"
        },
        "id": "i6l9u_Pq6eZS",
        "outputId": "92639d73-419d-49d3-b727-22a5caa208f7"
      },
      "execution_count": 4,
      "outputs": [
        {
          "output_type": "stream",
          "name": "stdout",
          "text": [
            "280\n"
          ]
        }
      ]
    },
    {
      "cell_type": "code",
      "source": [
        "f =lambda a, b: a*b\n",
        "print(f(10,20))"
      ],
      "metadata": {
        "colab": {
          "base_uri": "https://localhost:8080/"
        },
        "id": "cgDZ4J_E6eW4",
        "outputId": "d0cbd0fc-f54d-48d9-9dbf-36c7d4338ede"
      },
      "execution_count": 8,
      "outputs": [
        {
          "output_type": "stream",
          "name": "stdout",
          "text": [
            "200\n"
          ]
        }
      ]
    },
    {
      "cell_type": "code",
      "source": [
        "f(30,50)"
      ],
      "metadata": {
        "colab": {
          "base_uri": "https://localhost:8080/"
        },
        "id": "DwoHweo76eTH",
        "outputId": "948e5d99-9aeb-4c73-9793-97bc28d0a36e"
      },
      "execution_count": 9,
      "outputs": [
        {
          "output_type": "execute_result",
          "data": {
            "text/plain": [
              "1500"
            ]
          },
          "metadata": {},
          "execution_count": 9
        }
      ]
    },
    {
      "cell_type": "code",
      "source": [
        "# lambda arguments : expression\n",
        "t =lambda x, y: x  if x < y else y\n",
        "print(t(10, 30))"
      ],
      "metadata": {
        "id": "CS7cm4pWZtWv",
        "colab": {
          "base_uri": "https://localhost:8080/"
        },
        "outputId": "24883d6f-6eaa-47d6-db01-68cae18fc459"
      },
      "execution_count": 12,
      "outputs": [
        {
          "output_type": "stream",
          "name": "stdout",
          "text": [
            "10\n"
          ]
        }
      ]
    },
    {
      "cell_type": "code",
      "source": [
        "def f(x):\n",
        "  if x%3==0:\n",
        "    return True\n",
        "  else:\n",
        "      return False\n",
        "output=list(filter(f,[10,20,30,40,50,63]))"
      ],
      "metadata": {
        "id": "U43FUaxiZtUR"
      },
      "execution_count": 16,
      "outputs": []
    },
    {
      "cell_type": "code",
      "source": [
        "print(output)"
      ],
      "metadata": {
        "id": "97FkM95QZtRs",
        "colab": {
          "base_uri": "https://localhost:8080/"
        },
        "outputId": "53e6626d-d0f5-4960-e616-2e0495f80f7f"
      },
      "execution_count": 17,
      "outputs": [
        {
          "output_type": "stream",
          "name": "stdout",
          "text": [
            "[30, 63]\n"
          ]
        }
      ]
    },
    {
      "cell_type": "code",
      "source": [
        "out =list(filter(lambda x : x%3 ==0 , [10, 20, 30 , 40 , 50, 60]))"
      ],
      "metadata": {
        "id": "GlxQ5VvJCW4d"
      },
      "execution_count": 18,
      "outputs": []
    },
    {
      "cell_type": "code",
      "source": [
        "out"
      ],
      "metadata": {
        "colab": {
          "base_uri": "https://localhost:8080/"
        },
        "id": "ej6HleWUCW1D",
        "outputId": "d4a6d0cd-8254-4bfe-dd29-a6a5dc33fb08"
      },
      "execution_count": 20,
      "outputs": [
        {
          "output_type": "execute_result",
          "data": {
            "text/plain": [
              "[30, 60]"
            ]
          },
          "metadata": {},
          "execution_count": 20
        }
      ]
    },
    {
      "cell_type": "code",
      "source": [
        "out=list(map(lambda x: x*x*x,[10,20,30 ,40 ,50]))"
      ],
      "metadata": {
        "id": "dgS6r51TCWxX"
      },
      "execution_count": 22,
      "outputs": []
    },
    {
      "cell_type": "code",
      "source": [
        "out"
      ],
      "metadata": {
        "colab": {
          "base_uri": "https://localhost:8080/"
        },
        "id": "mfKueiZDCWu5",
        "outputId": "2b3d629c-ce24-4234-e47a-96c7a9544761"
      },
      "execution_count": 23,
      "outputs": [
        {
          "output_type": "execute_result",
          "data": {
            "text/plain": [
              "[1000, 8000, 27000, 64000, 125000]"
            ]
          },
          "metadata": {},
          "execution_count": 23
        }
      ]
    },
    {
      "cell_type": "code",
      "source": [],
      "metadata": {
        "id": "NEOQ93U9CWtH"
      },
      "execution_count": null,
      "outputs": []
    },
    {
      "cell_type": "code",
      "source": [],
      "metadata": {
        "id": "d_m4Zi_0CWo_"
      },
      "execution_count": null,
      "outputs": []
    }
  ]
}