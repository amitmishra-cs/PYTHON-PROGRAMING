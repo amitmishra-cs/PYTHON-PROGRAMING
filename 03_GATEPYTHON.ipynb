{
  "nbformat": 4,
  "nbformat_minor": 0,
  "metadata": {
    "colab": {
      "provenance": [],
      "authorship_tag": "ABX9TyP9FXXOJsNF6ntsglg0OS6k",
      "include_colab_link": true
    },
    "kernelspec": {
      "name": "python3",
      "display_name": "Python 3"
    },
    "language_info": {
      "name": "python"
    }
  },
  "cells": [
    {
      "cell_type": "markdown",
      "metadata": {
        "id": "view-in-github",
        "colab_type": "text"
      },
      "source": [
        "<a href=\"https://colab.research.google.com/github/amitmishra-cs/PYTHON-PROGRAMING/blob/main/03_GATEPYTHON.ipynb\" target=\"_parent\"><img src=\"https://colab.research.google.com/assets/colab-badge.svg\" alt=\"Open In Colab\"/></a>"
      ]
    },
    {
      "cell_type": "markdown",
      "source": [
        "**List Concept**"
      ],
      "metadata": {
        "id": "FwVGc273qDi7"
      }
    },
    {
      "cell_type": "code",
      "source": [
        "l =[]\n",
        "print(l)\n",
        "print(type(l))"
      ],
      "metadata": {
        "id": "QsJnieusqJOh",
        "colab": {
          "base_uri": "https://localhost:8080/"
        },
        "outputId": "684c2fbb-8c4a-4542-cf70-3f0dde0961ac"
      },
      "execution_count": null,
      "outputs": [
        {
          "output_type": "stream",
          "name": "stdout",
          "text": [
            "[]\n",
            "<class 'list'>\n"
          ]
        }
      ]
    },
    {
      "cell_type": "code",
      "source": [
        "# using list\n",
        "l =list(range(1,6))\n",
        "print(l)"
      ],
      "metadata": {
        "id": "B40Xu47bqJLH",
        "colab": {
          "base_uri": "https://localhost:8080/"
        },
        "outputId": "a15b9a46-ee1f-4916-9bac-470f0538666e"
      },
      "execution_count": null,
      "outputs": [
        {
          "output_type": "stream",
          "name": "stdout",
          "text": [
            "[1, 2, 3, 4, 5]\n"
          ]
        }
      ]
    },
    {
      "cell_type": "code",
      "source": [
        "l=list(range(1,6,2))\n",
        "print(l)"
      ],
      "metadata": {
        "id": "4yXNLgYgqJG1",
        "colab": {
          "base_uri": "https://localhost:8080/"
        },
        "outputId": "0721ce72-4771-4243-ceda-5c39e07b1085"
      },
      "execution_count": null,
      "outputs": [
        {
          "output_type": "stream",
          "name": "stdout",
          "text": [
            "[1, 3, 5]\n"
          ]
        }
      ]
    },
    {
      "cell_type": "code",
      "source": [
        "l=eval(input(\"enter a list\"))\n",
        "print(l)"
      ],
      "metadata": {
        "id": "gUoe5NQ_qJE8",
        "colab": {
          "base_uri": "https://localhost:8080/"
        },
        "outputId": "eadc1c81-9449-4717-87b0-70d9d95d7862"
      },
      "execution_count": null,
      "outputs": [
        {
          "output_type": "stream",
          "name": "stdout",
          "text": [
            "enter a list[1,2,3,4]\n",
            "[1, 2, 3, 4]\n"
          ]
        }
      ]
    },
    {
      "cell_type": "code",
      "source": [
        "#loop\n",
        "l=[]\n",
        "for i in range(1,6):\n",
        "  l.append(i)\n",
        "print(l)"
      ],
      "metadata": {
        "id": "IqBOqpegqJCr",
        "colab": {
          "base_uri": "https://localhost:8080/"
        },
        "outputId": "6ae406e1-90cf-4a99-dd57-2278e9931909"
      },
      "execution_count": null,
      "outputs": [
        {
          "output_type": "stream",
          "name": "stdout",
          "text": [
            "[1, 2, 3, 4, 5]\n"
          ]
        }
      ]
    },
    {
      "cell_type": "code",
      "source": [
        "l=[ 0 for i in range(5)]\n",
        "print(l)"
      ],
      "metadata": {
        "id": "gocXCQdzqI_P",
        "colab": {
          "base_uri": "https://localhost:8080/"
        },
        "outputId": "d4129fd3-7962-4a2f-a6e0-b3a77bbb4b45"
      },
      "execution_count": null,
      "outputs": [
        {
          "output_type": "stream",
          "name": "stdout",
          "text": [
            "[0, 0, 0, 0, 0]\n"
          ]
        }
      ]
    },
    {
      "cell_type": "code",
      "source": [
        "l=[ i for i in range(5)]\n",
        "print(l)"
      ],
      "metadata": {
        "id": "pNHbJyxzrhSO",
        "colab": {
          "base_uri": "https://localhost:8080/"
        },
        "outputId": "efadc97d-02af-41c3-998d-fc3c148d07ea"
      },
      "execution_count": null,
      "outputs": [
        {
          "output_type": "stream",
          "name": "stdout",
          "text": [
            "[0, 1, 2, 3, 4]\n"
          ]
        }
      ]
    },
    {
      "cell_type": "code",
      "source": [
        "l=[ 2*i for i in range(5)]\n",
        "print(l)"
      ],
      "metadata": {
        "id": "rdxa5oSmrhOp",
        "colab": {
          "base_uri": "https://localhost:8080/"
        },
        "outputId": "9fb350d8-fe99-4899-ef8e-74fffe2c8266"
      },
      "execution_count": null,
      "outputs": [
        {
          "output_type": "stream",
          "name": "stdout",
          "text": [
            "[0, 2, 4, 6, 8]\n"
          ]
        }
      ]
    },
    {
      "cell_type": "code",
      "source": [
        "l=[i*i for i in range(10)]\n",
        "print(l)"
      ],
      "metadata": {
        "id": "R0pGL4KjrhMw"
      },
      "execution_count": null,
      "outputs": []
    },
    {
      "cell_type": "code",
      "source": [
        "# adding element in the list\n",
        "l=[]\n",
        "l.append(100)\n",
        "print(l)"
      ],
      "metadata": {
        "id": "ILR4rGGOrhKw",
        "colab": {
          "base_uri": "https://localhost:8080/"
        },
        "outputId": "c584a9e7-3929-467d-88a9-9ecc61c52225"
      },
      "execution_count": null,
      "outputs": [
        {
          "output_type": "stream",
          "name": "stdout",
          "text": [
            "[100]\n"
          ]
        }
      ]
    },
    {
      "cell_type": "code",
      "source": [
        "l.append(200)\n",
        "print(l)"
      ],
      "metadata": {
        "colab": {
          "base_uri": "https://localhost:8080/"
        },
        "id": "-vrUqHe10Pxy",
        "outputId": "0b281edf-2e6f-495a-81ee-a23e76fcaee5"
      },
      "execution_count": null,
      "outputs": [
        {
          "output_type": "stream",
          "name": "stdout",
          "text": [
            "[100, 200]\n"
          ]
        }
      ]
    },
    {
      "cell_type": "code",
      "source": [
        "l.append(\"Mishra\")\n",
        "print(l)"
      ],
      "metadata": {
        "colab": {
          "base_uri": "https://localhost:8080/"
        },
        "id": "Za6KVBLB0Pua",
        "outputId": "1632a327-7712-4b78-bfcf-419c5fb34b2d"
      },
      "execution_count": null,
      "outputs": [
        {
          "output_type": "stream",
          "name": "stdout",
          "text": [
            "[100, 200, 'Mishra']\n"
          ]
        }
      ]
    },
    {
      "cell_type": "code",
      "source": [
        "l"
      ],
      "metadata": {
        "colab": {
          "base_uri": "https://localhost:8080/"
        },
        "id": "_5bXiYf50PsK",
        "outputId": "8e60e343-75b1-4663-a3a4-1c9b4b791e78"
      },
      "execution_count": null,
      "outputs": [
        {
          "output_type": "execute_result",
          "data": {
            "text/plain": [
              "[100, 200, 'Mishra']"
            ]
          },
          "metadata": {},
          "execution_count": 9
        }
      ]
    },
    {
      "cell_type": "code",
      "source": [
        "l = [i for i in range(5)]"
      ],
      "metadata": {
        "id": "um7jLObY3TdA"
      },
      "execution_count": 19,
      "outputs": []
    },
    {
      "cell_type": "code",
      "source": [
        "l.insert(0,\"neeraj\") # insert at inedx 0\n",
        "print(l)"
      ],
      "metadata": {
        "colab": {
          "base_uri": "https://localhost:8080/"
        },
        "id": "I5jSS6Su2FtM",
        "outputId": "ef573bd1-89f8-4925-c38e-331ba1e99e9b"
      },
      "execution_count": 23,
      "outputs": [
        {
          "output_type": "stream",
          "name": "stdout",
          "text": [
            "['neeraj', 'neeraj', 0, 999, 999, 1, 2, 3, 4]\n"
          ]
        }
      ]
    },
    {
      "cell_type": "code",
      "source": [
        "l.insert(2,999)\n",
        "print(l)"
      ],
      "metadata": {
        "colab": {
          "base_uri": "https://localhost:8080/"
        },
        "id": "xQDg8UdD0PmP",
        "outputId": "ee67e17d-d66c-4ea5-89b5-b100f2952179"
      },
      "execution_count": 22,
      "outputs": [
        {
          "output_type": "stream",
          "name": "stdout",
          "text": [
            "['neeraj', 0, 999, 999, 1, 2, 3, 4]\n"
          ]
        }
      ]
    },
    {
      "cell_type": "code",
      "source": [
        "a =[1,2,3,4]\n",
        "b=[4,5,6,7]\n",
        "a.extend(b)\n",
        "print(a)\n",
        "print(b)"
      ],
      "metadata": {
        "id": "nVaA-PiO0Pkf",
        "colab": {
          "base_uri": "https://localhost:8080/"
        },
        "outputId": "113fa573-11d2-4263-e556-cb5b2e259d02"
      },
      "execution_count": 25,
      "outputs": [
        {
          "output_type": "stream",
          "name": "stdout",
          "text": [
            "[1, 2, 3, 4, 4, 5, 6, 7]\n",
            "[4, 5, 6, 7]\n"
          ]
        }
      ]
    },
    {
      "cell_type": "code",
      "source": [
        "l=[1,2,3,4,5,6.7]\n",
        "l.remove(2)\n",
        "print(l)\n"
      ],
      "metadata": {
        "id": "FtV_Kxk20Pii",
        "colab": {
          "base_uri": "https://localhost:8080/"
        },
        "outputId": "74564cc0-f27f-46c9-f134-fdd07c6dca46"
      },
      "execution_count": 28,
      "outputs": [
        {
          "output_type": "stream",
          "name": "stdout",
          "text": [
            "[1, 3, 4, 5, 6.7]\n"
          ]
        }
      ]
    },
    {
      "cell_type": "code",
      "source": [
        "l.remove(4)\n",
        "print(l)"
      ],
      "metadata": {
        "colab": {
          "base_uri": "https://localhost:8080/"
        },
        "id": "nbmfZzhr6j1h",
        "outputId": "f6046da0-c51e-4a92-b415-38425e135fe8"
      },
      "execution_count": 29,
      "outputs": [
        {
          "output_type": "stream",
          "name": "stdout",
          "text": [
            "[1, 3, 5, 6.7]\n"
          ]
        }
      ]
    },
    {
      "cell_type": "code",
      "source": [
        "#pop is remove retrun last element\n",
        "a=[1,2,3,4,5]\n",
        "l=a.remove(1)\n",
        "print(l)"
      ],
      "metadata": {
        "colab": {
          "base_uri": "https://localhost:8080/"
        },
        "id": "jeHu6d6o6jyB",
        "outputId": "d90a7303-46e1-4058-ee16-b8fa88e7715d"
      },
      "execution_count": 33,
      "outputs": [
        {
          "output_type": "stream",
          "name": "stdout",
          "text": [
            "None\n"
          ]
        }
      ]
    },
    {
      "cell_type": "code",
      "source": [
        "a=[1,2,3,4,5]\n",
        "print(\"orginal list\",a)\n",
        "l=a.pop()\n",
        "print(\"Element remove is\" ,l)\n",
        "print(\"new list is\", a)"
      ],
      "metadata": {
        "colab": {
          "base_uri": "https://localhost:8080/"
        },
        "id": "lirP0nfj6jv7",
        "outputId": "54c2a492-06eb-41f4-dedf-7d35f5ecf37d"
      },
      "execution_count": 35,
      "outputs": [
        {
          "output_type": "stream",
          "name": "stdout",
          "text": [
            "orginal list [1, 2, 3, 4, 5]\n",
            "Element remove is 5\n",
            "new list is [1, 2, 3, 4]\n"
          ]
        }
      ]
    },
    {
      "cell_type": "code",
      "source": [
        "# aliasing concept\n",
        "x=[10,20,30,40]\n",
        "y=x\n",
        "id(x)\n"
      ],
      "metadata": {
        "colab": {
          "base_uri": "https://localhost:8080/"
        },
        "id": "1Gemjoma6jsI",
        "outputId": "6c689fc0-9588-444a-89e1-8af0d7728b75"
      },
      "execution_count": 36,
      "outputs": [
        {
          "output_type": "execute_result",
          "data": {
            "text/plain": [
              "135466671291968"
            ]
          },
          "metadata": {},
          "execution_count": 36
        }
      ]
    },
    {
      "cell_type": "code",
      "source": [
        "id(y)"
      ],
      "metadata": {
        "colab": {
          "base_uri": "https://localhost:8080/"
        },
        "id": "6imwwbIY7xSG",
        "outputId": "15408510-0ba8-4088-d244-5b435accb33b"
      },
      "execution_count": 37,
      "outputs": [
        {
          "output_type": "execute_result",
          "data": {
            "text/plain": [
              "135466671291968"
            ]
          },
          "metadata": {},
          "execution_count": 37
        }
      ]
    },
    {
      "cell_type": "code",
      "source": [
        "x"
      ],
      "metadata": {
        "colab": {
          "base_uri": "https://localhost:8080/"
        },
        "id": "ZEy5yX-07xOg",
        "outputId": "3e964e9f-ba1d-4f63-cb55-bbd3bcade7a9"
      },
      "execution_count": 38,
      "outputs": [
        {
          "output_type": "execute_result",
          "data": {
            "text/plain": [
              "[10, 20, 30, 40]"
            ]
          },
          "metadata": {},
          "execution_count": 38
        }
      ]
    },
    {
      "cell_type": "code",
      "source": [
        "y"
      ],
      "metadata": {
        "colab": {
          "base_uri": "https://localhost:8080/"
        },
        "id": "s79-kb3V7xMf",
        "outputId": "9065e5f7-bcc6-49a5-a6ea-8bcc47d4e9b0"
      },
      "execution_count": 39,
      "outputs": [
        {
          "output_type": "execute_result",
          "data": {
            "text/plain": [
              "[10, 20, 30, 40]"
            ]
          },
          "metadata": {},
          "execution_count": 39
        }
      ]
    },
    {
      "cell_type": "code",
      "source": [
        " # cloing\n",
        " #slicin\n",
        " #copy\n",
        "c=[10,20,30,40,50]\n",
        "d=c[:]"
      ],
      "metadata": {
        "id": "JUd5cQ3bUaDH"
      },
      "execution_count": 45,
      "outputs": []
    },
    {
      "cell_type": "code",
      "source": [
        "print(c)"
      ],
      "metadata": {
        "colab": {
          "base_uri": "https://localhost:8080/"
        },
        "id": "-EO4CjO1UZ_z",
        "outputId": "91016395-6d6e-4088-9279-e9e178ee4bb9"
      },
      "execution_count": 46,
      "outputs": [
        {
          "output_type": "stream",
          "name": "stdout",
          "text": [
            "[10, 20, 30, 40, 50]\n"
          ]
        }
      ]
    },
    {
      "cell_type": "code",
      "source": [
        "print(b)"
      ],
      "metadata": {
        "colab": {
          "base_uri": "https://localhost:8080/"
        },
        "id": "wlTmwOW2UZ9f",
        "outputId": "903631ac-6e7c-46c9-f2ca-c47c0bbbdb12"
      },
      "execution_count": 43,
      "outputs": [
        {
          "output_type": "stream",
          "name": "stdout",
          "text": [
            "[10, 20, 30, 40, 50]\n"
          ]
        }
      ]
    },
    {
      "cell_type": "code",
      "source": [
        "x=[1,\"mishra\",3,40]"
      ],
      "metadata": {
        "id": "NsyUeU5tUZ7M"
      },
      "execution_count": 48,
      "outputs": []
    },
    {
      "cell_type": "code",
      "source": [
        "id(x)"
      ],
      "metadata": {
        "colab": {
          "base_uri": "https://localhost:8080/"
        },
        "id": "b58BUnwqUZ5e",
        "outputId": "02d965ed-3e4a-45b2-bd72-f3275b2dca90"
      },
      "execution_count": 49,
      "outputs": [
        {
          "output_type": "execute_result",
          "data": {
            "text/plain": [
              "135466673112768"
            ]
          },
          "metadata": {},
          "execution_count": 49
        }
      ]
    },
    {
      "cell_type": "code",
      "source": [
        "id(y)"
      ],
      "metadata": {
        "colab": {
          "base_uri": "https://localhost:8080/"
        },
        "id": "AK0QjhzbXgyn",
        "outputId": "17f6daf2-e50b-403a-8e98-3d1bdc923fa9"
      },
      "execution_count": 50,
      "outputs": [
        {
          "output_type": "execute_result",
          "data": {
            "text/plain": [
              "135466671291968"
            ]
          },
          "metadata": {},
          "execution_count": 50
        }
      ]
    },
    {
      "cell_type": "code",
      "source": [
        "x"
      ],
      "metadata": {
        "colab": {
          "base_uri": "https://localhost:8080/"
        },
        "id": "KBQM6zxTXj7v",
        "outputId": "b8561aca-7060-4c77-f083-0c6072a893ad"
      },
      "execution_count": 51,
      "outputs": [
        {
          "output_type": "execute_result",
          "data": {
            "text/plain": [
              "[1, 'mishra', 3, 40]"
            ]
          },
          "metadata": {},
          "execution_count": 51
        }
      ]
    },
    {
      "cell_type": "code",
      "source": [
        "y"
      ],
      "metadata": {
        "colab": {
          "base_uri": "https://localhost:8080/"
        },
        "id": "hGTsMLvRXj4R",
        "outputId": "c4536952-aed4-4577-d133-03ad2509c3f7"
      },
      "execution_count": 52,
      "outputs": [
        {
          "output_type": "execute_result",
          "data": {
            "text/plain": [
              "[10, 20, 30, 40]"
            ]
          },
          "metadata": {},
          "execution_count": 52
        }
      ]
    },
    {
      "cell_type": "code",
      "source": [
        "l1=[1,2,3,4,\"mishra\"]\n",
        "l2=[10,20,3,4,\"neeraj\"]\n",
        "s=l1+l2"
      ],
      "metadata": {
        "id": "oQJqflg3XjyS"
      },
      "execution_count": 3,
      "outputs": []
    },
    {
      "cell_type": "code",
      "source": [
        "print(s)"
      ],
      "metadata": {
        "colab": {
          "base_uri": "https://localhost:8080/"
        },
        "id": "OZdy6fH1X85b",
        "outputId": "0f36a449-95e9-4457-beac-44d054b31182"
      },
      "execution_count": 4,
      "outputs": [
        {
          "output_type": "stream",
          "name": "stdout",
          "text": [
            "[1, 2, 3, 4, 'mishra', 10, 20, 3, 4, 'neeraj']\n"
          ]
        }
      ]
    },
    {
      "cell_type": "code",
      "source": [
        "# relational opreaters\n",
        "a=[1,2,3]\n",
        "b=[2,3,4]\n",
        "a<b"
      ],
      "metadata": {
        "colab": {
          "base_uri": "https://localhost:8080/"
        },
        "id": "gk92HnvLX8tq",
        "outputId": "cb6d3d84-c5a0-42a4-a5d5-3297048877f4"
      },
      "execution_count": 6,
      "outputs": [
        {
          "output_type": "execute_result",
          "data": {
            "text/plain": [
              "True"
            ]
          },
          "metadata": {},
          "execution_count": 6
        }
      ]
    },
    {
      "cell_type": "code",
      "source": [
        "a=[1,2,3,4]\n",
        "b=[2,3,4]\n",
        "a<b"
      ],
      "metadata": {
        "colab": {
          "base_uri": "https://localhost:8080/"
        },
        "id": "phrwDkHzCMNA",
        "outputId": "c1c46b24-4e0c-4667-b572-0c24febcbeeb"
      },
      "execution_count": 7,
      "outputs": [
        {
          "output_type": "execute_result",
          "data": {
            "text/plain": [
              "True"
            ]
          },
          "metadata": {},
          "execution_count": 7
        }
      ]
    },
    {
      "cell_type": "code",
      "source": [
        "a=[1,2,3,4]\n",
        "b=[2,3,4]\n",
        "a>b"
      ],
      "metadata": {
        "colab": {
          "base_uri": "https://localhost:8080/"
        },
        "id": "4_kH3gQgCMJn",
        "outputId": "116fc6ee-916d-4da6-812a-d009bf0a336e"
      },
      "execution_count": 8,
      "outputs": [
        {
          "output_type": "execute_result",
          "data": {
            "text/plain": [
              "False"
            ]
          },
          "metadata": {},
          "execution_count": 8
        }
      ]
    },
    {
      "cell_type": "code",
      "source": [
        "a=[1,2,3,4]\n",
        "b=[2,3,4]\n",
        "a.clear()"
      ],
      "metadata": {
        "id": "7YRwVds7CMII"
      },
      "execution_count": 9,
      "outputs": []
    },
    {
      "cell_type": "code",
      "source": [
        "a"
      ],
      "metadata": {
        "colab": {
          "base_uri": "https://localhost:8080/"
        },
        "id": "z4b7WCJACMFw",
        "outputId": "62ddb15b-8314-4e4b-9b24-a2e9ad740ad1"
      },
      "execution_count": 10,
      "outputs": [
        {
          "output_type": "execute_result",
          "data": {
            "text/plain": [
              "[]"
            ]
          },
          "metadata": {},
          "execution_count": 10
        }
      ]
    },
    {
      "cell_type": "code",
      "source": [],
      "metadata": {
        "id": "YvWGZMRsCMEH"
      },
      "execution_count": null,
      "outputs": []
    },
    {
      "cell_type": "code",
      "source": [],
      "metadata": {
        "id": "Tx8H3eJuCz-D"
      },
      "execution_count": null,
      "outputs": []
    },
    {
      "cell_type": "code",
      "source": [],
      "metadata": {
        "id": "_jfNHSqhCz6s"
      },
      "execution_count": null,
      "outputs": []
    },
    {
      "cell_type": "code",
      "source": [],
      "metadata": {
        "id": "Lhdv8DviCz34"
      },
      "execution_count": null,
      "outputs": []
    },
    {
      "cell_type": "code",
      "source": [],
      "metadata": {
        "id": "C4NcgP0_Cz0A"
      },
      "execution_count": null,
      "outputs": []
    },
    {
      "cell_type": "code",
      "source": [],
      "metadata": {
        "id": "vzyUpMJyCzyX"
      },
      "execution_count": null,
      "outputs": []
    },
    {
      "cell_type": "code",
      "source": [],
      "metadata": {
        "id": "1HnSYomACzwb"
      },
      "execution_count": null,
      "outputs": []
    }
  ]
}