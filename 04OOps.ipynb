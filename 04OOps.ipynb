{
  "nbformat": 4,
  "nbformat_minor": 0,
  "metadata": {
    "colab": {
      "provenance": [],
      "authorship_tag": "ABX9TyO3HFVzgxQbJVElCO4vrYiN",
      "include_colab_link": true
    },
    "kernelspec": {
      "name": "python3",
      "display_name": "Python 3"
    },
    "language_info": {
      "name": "python"
    }
  },
  "cells": [
    {
      "cell_type": "markdown",
      "metadata": {
        "id": "view-in-github",
        "colab_type": "text"
      },
      "source": [
        "<a href=\"https://colab.research.google.com/github/amitmishra-cs/PYTHON-PROGRAMING/blob/main/04OOps.ipynb\" target=\"_parent\"><img src=\"https://colab.research.google.com/assets/colab-badge.svg\" alt=\"Open In Colab\"/></a>"
      ]
    },
    {
      "cell_type": "markdown",
      "source": [
        "**OOPS**"
      ],
      "metadata": {
        "id": "b1NDOaIrOyOy"
      }
    },
    {
      "cell_type": "code",
      "source": [
        "class Student :\n",
        "  '''this is student class'''"
      ],
      "metadata": {
        "id": "iO_EN2LxO1wZ"
      },
      "execution_count": 4,
      "outputs": []
    },
    {
      "cell_type": "code",
      "source": [
        "class Teacher:\n",
        "  '''This is my doc string'''\n",
        "  def __init__(self):\n",
        "    self.name='mishra'\n",
        "    self.age=20\n",
        "  def display(self):\n",
        "      print(\"the name is \", self.name)\n",
        "      print(\"the age\", self.age)"
      ],
      "metadata": {
        "id": "V4G18Gg5O21K"
      },
      "execution_count": 1,
      "outputs": []
    },
    {
      "cell_type": "code",
      "source": [
        "t=Teacher()"
      ],
      "metadata": {
        "id": "7tf4wxEJO2y6"
      },
      "execution_count": 5,
      "outputs": []
    },
    {
      "cell_type": "code",
      "source": [
        "t.display()"
      ],
      "metadata": {
        "colab": {
          "base_uri": "https://localhost:8080/"
        },
        "id": "QXMcRxyFO2xg",
        "outputId": "90035eb9-56c5-4f68-86c4-d700d66923de"
      },
      "execution_count": 6,
      "outputs": [
        {
          "output_type": "stream",
          "name": "stdout",
          "text": [
            "the name is  mishra\n",
            "the age 20\n"
          ]
        }
      ]
    },
    {
      "cell_type": "code",
      "source": [
        "def count(child_dict, i):\n",
        "    if i not in child_dict.keys():\n",
        "         return 1\n",
        "    ans = 1\n",
        "    for j in child_dict[i]:\n",
        "        ans += count(child_dict, j)\n",
        "    return ans\n",
        "\n",
        "child_dict = dict()\n",
        "child_dict[0] = [1,2]\n",
        "child_dict[1] = [3,4,5]\n",
        "child_dict[2] = [6,7,8]\n",
        "print(count(child_dict,0))"
      ],
      "metadata": {
        "colab": {
          "base_uri": "https://localhost:8080/"
        },
        "id": "oCIxFaoPO2vM",
        "outputId": "a52c44e4-7f6f-411f-e1e1-caef8b9a0a0f"
      },
      "execution_count": 1,
      "outputs": [
        {
          "output_type": "stream",
          "name": "stdout",
          "text": [
            "9\n"
          ]
        }
      ]
    },
    {
      "cell_type": "code",
      "source": [],
      "metadata": {
        "id": "K2i0hCOwUYJJ"
      },
      "execution_count": 5,
      "outputs": []
    },
    {
      "cell_type": "code",
      "source": [],
      "metadata": {
        "id": "cwZTuXYKUYFi"
      },
      "execution_count": 6,
      "outputs": []
    },
    {
      "cell_type": "code",
      "source": [],
      "metadata": {
        "id": "tGyz1Wu1UYDS"
      },
      "execution_count": 5,
      "outputs": []
    },
    {
      "cell_type": "code",
      "source": [],
      "metadata": {
        "id": "rtdE2oiFO2rS"
      },
      "execution_count": 5,
      "outputs": []
    },
    {
      "cell_type": "code",
      "source": [],
      "metadata": {
        "id": "CX1rgAKKO2nQ"
      },
      "execution_count": 5,
      "outputs": []
    },
    {
      "cell_type": "code",
      "source": [],
      "metadata": {
        "id": "q4ErWOVsIh8W"
      },
      "execution_count": 5,
      "outputs": []
    },
    {
      "cell_type": "code",
      "source": [],
      "metadata": {
        "id": "0Hgm9uUzIh4-"
      },
      "execution_count": 5,
      "outputs": []
    },
    {
      "cell_type": "code",
      "source": [],
      "metadata": {
        "id": "U9zE6RCgIh2l"
      },
      "execution_count": 5,
      "outputs": []
    },
    {
      "cell_type": "code",
      "source": [],
      "metadata": {
        "id": "FN5njar8JFZ2"
      },
      "execution_count": null,
      "outputs": []
    }
  ]
}