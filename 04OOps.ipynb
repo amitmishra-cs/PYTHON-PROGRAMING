{
  "nbformat": 4,
  "nbformat_minor": 0,
  "metadata": {
    "colab": {
      "provenance": [],
      "authorship_tag": "ABX9TyMYt7WFmM1jFmzwo606yiaz",
      "include_colab_link": true
    },
    "kernelspec": {
      "name": "python3",
      "display_name": "Python 3"
    },
    "language_info": {
      "name": "python"
    }
  },
  "cells": [
    {
      "cell_type": "markdown",
      "metadata": {
        "id": "view-in-github",
        "colab_type": "text"
      },
      "source": [
        "<a href=\"https://colab.research.google.com/github/amitmishra-cs/PYTHON-PROGRAMING/blob/main/04OOps.ipynb\" target=\"_parent\"><img src=\"https://colab.research.google.com/assets/colab-badge.svg\" alt=\"Open In Colab\"/></a>"
      ]
    },
    {
      "cell_type": "markdown",
      "source": [
        "**OOPS**"
      ],
      "metadata": {
        "id": "b1NDOaIrOyOy"
      }
    },
    {
      "cell_type": "code",
      "source": [
        "class Student :\n",
        "  '''this is student class'''"
      ],
      "metadata": {
        "id": "iO_EN2LxO1wZ"
      },
      "execution_count": null,
      "outputs": []
    },
    {
      "cell_type": "code",
      "source": [
        "class Teacher:\n",
        "  '''This is my doc string'''\n",
        "  def __init__(self):\n",
        "    self.name='mishra'\n",
        "    self.age=20\n",
        "  def display(self):\n",
        "      print(\"the name is \", self.name)\n",
        "      print(\"the age\", self.age)"
      ],
      "metadata": {
        "id": "V4G18Gg5O21K"
      },
      "execution_count": null,
      "outputs": []
    },
    {
      "cell_type": "code",
      "source": [
        "t=Teacher()"
      ],
      "metadata": {
        "id": "7tf4wxEJO2y6"
      },
      "execution_count": null,
      "outputs": []
    },
    {
      "cell_type": "code",
      "source": [
        "t.display()"
      ],
      "metadata": {
        "colab": {
          "base_uri": "https://localhost:8080/"
        },
        "id": "QXMcRxyFO2xg",
        "outputId": "90035eb9-56c5-4f68-86c4-d700d66923de"
      },
      "execution_count": null,
      "outputs": [
        {
          "output_type": "stream",
          "name": "stdout",
          "text": [
            "the name is  mishra\n",
            "the age 20\n"
          ]
        }
      ]
    },
    {
      "cell_type": "code",
      "source": [
        "def count(child_dict, i):\n",
        "    if i not in child_dict.keys():\n",
        "         return 1\n",
        "    ans = 1\n",
        "    for j in child_dict[i]:\n",
        "        ans += count(child_dict, j)\n",
        "    return ans\n",
        "\n",
        "child_dict = dict()\n",
        "child_dict[0] = [1,2]\n",
        "child_dict[1] = [3,4,5]\n",
        "child_dict[2] = [6,7,8]\n",
        "print(count(child_dict,0))"
      ],
      "metadata": {
        "colab": {
          "base_uri": "https://localhost:8080/"
        },
        "id": "oCIxFaoPO2vM",
        "outputId": "a52c44e4-7f6f-411f-e1e1-caef8b9a0a0f"
      },
      "execution_count": null,
      "outputs": [
        {
          "output_type": "stream",
          "name": "stdout",
          "text": [
            "9\n"
          ]
        }
      ]
    },
    {
      "cell_type": "code",
      "source": [
        "class demo:\n",
        "  def __init__(self):\n",
        "    self.x=12\n",
        "    self.y=90\n",
        "d=demo()\n",
        "print(d.x)\n",
        "print(d.y)"
      ],
      "metadata": {
        "colab": {
          "base_uri": "https://localhost:8080/"
        },
        "id": "K2i0hCOwUYJJ",
        "outputId": "c6086a28-e907-4611-e7ba-4c90b8320518"
      },
      "execution_count": null,
      "outputs": [
        {
          "output_type": "stream",
          "name": "stdout",
          "text": [
            "12\n",
            "90\n"
          ]
        }
      ]
    },
    {
      "cell_type": "code",
      "source": [
        "class demo:\n",
        "  def __init__(self):\n",
        "    self.x=12\n",
        "    self.y=90\n",
        "d=demo()\n",
        "d.__dict__"
      ],
      "metadata": {
        "colab": {
          "base_uri": "https://localhost:8080/"
        },
        "id": "cwZTuXYKUYFi",
        "outputId": "edbfa604-2e38-4093-b99f-1241fe4ed46a"
      },
      "execution_count": null,
      "outputs": [
        {
          "output_type": "execute_result",
          "data": {
            "text/plain": [
              "{'x': 12, 'y': 90}"
            ]
          },
          "metadata": {},
          "execution_count": 4
        }
      ]
    },
    {
      "cell_type": "code",
      "source": [
        "class demo:\n",
        "  def __init__(self):\n",
        "    self.x=12\n",
        "    self.y=90\n",
        "  def fun(self):\n",
        "    self.z=100\n",
        "d1=demo()\n",
        "d2=demo()\n",
        "d1.__dict__"
      ],
      "metadata": {
        "colab": {
          "base_uri": "https://localhost:8080/"
        },
        "id": "tGyz1Wu1UYDS",
        "outputId": "7f7c357a-f97c-43b3-94bf-4aabbc2a4c6d"
      },
      "execution_count": null,
      "outputs": [
        {
          "output_type": "execute_result",
          "data": {
            "text/plain": [
              "{'x': 12, 'y': 90}"
            ]
          },
          "metadata": {},
          "execution_count": 6
        }
      ]
    },
    {
      "cell_type": "code",
      "source": [
        "d2.__dict__"
      ],
      "metadata": {
        "colab": {
          "base_uri": "https://localhost:8080/"
        },
        "id": "rtdE2oiFO2rS",
        "outputId": "18bd4bf1-d87b-4a37-ff03-5b3aeb262b1a"
      },
      "execution_count": null,
      "outputs": [
        {
          "output_type": "execute_result",
          "data": {
            "text/plain": [
              "{'x': 12, 'y': 90}"
            ]
          },
          "metadata": {},
          "execution_count": 8
        }
      ]
    },
    {
      "cell_type": "code",
      "source": [
        "d1.fun()"
      ],
      "metadata": {
        "id": "CX1rgAKKO2nQ"
      },
      "execution_count": null,
      "outputs": []
    },
    {
      "cell_type": "code",
      "source": [
        "d1.__dict__"
      ],
      "metadata": {
        "colab": {
          "base_uri": "https://localhost:8080/"
        },
        "id": "q4ErWOVsIh8W",
        "outputId": "a08c790e-6579-4d46-fb6a-8d0c1ea1be7f"
      },
      "execution_count": null,
      "outputs": [
        {
          "output_type": "execute_result",
          "data": {
            "text/plain": [
              "{'x': 12, 'y': 90, 'z': 100}"
            ]
          },
          "metadata": {},
          "execution_count": 10
        }
      ]
    },
    {
      "cell_type": "code",
      "source": [
        "class emp:\n",
        "  def __init__(self):\n",
        "    self.name='mishra'\n",
        "    self.y=21\n",
        "  def fun(self):\n",
        "    self.wife='KK'\n"
      ],
      "metadata": {
        "id": "0Hgm9uUzIh4-"
      },
      "execution_count": null,
      "outputs": []
    },
    {
      "cell_type": "code",
      "source": [
        "e1=emp()\n",
        "print(e1.name)"
      ],
      "metadata": {
        "colab": {
          "base_uri": "https://localhost:8080/"
        },
        "id": "U9zE6RCgIh2l",
        "outputId": "1e8369e5-75d4-4269-b37c-add9262b7b46"
      },
      "execution_count": null,
      "outputs": [
        {
          "output_type": "stream",
          "name": "stdout",
          "text": [
            "mishra\n"
          ]
        }
      ]
    },
    {
      "cell_type": "code",
      "source": [
        "class Complex:\n",
        "  def __init__(self, real,imag ):\n",
        "    self.real=real\n",
        "    self.imag=imag\n",
        "  def print(self):\n",
        "    print(self.real, \"+\", self.imag, \"i\")\n",
        "\n",
        "\n",
        "c =Complex(2,3)\n"
      ],
      "metadata": {
        "id": "FN5njar8JFZ2"
      },
      "execution_count": null,
      "outputs": []
    },
    {
      "cell_type": "code",
      "source": [
        "c.real"
      ],
      "metadata": {
        "colab": {
          "base_uri": "https://localhost:8080/"
        },
        "id": "zBBrhucffMX1",
        "outputId": "f7b82303-a61b-41f9-9621-1e4e30909464"
      },
      "execution_count": null,
      "outputs": [
        {
          "output_type": "execute_result",
          "data": {
            "text/plain": [
              "2"
            ]
          },
          "metadata": {},
          "execution_count": 5
        }
      ]
    },
    {
      "cell_type": "code",
      "source": [
        "c.imag"
      ],
      "metadata": {
        "colab": {
          "base_uri": "https://localhost:8080/"
        },
        "id": "gG7W4AsvfMUa",
        "outputId": "a1786059-886e-48db-fc2f-8f7107c4ce2e"
      },
      "execution_count": null,
      "outputs": [
        {
          "output_type": "execute_result",
          "data": {
            "text/plain": [
              "3"
            ]
          },
          "metadata": {},
          "execution_count": 7
        }
      ]
    },
    {
      "cell_type": "code",
      "source": [
        "c.print()"
      ],
      "metadata": {
        "colab": {
          "base_uri": "https://localhost:8080/"
        },
        "id": "V-Y0AAsgfMS4",
        "outputId": "a21deaf2-baca-4b29-f60b-59c7e7783df6"
      },
      "execution_count": null,
      "outputs": [
        {
          "output_type": "stream",
          "name": "stdout",
          "text": [
            "2 + 3 i\n"
          ]
        }
      ]
    },
    {
      "cell_type": "code",
      "source": [
        "class Complex:\n",
        "  def __init__(self, real,imag ):\n",
        "    self.real=real\n",
        "    self.imag=imag\n",
        "  def print(self):\n",
        "    print(self.real, \"+\", self.imag, \"i\")\n",
        "  def add(self, doosra_com):\n",
        "    self.real =self.real + doosra_com.real\n",
        "    self.imag =self.imag + doosra_com.imag\n",
        "\n",
        "\n",
        "c1=Complex(2,3)\n",
        "c2=Complex(4,5)\n",
        "c1.add(c2)"
      ],
      "metadata": {
        "id": "-KCEwEZ4fMQw"
      },
      "execution_count": null,
      "outputs": []
    },
    {
      "cell_type": "code",
      "source": [
        "c1.print()"
      ],
      "metadata": {
        "colab": {
          "base_uri": "https://localhost:8080/"
        },
        "id": "kZrNYNmzfMO3",
        "outputId": "1f1090ef-88e1-41c3-948a-cf1850bea998"
      },
      "execution_count": null,
      "outputs": [
        {
          "output_type": "stream",
          "name": "stdout",
          "text": [
            "6 + 8 i\n"
          ]
        }
      ]
    },
    {
      "cell_type": "code",
      "source": [
        "#c3=Complex( )  # 0+0\n",
        "\n",
        "#c4=Complex(2)\n",
        "c5=Complex(2,3)"
      ],
      "metadata": {
        "id": "sy-1PXd_fMM7"
      },
      "execution_count": null,
      "outputs": []
    },
    {
      "cell_type": "code",
      "source": [
        "L=[1,2,3]\n",
        "l.upper() #list do not upper functions"
      ],
      "metadata": {
        "id": "bWrkZfnGfMLU",
        "colab": {
          "base_uri": "https://localhost:8080/",
          "height": 159
        },
        "outputId": "543eac25-203c-4c1e-ea87-840e1ac39dbd"
      },
      "execution_count": 1,
      "outputs": [
        {
          "output_type": "error",
          "ename": "NameError",
          "evalue": "name 'l' is not defined",
          "traceback": [
            "\u001b[0;31m---------------------------------------------------------------------------\u001b[0m",
            "\u001b[0;31mNameError\u001b[0m                                 Traceback (most recent call last)",
            "\u001b[0;32m<ipython-input-1-7747b9fe836b>\u001b[0m in \u001b[0;36m<cell line: 2>\u001b[0;34m()\u001b[0m\n\u001b[1;32m      1\u001b[0m \u001b[0mL\u001b[0m\u001b[0;34m=\u001b[0m\u001b[0;34m[\u001b[0m\u001b[0;36m1\u001b[0m\u001b[0;34m,\u001b[0m\u001b[0;36m2\u001b[0m\u001b[0;34m,\u001b[0m\u001b[0;36m3\u001b[0m\u001b[0;34m]\u001b[0m\u001b[0;34m\u001b[0m\u001b[0;34m\u001b[0m\u001b[0m\n\u001b[0;32m----> 2\u001b[0;31m \u001b[0ml\u001b[0m\u001b[0;34m.\u001b[0m\u001b[0mupper\u001b[0m\u001b[0;34m(\u001b[0m\u001b[0;34m)\u001b[0m\u001b[0;34m\u001b[0m\u001b[0;34m\u001b[0m\u001b[0m\n\u001b[0m",
            "\u001b[0;31mNameError\u001b[0m: name 'l' is not defined"
          ]
        }
      ]
    },
    {
      "cell_type": "code",
      "source": [
        "s='hello'\n",
        "s.append('s ')"
      ],
      "metadata": {
        "id": "Gfr_YvKtmqlt",
        "colab": {
          "base_uri": "https://localhost:8080/",
          "height": 159
        },
        "outputId": "59d3ed87-1ae1-4137-ab80-03f7814e1e4b"
      },
      "execution_count": 2,
      "outputs": [
        {
          "output_type": "error",
          "ename": "AttributeError",
          "evalue": "'str' object has no attribute 'append'",
          "traceback": [
            "\u001b[0;31m---------------------------------------------------------------------------\u001b[0m",
            "\u001b[0;31mAttributeError\u001b[0m                            Traceback (most recent call last)",
            "\u001b[0;32m<ipython-input-2-6944492c7ec4>\u001b[0m in \u001b[0;36m<cell line: 2>\u001b[0;34m()\u001b[0m\n\u001b[1;32m      1\u001b[0m \u001b[0ms\u001b[0m\u001b[0;34m=\u001b[0m\u001b[0;34m'hello'\u001b[0m\u001b[0;34m\u001b[0m\u001b[0;34m\u001b[0m\u001b[0m\n\u001b[0;32m----> 2\u001b[0;31m \u001b[0ms\u001b[0m\u001b[0;34m.\u001b[0m\u001b[0mappend\u001b[0m\u001b[0;34m(\u001b[0m\u001b[0;34m's'\u001b[0m\u001b[0;34m)\u001b[0m\u001b[0;34m\u001b[0m\u001b[0;34m\u001b[0m\u001b[0m\n\u001b[0m",
            "\u001b[0;31mAttributeError\u001b[0m: 'str' object has no attribute 'append'"
          ]
        }
      ]
    },
    {
      "cell_type": "code",
      "source": [],
      "metadata": {
        "id": "DqOG_q5ZmqiT"
      },
      "execution_count": null,
      "outputs": []
    },
    {
      "cell_type": "code",
      "source": [],
      "metadata": {
        "id": "MjWdyR1dmqgR"
      },
      "execution_count": null,
      "outputs": []
    },
    {
      "cell_type": "code",
      "source": [],
      "metadata": {
        "id": "82uecB3_mqcf"
      },
      "execution_count": null,
      "outputs": []
    },
    {
      "cell_type": "code",
      "source": [],
      "metadata": {
        "id": "aaVaptKJmqZ7"
      },
      "execution_count": null,
      "outputs": []
    },
    {
      "cell_type": "code",
      "source": [],
      "metadata": {
        "id": "Rf8IJdb-mqWT"
      },
      "execution_count": null,
      "outputs": []
    },
    {
      "cell_type": "code",
      "source": [],
      "metadata": {
        "id": "ZrL8Xe1XmqSc"
      },
      "execution_count": null,
      "outputs": []
    },
    {
      "cell_type": "code",
      "source": [],
      "metadata": {
        "id": "ovbaa05nmqP_"
      },
      "execution_count": null,
      "outputs": []
    }
  ]
}