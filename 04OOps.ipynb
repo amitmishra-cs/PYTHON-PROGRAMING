{
  "nbformat": 4,
  "nbformat_minor": 0,
  "metadata": {
    "colab": {
      "provenance": [],
      "authorship_tag": "ABX9TyOQdqjKnpbUBq01figG6gXq",
      "include_colab_link": true
    },
    "kernelspec": {
      "name": "python3",
      "display_name": "Python 3"
    },
    "language_info": {
      "name": "python"
    }
  },
  "cells": [
    {
      "cell_type": "markdown",
      "metadata": {
        "id": "view-in-github",
        "colab_type": "text"
      },
      "source": [
        "<a href=\"https://colab.research.google.com/github/amitmishra-cs/PYTHON-PROGRAMING/blob/main/04OOps.ipynb\" target=\"_parent\"><img src=\"https://colab.research.google.com/assets/colab-badge.svg\" alt=\"Open In Colab\"/></a>"
      ]
    },
    {
      "cell_type": "markdown",
      "source": [
        "**OOPS**"
      ],
      "metadata": {
        "id": "b1NDOaIrOyOy"
      }
    },
    {
      "cell_type": "code",
      "source": [
        "class Student :\n",
        "  '''this is student class'''"
      ],
      "metadata": {
        "id": "iO_EN2LxO1wZ"
      },
      "execution_count": 4,
      "outputs": []
    },
    {
      "cell_type": "code",
      "source": [
        "class Teacher:\n",
        "  '''This is my doc string'''\n",
        "  def __init__(self):\n",
        "    self.name='mishra'\n",
        "    self.age=20\n",
        "  def display(self):\n",
        "      print(\"the name is \", self.name)\n",
        "      print(\"the age\", self.age)"
      ],
      "metadata": {
        "id": "V4G18Gg5O21K"
      },
      "execution_count": 1,
      "outputs": []
    },
    {
      "cell_type": "code",
      "source": [
        "t=Teacher()"
      ],
      "metadata": {
        "id": "7tf4wxEJO2y6"
      },
      "execution_count": 5,
      "outputs": []
    },
    {
      "cell_type": "code",
      "source": [
        "t.display()"
      ],
      "metadata": {
        "colab": {
          "base_uri": "https://localhost:8080/"
        },
        "id": "QXMcRxyFO2xg",
        "outputId": "90035eb9-56c5-4f68-86c4-d700d66923de"
      },
      "execution_count": 6,
      "outputs": [
        {
          "output_type": "stream",
          "name": "stdout",
          "text": [
            "the name is  mishra\n",
            "the age 20\n"
          ]
        }
      ]
    },
    {
      "cell_type": "code",
      "source": [
        "def count(child_dict, i):\n",
        "    if i not in child_dict.keys():\n",
        "         return 1\n",
        "    ans = 1\n",
        "    for j in child_dict[i]:\n",
        "        ans += count(child_dict, j)\n",
        "    return ans\n",
        "\n",
        "child_dict = dict()\n",
        "child_dict[0] = [1,2]\n",
        "child_dict[1] = [3,4,5]\n",
        "child_dict[2] = [6,7,8]\n",
        "print(count(child_dict,0))"
      ],
      "metadata": {
        "colab": {
          "base_uri": "https://localhost:8080/"
        },
        "id": "oCIxFaoPO2vM",
        "outputId": "a52c44e4-7f6f-411f-e1e1-caef8b9a0a0f"
      },
      "execution_count": 1,
      "outputs": [
        {
          "output_type": "stream",
          "name": "stdout",
          "text": [
            "9\n"
          ]
        }
      ]
    },
    {
      "cell_type": "code",
      "source": [
        "class demo:\n",
        "  def __init__(self):\n",
        "    self.x=12\n",
        "    self.y=90\n",
        "d=demo()\n",
        "print(d.x)\n",
        "print(d.y)"
      ],
      "metadata": {
        "colab": {
          "base_uri": "https://localhost:8080/"
        },
        "id": "K2i0hCOwUYJJ",
        "outputId": "c6086a28-e907-4611-e7ba-4c90b8320518"
      },
      "execution_count": 2,
      "outputs": [
        {
          "output_type": "stream",
          "name": "stdout",
          "text": [
            "12\n",
            "90\n"
          ]
        }
      ]
    },
    {
      "cell_type": "code",
      "source": [
        "class demo:\n",
        "  def __init__(self):\n",
        "    self.x=12\n",
        "    self.y=90\n",
        "d=demo()\n",
        "d.__dict__"
      ],
      "metadata": {
        "colab": {
          "base_uri": "https://localhost:8080/"
        },
        "id": "cwZTuXYKUYFi",
        "outputId": "edbfa604-2e38-4093-b99f-1241fe4ed46a"
      },
      "execution_count": 4,
      "outputs": [
        {
          "output_type": "execute_result",
          "data": {
            "text/plain": [
              "{'x': 12, 'y': 90}"
            ]
          },
          "metadata": {},
          "execution_count": 4
        }
      ]
    },
    {
      "cell_type": "code",
      "source": [
        "class demo:\n",
        "  def __init__(self):\n",
        "    self.x=12\n",
        "    self.y=90\n",
        "  def fun(self):\n",
        "    self.z=100\n",
        "d1=demo()\n",
        "d2=demo()\n",
        "d1.__dict__"
      ],
      "metadata": {
        "colab": {
          "base_uri": "https://localhost:8080/"
        },
        "id": "tGyz1Wu1UYDS",
        "outputId": "7f7c357a-f97c-43b3-94bf-4aabbc2a4c6d"
      },
      "execution_count": 6,
      "outputs": [
        {
          "output_type": "execute_result",
          "data": {
            "text/plain": [
              "{'x': 12, 'y': 90}"
            ]
          },
          "metadata": {},
          "execution_count": 6
        }
      ]
    },
    {
      "cell_type": "code",
      "source": [
        "d2.__dict__"
      ],
      "metadata": {
        "colab": {
          "base_uri": "https://localhost:8080/"
        },
        "id": "rtdE2oiFO2rS",
        "outputId": "18bd4bf1-d87b-4a37-ff03-5b3aeb262b1a"
      },
      "execution_count": 8,
      "outputs": [
        {
          "output_type": "execute_result",
          "data": {
            "text/plain": [
              "{'x': 12, 'y': 90}"
            ]
          },
          "metadata": {},
          "execution_count": 8
        }
      ]
    },
    {
      "cell_type": "code",
      "source": [
        "d1.fun()"
      ],
      "metadata": {
        "id": "CX1rgAKKO2nQ"
      },
      "execution_count": 9,
      "outputs": []
    },
    {
      "cell_type": "code",
      "source": [
        "d1.__dict__"
      ],
      "metadata": {
        "colab": {
          "base_uri": "https://localhost:8080/"
        },
        "id": "q4ErWOVsIh8W",
        "outputId": "a08c790e-6579-4d46-fb6a-8d0c1ea1be7f"
      },
      "execution_count": 10,
      "outputs": [
        {
          "output_type": "execute_result",
          "data": {
            "text/plain": [
              "{'x': 12, 'y': 90, 'z': 100}"
            ]
          },
          "metadata": {},
          "execution_count": 10
        }
      ]
    },
    {
      "cell_type": "code",
      "source": [
        "class emp:\n",
        "  def __init__(self):\n",
        "    self.name='mishra'\n",
        "    self.y=21\n",
        "  def fun(self):\n",
        "    self.wife='KK'\n"
      ],
      "metadata": {
        "id": "0Hgm9uUzIh4-"
      },
      "execution_count": 16,
      "outputs": []
    },
    {
      "cell_type": "code",
      "source": [
        "e1=emp()\n",
        "print(e1.name)"
      ],
      "metadata": {
        "colab": {
          "base_uri": "https://localhost:8080/"
        },
        "id": "U9zE6RCgIh2l",
        "outputId": "fd0c8a35-55df-40e6-a5ba-c3b1b9e87852"
      },
      "execution_count": 17,
      "outputs": [
        {
          "output_type": "stream",
          "name": "stdout",
          "text": [
            "mishra\n"
          ]
        }
      ]
    },
    {
      "cell_type": "code",
      "source": [],
      "metadata": {
        "id": "FN5njar8JFZ2"
      },
      "execution_count": null,
      "outputs": []
    }
  ]
}