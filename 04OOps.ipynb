{
  "nbformat": 4,
  "nbformat_minor": 0,
  "metadata": {
    "colab": {
      "provenance": [],
      "authorship_tag": "ABX9TyM9tDnWBDe62kvE4y+vx9X7",
      "include_colab_link": true
    },
    "kernelspec": {
      "name": "python3",
      "display_name": "Python 3"
    },
    "language_info": {
      "name": "python"
    }
  },
  "cells": [
    {
      "cell_type": "markdown",
      "metadata": {
        "id": "view-in-github",
        "colab_type": "text"
      },
      "source": [
        "<a href=\"https://colab.research.google.com/github/amitmishra-cs/PYTHON-PROGRAMING/blob/main/04OOps.ipynb\" target=\"_parent\"><img src=\"https://colab.research.google.com/assets/colab-badge.svg\" alt=\"Open In Colab\"/></a>"
      ]
    },
    {
      "cell_type": "markdown",
      "source": [
        "**OOPS**"
      ],
      "metadata": {
        "id": "b1NDOaIrOyOy"
      }
    },
    {
      "cell_type": "code",
      "source": [
        "class Student :\n",
        "  '''this is student class'''"
      ],
      "metadata": {
        "id": "iO_EN2LxO1wZ"
      },
      "execution_count": null,
      "outputs": []
    },
    {
      "cell_type": "code",
      "source": [
        "class Teacher:\n",
        "  '''This is my doc string'''\n",
        "  def __init__(self):\n",
        "    self.name='mishra'\n",
        "    self.age=20\n",
        "  def display(self):\n",
        "      print(\"the name is \", self.name)\n",
        "      print(\"the age\", self.age)"
      ],
      "metadata": {
        "id": "V4G18Gg5O21K"
      },
      "execution_count": null,
      "outputs": []
    },
    {
      "cell_type": "code",
      "source": [
        "t=Teacher()"
      ],
      "metadata": {
        "id": "7tf4wxEJO2y6"
      },
      "execution_count": null,
      "outputs": []
    },
    {
      "cell_type": "code",
      "source": [
        "t.display()"
      ],
      "metadata": {
        "colab": {
          "base_uri": "https://localhost:8080/"
        },
        "id": "QXMcRxyFO2xg",
        "outputId": "90035eb9-56c5-4f68-86c4-d700d66923de"
      },
      "execution_count": null,
      "outputs": [
        {
          "output_type": "stream",
          "name": "stdout",
          "text": [
            "the name is  mishra\n",
            "the age 20\n"
          ]
        }
      ]
    },
    {
      "cell_type": "code",
      "source": [
        "def count(child_dict, i):\n",
        "    if i not in child_dict.keys():\n",
        "         return 1\n",
        "    ans = 1\n",
        "    for j in child_dict[i]:\n",
        "        ans += count(child_dict, j)\n",
        "    return ans\n",
        "\n",
        "child_dict = dict()\n",
        "child_dict[0] = [1,2]\n",
        "child_dict[1] = [3,4,5]\n",
        "child_dict[2] = [6,7,8]\n",
        "print(count(child_dict,0))"
      ],
      "metadata": {
        "colab": {
          "base_uri": "https://localhost:8080/"
        },
        "id": "oCIxFaoPO2vM",
        "outputId": "a52c44e4-7f6f-411f-e1e1-caef8b9a0a0f"
      },
      "execution_count": null,
      "outputs": [
        {
          "output_type": "stream",
          "name": "stdout",
          "text": [
            "9\n"
          ]
        }
      ]
    },
    {
      "cell_type": "code",
      "source": [
        "class demo:\n",
        "  def __init__(self):\n",
        "    self.x=12\n",
        "    self.y=90\n",
        "d=demo()\n",
        "print(d.x)\n",
        "print(d.y)"
      ],
      "metadata": {
        "colab": {
          "base_uri": "https://localhost:8080/"
        },
        "id": "K2i0hCOwUYJJ",
        "outputId": "c6086a28-e907-4611-e7ba-4c90b8320518"
      },
      "execution_count": null,
      "outputs": [
        {
          "output_type": "stream",
          "name": "stdout",
          "text": [
            "12\n",
            "90\n"
          ]
        }
      ]
    },
    {
      "cell_type": "code",
      "source": [
        "class demo:\n",
        "  def __init__(self):\n",
        "    self.x=12\n",
        "    self.y=90\n",
        "d=demo()\n",
        "d.__dict__"
      ],
      "metadata": {
        "colab": {
          "base_uri": "https://localhost:8080/"
        },
        "id": "cwZTuXYKUYFi",
        "outputId": "edbfa604-2e38-4093-b99f-1241fe4ed46a"
      },
      "execution_count": null,
      "outputs": [
        {
          "output_type": "execute_result",
          "data": {
            "text/plain": [
              "{'x': 12, 'y': 90}"
            ]
          },
          "metadata": {},
          "execution_count": 4
        }
      ]
    },
    {
      "cell_type": "code",
      "source": [
        "class demo:\n",
        "  def __init__(self):\n",
        "    self.x=12\n",
        "    self.y=90\n",
        "  def fun(self):\n",
        "    self.z=100\n",
        "d1=demo()\n",
        "d2=demo()\n",
        "d1.__dict__"
      ],
      "metadata": {
        "colab": {
          "base_uri": "https://localhost:8080/"
        },
        "id": "tGyz1Wu1UYDS",
        "outputId": "7f7c357a-f97c-43b3-94bf-4aabbc2a4c6d"
      },
      "execution_count": null,
      "outputs": [
        {
          "output_type": "execute_result",
          "data": {
            "text/plain": [
              "{'x': 12, 'y': 90}"
            ]
          },
          "metadata": {},
          "execution_count": 6
        }
      ]
    },
    {
      "cell_type": "code",
      "source": [
        "d2.__dict__"
      ],
      "metadata": {
        "colab": {
          "base_uri": "https://localhost:8080/"
        },
        "id": "rtdE2oiFO2rS",
        "outputId": "18bd4bf1-d87b-4a37-ff03-5b3aeb262b1a"
      },
      "execution_count": null,
      "outputs": [
        {
          "output_type": "execute_result",
          "data": {
            "text/plain": [
              "{'x': 12, 'y': 90}"
            ]
          },
          "metadata": {},
          "execution_count": 8
        }
      ]
    },
    {
      "cell_type": "code",
      "source": [
        "d1.fun()"
      ],
      "metadata": {
        "id": "CX1rgAKKO2nQ"
      },
      "execution_count": null,
      "outputs": []
    },
    {
      "cell_type": "code",
      "source": [
        "d1.__dict__"
      ],
      "metadata": {
        "colab": {
          "base_uri": "https://localhost:8080/"
        },
        "id": "q4ErWOVsIh8W",
        "outputId": "a08c790e-6579-4d46-fb6a-8d0c1ea1be7f"
      },
      "execution_count": null,
      "outputs": [
        {
          "output_type": "execute_result",
          "data": {
            "text/plain": [
              "{'x': 12, 'y': 90, 'z': 100}"
            ]
          },
          "metadata": {},
          "execution_count": 10
        }
      ]
    },
    {
      "cell_type": "code",
      "source": [
        "class emp:\n",
        "  def __init__(self):\n",
        "    self.name='mishra'\n",
        "    self.y=21\n",
        "  def fun(self):\n",
        "    self.wife='KK'\n"
      ],
      "metadata": {
        "id": "0Hgm9uUzIh4-"
      },
      "execution_count": null,
      "outputs": []
    },
    {
      "cell_type": "code",
      "source": [
        "e1=emp()\n",
        "print(e1.name)"
      ],
      "metadata": {
        "colab": {
          "base_uri": "https://localhost:8080/"
        },
        "id": "U9zE6RCgIh2l",
        "outputId": "1e8369e5-75d4-4269-b37c-add9262b7b46"
      },
      "execution_count": null,
      "outputs": [
        {
          "output_type": "stream",
          "name": "stdout",
          "text": [
            "mishra\n"
          ]
        }
      ]
    },
    {
      "cell_type": "code",
      "source": [
        "class Complex:\n",
        "  def __init__(self, real,imag ):\n",
        "    self.real=real\n",
        "    self.imag=imag\n",
        "  def print(self):\n",
        "    print(self.real, \"+\", self.imag, \"i\")\n",
        "\n",
        "\n",
        "c =Complex(2,3)\n"
      ],
      "metadata": {
        "id": "FN5njar8JFZ2"
      },
      "execution_count": null,
      "outputs": []
    },
    {
      "cell_type": "code",
      "source": [
        "c.real"
      ],
      "metadata": {
        "colab": {
          "base_uri": "https://localhost:8080/"
        },
        "id": "zBBrhucffMX1",
        "outputId": "f7b82303-a61b-41f9-9621-1e4e30909464"
      },
      "execution_count": null,
      "outputs": [
        {
          "output_type": "execute_result",
          "data": {
            "text/plain": [
              "2"
            ]
          },
          "metadata": {},
          "execution_count": 5
        }
      ]
    },
    {
      "cell_type": "code",
      "source": [
        "c.imag"
      ],
      "metadata": {
        "colab": {
          "base_uri": "https://localhost:8080/"
        },
        "id": "gG7W4AsvfMUa",
        "outputId": "a1786059-886e-48db-fc2f-8f7107c4ce2e"
      },
      "execution_count": null,
      "outputs": [
        {
          "output_type": "execute_result",
          "data": {
            "text/plain": [
              "3"
            ]
          },
          "metadata": {},
          "execution_count": 7
        }
      ]
    },
    {
      "cell_type": "code",
      "source": [
        "c.print()"
      ],
      "metadata": {
        "colab": {
          "base_uri": "https://localhost:8080/"
        },
        "id": "V-Y0AAsgfMS4",
        "outputId": "a21deaf2-baca-4b29-f60b-59c7e7783df6"
      },
      "execution_count": null,
      "outputs": [
        {
          "output_type": "stream",
          "name": "stdout",
          "text": [
            "2 + 3 i\n"
          ]
        }
      ]
    },
    {
      "cell_type": "code",
      "source": [
        "class Complex:\n",
        "  def __init__(self, real,imag ):\n",
        "    self.real=real\n",
        "    self.imag=imag\n",
        "  def print(self):\n",
        "    print(self.real, \"+\", self.imag, \"i\")\n",
        "  def add(self, doosra_com):\n",
        "    self.real =self.real + doosra_com.real\n",
        "    self.imag =self.imag + doosra_com.imag\n",
        "\n",
        "\n",
        "c1=Complex(2,3)\n",
        "c2=Complex(4,5)\n",
        "c1.add(c2)"
      ],
      "metadata": {
        "id": "-KCEwEZ4fMQw"
      },
      "execution_count": null,
      "outputs": []
    },
    {
      "cell_type": "code",
      "source": [
        "c1.print()"
      ],
      "metadata": {
        "colab": {
          "base_uri": "https://localhost:8080/"
        },
        "id": "kZrNYNmzfMO3",
        "outputId": "1f1090ef-88e1-41c3-948a-cf1850bea998"
      },
      "execution_count": null,
      "outputs": [
        {
          "output_type": "stream",
          "name": "stdout",
          "text": [
            "6 + 8 i\n"
          ]
        }
      ]
    },
    {
      "cell_type": "code",
      "source": [
        "#c3=Complex( )  # 0+0\n",
        "\n",
        "#c4=Complex(2)\n",
        "c5=Complex(2,3)"
      ],
      "metadata": {
        "id": "sy-1PXd_fMM7"
      },
      "execution_count": null,
      "outputs": []
    },
    {
      "cell_type": "code",
      "source": [
        "L=[1,2,3]\n",
        "l.upper() #list do not upper functions"
      ],
      "metadata": {
        "id": "bWrkZfnGfMLU",
        "colab": {
          "base_uri": "https://localhost:8080/",
          "height": 159
        },
        "outputId": "543eac25-203c-4c1e-ea87-840e1ac39dbd"
      },
      "execution_count": null,
      "outputs": [
        {
          "output_type": "error",
          "ename": "NameError",
          "evalue": "name 'l' is not defined",
          "traceback": [
            "\u001b[0;31m---------------------------------------------------------------------------\u001b[0m",
            "\u001b[0;31mNameError\u001b[0m                                 Traceback (most recent call last)",
            "\u001b[0;32m<ipython-input-1-7747b9fe836b>\u001b[0m in \u001b[0;36m<cell line: 2>\u001b[0;34m()\u001b[0m\n\u001b[1;32m      1\u001b[0m \u001b[0mL\u001b[0m\u001b[0;34m=\u001b[0m\u001b[0;34m[\u001b[0m\u001b[0;36m1\u001b[0m\u001b[0;34m,\u001b[0m\u001b[0;36m2\u001b[0m\u001b[0;34m,\u001b[0m\u001b[0;36m3\u001b[0m\u001b[0;34m]\u001b[0m\u001b[0;34m\u001b[0m\u001b[0;34m\u001b[0m\u001b[0m\n\u001b[0;32m----> 2\u001b[0;31m \u001b[0ml\u001b[0m\u001b[0;34m.\u001b[0m\u001b[0mupper\u001b[0m\u001b[0;34m(\u001b[0m\u001b[0;34m)\u001b[0m\u001b[0;34m\u001b[0m\u001b[0;34m\u001b[0m\u001b[0m\n\u001b[0m",
            "\u001b[0;31mNameError\u001b[0m: name 'l' is not defined"
          ]
        }
      ]
    },
    {
      "cell_type": "code",
      "source": [
        "s='hello'\n",
        "s.append('s ')"
      ],
      "metadata": {
        "id": "Gfr_YvKtmqlt",
        "colab": {
          "base_uri": "https://localhost:8080/",
          "height": 159
        },
        "outputId": "59d3ed87-1ae1-4137-ab80-03f7814e1e4b"
      },
      "execution_count": null,
      "outputs": [
        {
          "output_type": "error",
          "ename": "AttributeError",
          "evalue": "'str' object has no attribute 'append'",
          "traceback": [
            "\u001b[0;31m---------------------------------------------------------------------------\u001b[0m",
            "\u001b[0;31mAttributeError\u001b[0m                            Traceback (most recent call last)",
            "\u001b[0;32m<ipython-input-2-6944492c7ec4>\u001b[0m in \u001b[0;36m<cell line: 2>\u001b[0;34m()\u001b[0m\n\u001b[1;32m      1\u001b[0m \u001b[0ms\u001b[0m\u001b[0;34m=\u001b[0m\u001b[0;34m'hello'\u001b[0m\u001b[0;34m\u001b[0m\u001b[0;34m\u001b[0m\u001b[0m\n\u001b[0;32m----> 2\u001b[0;31m \u001b[0ms\u001b[0m\u001b[0;34m.\u001b[0m\u001b[0mappend\u001b[0m\u001b[0;34m(\u001b[0m\u001b[0;34m's'\u001b[0m\u001b[0;34m)\u001b[0m\u001b[0;34m\u001b[0m\u001b[0;34m\u001b[0m\u001b[0m\n\u001b[0m",
            "\u001b[0;31mAttributeError\u001b[0m: 'str' object has no attribute 'append'"
          ]
        }
      ]
    },
    {
      "cell_type": "code",
      "source": [
        "L =[1,23,4]\n",
        "print(type(L))"
      ],
      "metadata": {
        "id": "DqOG_q5ZmqiT",
        "colab": {
          "base_uri": "https://localhost:8080/"
        },
        "outputId": "bb6c2307-edb1-4da4-9ac9-2d4f5e8fda37"
      },
      "execution_count": null,
      "outputs": [
        {
          "output_type": "stream",
          "name": "stdout",
          "text": [
            "<class 'list'>\n"
          ]
        }
      ]
    },
    {
      "cell_type": "code",
      "source": [
        "s=[1,2,3]\n",
        "s.append(s)"
      ],
      "metadata": {
        "id": "MjWdyR1dmqgR"
      },
      "execution_count": null,
      "outputs": []
    },
    {
      "cell_type": "code",
      "source": [
        "# object syntax\n"
      ],
      "metadata": {
        "id": "82uecB3_mqcf"
      },
      "execution_count": null,
      "outputs": []
    },
    {
      "cell_type": "code",
      "source": [
        "# pscal case\n",
        "#HelloWorld"
      ],
      "metadata": {
        "id": "uBAPT-g7vmaS"
      },
      "execution_count": null,
      "outputs": []
    },
    {
      "cell_type": "code",
      "source": [
        "class Atm:\n",
        "  # constructor  it is secial function =>\n",
        "  def __init__(self):\n",
        "    self.pin =''\n",
        "    self.blance = 0\n",
        "    print('mai to execute ho giya')\n",
        "    self.menu()\n",
        "\n",
        "  def menu(self):\n",
        "    user_input= input(\"\"\"\n",
        "    Hi how can I help yOU?\n",
        "    1. Press 1 to create pin\n",
        "    2. Press 2 to change pin\n",
        "    3. Press 3 to check blance\n",
        "    4. Press 4 to withdraw\n",
        "    5. Anything else to exit\n",
        "    \"\"\")\n",
        "    if user_input == '1':\n",
        "    # Create pin\n",
        "      self.create_pin()\n",
        "    elif user_input == '2':\n",
        "      pass\n",
        "    # Change pin\n",
        "      self.change_pin()\n",
        "    elif user_input == '3':\n",
        "      pass\n",
        "    # Check balance\n",
        "\n",
        "    else:\n",
        "      exit()\n",
        "  def create_pin(self):\n",
        "    user_pin =input('enter your pin ')\n",
        "    self.pin =user_pin\n",
        "\n",
        "    user_blance =input('enter blance')\n",
        "    self.blance =user_blance\n",
        "\n",
        "    print('pin created succesfully ')\n",
        "    self.menu()\n",
        "  def change_pin(self):\n",
        "    old_pin= input('enter old pin')\n",
        "    if old_pin ==self.pin:\n",
        "      #let him change the pin\n",
        "      new_pin =input('enter new pin')\n",
        "      self.pin=new_pin\n",
        "      print('pin change successfulls y ')\n",
        "    else:\n",
        "      print('nai karne de sakta re baba ')\n",
        "      self.menu()\n",
        "\n"
      ],
      "metadata": {
        "id": "aaVaptKJmqZ7"
      },
      "execution_count": null,
      "outputs": []
    },
    {
      "cell_type": "code",
      "source": [
        "obj =Atm()"
      ],
      "metadata": {
        "id": "ovbaa05nmqP_",
        "colab": {
          "base_uri": "https://localhost:8080/"
        },
        "outputId": "ba533e98-274f-4768-9400-d4e49690440a"
      },
      "execution_count": null,
      "outputs": [
        {
          "name": "stdout",
          "output_type": "stream",
          "text": [
            "mai to execute ho giya\n",
            "\n",
            "    Hi how can I help yOU?\n",
            "    1. Press 1 to create pin \n",
            "    2. Press 2 to change pin\n",
            "    3. Press 3 to check blance\n",
            "    4. Press 4 to withdraw\n",
            "    5. Anything else to exit\n",
            "    1\n",
            "enter your pin 12345\n",
            "enter blance123400000\n",
            "pin created succesfully \n",
            "\n",
            "    Hi how can I help yOU?\n",
            "    1. Press 1 to create pin \n",
            "    2. Press 2 to change pin\n",
            "    3. Press 3 to check blance\n",
            "    4. Press 4 to withdraw\n",
            "    5. Anything else to exit\n",
            "    5\n"
          ]
        }
      ]
    },
    {
      "cell_type": "code",
      "source": [
        "L =[1,2,3]\n",
        "len(L)  # is function besc it is outside the list class\n",
        "L.append(4)"
      ],
      "metadata": {
        "id": "2_5qwYpCxmcV"
      },
      "execution_count": null,
      "outputs": []
    },
    {
      "cell_type": "code",
      "source": [
        "class temp:\n",
        "  def __init__(self):\n",
        "    print('heelo')\n",
        "obj =temp()"
      ],
      "metadata": {
        "colab": {
          "base_uri": "https://localhost:8080/"
        },
        "id": "mauuY2xexmUe",
        "outputId": "5f497638-807e-4677-edf9-c7baeaa50ab5"
      },
      "execution_count": null,
      "outputs": [
        {
          "output_type": "stream",
          "name": "stdout",
          "text": [
            "heelo\n"
          ]
        }
      ]
    },
    {
      "cell_type": "code",
      "source": [
        "class Freaction:\n",
        "  def __init__(self, X, Y):\n",
        "    self.num= X\n",
        "    self.den= Y\n",
        "  def __str__(self):\n",
        "    return '{}/{}'.format(self.num,self.den)"
      ],
      "metadata": {
        "id": "DiPJaOqOxmRE"
      },
      "execution_count": null,
      "outputs": []
    },
    {
      "cell_type": "code",
      "source": [
        "fr1 = Freaction(3,4)"
      ],
      "metadata": {
        "id": "qK2tj8HIxmO8"
      },
      "execution_count": null,
      "outputs": []
    },
    {
      "cell_type": "code",
      "source": [
        "print(fr1)"
      ],
      "metadata": {
        "colab": {
          "base_uri": "https://localhost:8080/"
        },
        "id": "73ioMIrnTZXv",
        "outputId": "d7f8cbd7-6cef-433e-88f3-16fb6e765098"
      },
      "execution_count": null,
      "outputs": [
        {
          "output_type": "stream",
          "name": "stdout",
          "text": [
            "3/4\n"
          ]
        }
      ]
    },
    {
      "cell_type": "code",
      "source": [
        "s1"
      ],
      "metadata": {
        "id": "Ae5UyaQkTZUM"
      },
      "execution_count": null,
      "outputs": []
    },
    {
      "cell_type": "markdown",
      "source": [
        "### Write OOP classes to handle the following scenarios:\n",
        "\n",
        "- A user can create and view 2D coordinates\n",
        "- A user can find out the distance between 2 coordinates\n",
        "- A user can find find the distance of a coordinate from origin\n",
        "- A user can check if a point lies on a given line\n",
        "- A user can find the distance between a given 2D point and a given line\n",
        "\n"
      ],
      "metadata": {
        "id": "jKbq0KLkuSHP"
      }
    },
    {
      "cell_type": "code",
      "source": [
        "from re import A\n",
        "class Point:\n",
        "  def __init__(self,x,y):\n",
        "    self.x_cod = x\n",
        "    self.y_cod = y\n",
        "\n",
        "  def __str__(self) :\n",
        "    return '<{},{}>'.format(self.x_cod,self.y_cod)\n",
        "  def  euclidean_distance(self,other):\n",
        "    return ((self.x_cod - other.x_cod)**2 + (self.y_cod -other.y_cod)**2)**0.5\n",
        "  def distance_from_orgin(self):\n",
        "    return self.euclidean_distance(Point(0,0))\n",
        "\n",
        "\n",
        "class Line:\n",
        "  def __init__(self,A,B,C):\n",
        "    self.A= A\n",
        "    self.B= B\n",
        "    self.C= C\n",
        "\n",
        "  def __str__(self):\n",
        "    return '{}x + {}y + {} = 0'.format(self.A,self.B,self.C)\n",
        "\n",
        "  def point_on_line(line,point):\n",
        "    if line.A*point.x_cod + line.B*point.y_cod + line.C ==0:\n",
        "      return \"lies on the line\"\n",
        "    else:\n",
        "      return \"does not lie on the line\"\n",
        "\n",
        "  def shortest_distance(line,point):\n",
        "    return (line.A*point.x_cod + line.B*point.y_cod + line.C)/(line.A**2 + line.B**2)\n",
        "\n",
        "\n",
        "\n",
        "\n"
      ],
      "metadata": {
        "id": "k_90xxTLTZSg"
      },
      "execution_count": null,
      "outputs": []
    },
    {
      "cell_type": "code",
      "source": [
        "l2= Line(1,2,-2)\n",
        "p1= Point(1,10)\n",
        "print(l2)\n",
        "print(p1)\n",
        "l2.shortest_distance(p1)"
      ],
      "metadata": {
        "colab": {
          "base_uri": "https://localhost:8080/"
        },
        "id": "8dJQSCLu65Cw",
        "outputId": "ced1d219-6f71-4414-8d1e-7445df641955"
      },
      "execution_count": null,
      "outputs": [
        {
          "output_type": "stream",
          "name": "stdout",
          "text": [
            "1x + 2y + -2 = 0\n",
            "<1,10>\n"
          ]
        },
        {
          "output_type": "execute_result",
          "data": {
            "text/plain": [
              "3.8"
            ]
          },
          "metadata": {},
          "execution_count": 56
        }
      ]
    },
    {
      "cell_type": "code",
      "source": [
        "l1 = Line(3,4,5)\n",
        "print(l1)"
      ],
      "metadata": {
        "colab": {
          "base_uri": "https://localhost:8080/"
        },
        "id": "h7oVkqJi4Fje",
        "outputId": "faabcd08-1f45-4b90-eb63-011a2d94fb6f"
      },
      "execution_count": null,
      "outputs": [
        {
          "output_type": "stream",
          "name": "stdout",
          "text": [
            "3x + 4y + 5z = 0\n"
          ]
        }
      ]
    },
    {
      "cell_type": "code",
      "source": [
        "p1 = Point(0,0)\n",
        "p2=Point(10,10)\n",
        "p1.distance_from_orgin()"
      ],
      "metadata": {
        "colab": {
          "base_uri": "https://localhost:8080/"
        },
        "id": "ZCFtsnX_TZQg",
        "outputId": "8c2841e8-4351-47fb-e22c-e3eba7556835"
      },
      "execution_count": null,
      "outputs": [
        {
          "output_type": "execute_result",
          "data": {
            "text/plain": [
              "0.0"
            ]
          },
          "metadata": {},
          "execution_count": 32
        }
      ]
    },
    {
      "cell_type": "code",
      "source": [],
      "metadata": {
        "id": "ivKXwSyKx7d0"
      },
      "execution_count": null,
      "outputs": []
    },
    {
      "cell_type": "code",
      "source": [],
      "metadata": {
        "id": "AY6EFQNRx7Qd"
      },
      "execution_count": null,
      "outputs": []
    },
    {
      "cell_type": "code",
      "source": [],
      "metadata": {
        "id": "_ice81tZx7Ff"
      },
      "execution_count": null,
      "outputs": []
    },
    {
      "cell_type": "markdown",
      "source": [
        "###How object access attribute"
      ],
      "metadata": {
        "id": "iUp7CQb0u7Mw"
      }
    },
    {
      "cell_type": "code",
      "source": [
        "class Person:\n",
        "\n",
        "  def __init__(self,name_input,country_input):\n",
        "    self.name = name_input\n",
        "    self.country = country_input\n",
        "\n",
        "  def greet(self):\n",
        "    if self.country == 'india':\n",
        "      print('Namaste',self.name)\n",
        "    else:\n",
        "      print('Hello',self.name)\n"
      ],
      "metadata": {
        "id": "BKenMy9TthQ8"
      },
      "execution_count": null,
      "outputs": []
    },
    {
      "cell_type": "code",
      "source": [
        "p = Person('mishra','Bharat')"
      ],
      "metadata": {
        "id": "3pVT0u1ythNc"
      },
      "execution_count": null,
      "outputs": []
    },
    {
      "cell_type": "code",
      "source": [
        "p.country"
      ],
      "metadata": {
        "colab": {
          "base_uri": "https://localhost:8080/",
          "height": 35
        },
        "id": "hlpPpsNKthIw",
        "outputId": "effc7b84-c394-400d-ee25-a071d29f239c"
      },
      "execution_count": null,
      "outputs": [
        {
          "output_type": "execute_result",
          "data": {
            "text/plain": [
              "'Bharat'"
            ],
            "application/vnd.google.colaboratory.intrinsic+json": {
              "type": "string"
            }
          },
          "metadata": {},
          "execution_count": 59
        }
      ]
    },
    {
      "cell_type": "code",
      "source": [
        "p.name"
      ],
      "metadata": {
        "colab": {
          "base_uri": "https://localhost:8080/",
          "height": 35
        },
        "id": "jYg8nsugthFJ",
        "outputId": "7c8a1e19-4e42-4277-e4f1-1fe066f7c047"
      },
      "execution_count": null,
      "outputs": [
        {
          "output_type": "execute_result",
          "data": {
            "text/plain": [
              "'mishra'"
            ],
            "application/vnd.google.colaboratory.intrinsic+json": {
              "type": "string"
            }
          },
          "metadata": {},
          "execution_count": 60
        }
      ]
    },
    {
      "cell_type": "code",
      "source": [
        "p.greet()"
      ],
      "metadata": {
        "colab": {
          "base_uri": "https://localhost:8080/"
        },
        "id": "Fz1jSWidthCT",
        "outputId": "6f28d5da-a543-4bdb-a6d3-361f826730aa"
      },
      "execution_count": null,
      "outputs": [
        {
          "output_type": "stream",
          "name": "stdout",
          "text": [
            "Hello mishra\n"
          ]
        }
      ]
    },
    {
      "cell_type": "code",
      "source": [],
      "metadata": {
        "id": "qRuRtcBItg_A"
      },
      "execution_count": null,
      "outputs": []
    },
    {
      "cell_type": "code",
      "source": [],
      "metadata": {
        "id": "rzng3Gb4tg9d"
      },
      "execution_count": null,
      "outputs": []
    },
    {
      "cell_type": "markdown",
      "source": [
        "### Reference Variables\n",
        "\n",
        "- Reference variables hold the objects\n",
        "- We can create objects without reference variable as well\n",
        "- An object can have multiple reference variables\n",
        "- Assigning a new reference variable to an existing object does not create a new object"
      ],
      "metadata": {
        "id": "q3N_415JufDC"
      }
    },
    {
      "cell_type": "code",
      "source": [
        "# object without a reference\n",
        "class Person:\n",
        "\n",
        "  def __init__(self):\n",
        "    self.name = 'nitish'\n",
        "    self.gender = 'male'\n",
        "\n",
        "p = Person()\n",
        "q = p"
      ],
      "metadata": {
        "id": "hcuLGAeAugUY"
      },
      "execution_count": null,
      "outputs": []
    },
    {
      "cell_type": "code",
      "source": [
        "print(id(p))\n",
        "print(id(q))"
      ],
      "metadata": {
        "colab": {
          "base_uri": "https://localhost:8080/"
        },
        "id": "k-TtQqIxug8G",
        "outputId": "e2c523ee-c4cb-4b3f-9dc8-603e842c3b7f"
      },
      "execution_count": null,
      "outputs": [
        {
          "output_type": "stream",
          "name": "stdout",
          "text": [
            "136133259709936\n",
            "136133259709936\n"
          ]
        }
      ]
    },
    {
      "cell_type": "code",
      "source": [
        "print(p.name)\n",
        "print(q.name)\n",
        "q.name='ankit'\n",
        "print(p.name)\n",
        "print(q.name)"
      ],
      "metadata": {
        "colab": {
          "base_uri": "https://localhost:8080/"
        },
        "id": "CD2kA0w9ug4j",
        "outputId": "cea68842-fdb1-4daa-855f-fe0a1d63a66b"
      },
      "execution_count": null,
      "outputs": [
        {
          "output_type": "stream",
          "name": "stdout",
          "text": [
            "nitish\n",
            "nitish\n",
            "ankit\n",
            "ankit\n"
          ]
        }
      ]
    },
    {
      "cell_type": "code",
      "source": [],
      "metadata": {
        "id": "p2ZFLrO3ug2g"
      },
      "execution_count": null,
      "outputs": []
    },
    {
      "cell_type": "markdown",
      "source": [
        "###Pass by referance"
      ],
      "metadata": {
        "id": "FXwY0alOCVIX"
      }
    },
    {
      "cell_type": "code",
      "source": [
        "class Person:\n",
        "\n",
        "  def __init__(self,name,gender):\n",
        "    self.name = name\n",
        "    self.gender = gender\n",
        "\n",
        "# outside the class -> function\n",
        "def greet(person):\n",
        "  print('Hi my name is',person.name,'and I am a',person.gender)\n",
        "  p1 = Person('ankit','male')\n",
        "  return p1\n",
        "\n",
        "p = Person('nitish','male')\n",
        "x = greet(p)\n",
        "print(x.name)\n",
        "print(x.gender)"
      ],
      "metadata": {
        "colab": {
          "base_uri": "https://localhost:8080/"
        },
        "id": "vuCbR_Z9ug0h",
        "outputId": "f9ba0f91-9cc7-40bb-efe7-b4111fb67f7e"
      },
      "execution_count": null,
      "outputs": [
        {
          "output_type": "stream",
          "name": "stdout",
          "text": [
            "Hi my name is nitish and I am a male\n",
            "ankit\n",
            "male\n"
          ]
        }
      ]
    },
    {
      "cell_type": "markdown",
      "source": [
        "##### Points to remember about static\n",
        "\n",
        "- Static attributes are created at class level.\n",
        "- Static attributes are accessed using ClassName.\n",
        "- Static attributes are object independent. We can access them without creating instance (object) of the class in which they are defined.\n",
        "- The value stored in static attribute is shared between all instances(objects) of the class in which the static attribute is defined."
      ],
      "metadata": {
        "id": "a4FdwHLCulzZ"
      }
    },
    {
      "cell_type": "code",
      "source": [],
      "metadata": {
        "id": "SdnbLNEhumqb"
      },
      "execution_count": null,
      "outputs": []
    },
    {
      "cell_type": "code",
      "source": [],
      "metadata": {
        "id": "29ZGvvRrurG4"
      },
      "execution_count": null,
      "outputs": []
    },
    {
      "cell_type": "code",
      "source": [],
      "metadata": {
        "id": "P6_p5QfburDh"
      },
      "execution_count": null,
      "outputs": []
    },
    {
      "cell_type": "code",
      "source": [],
      "metadata": {
        "id": "esv9FP87urBR"
      },
      "execution_count": null,
      "outputs": []
    }
  ]
}