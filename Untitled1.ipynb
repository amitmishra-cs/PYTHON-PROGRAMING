{
  "nbformat": 4,
  "nbformat_minor": 0,
  "metadata": {
    "colab": {
      "provenance": [],
      "authorship_tag": "ABX9TyNQKjRUy7CWxciwk3npeFYn",
      "include_colab_link": true
    },
    "kernelspec": {
      "name": "python3",
      "display_name": "Python 3"
    },
    "language_info": {
      "name": "python"
    }
  },
  "cells": [
    {
      "cell_type": "markdown",
      "metadata": {
        "id": "view-in-github",
        "colab_type": "text"
      },
      "source": [
        "<a href=\"https://colab.research.google.com/github/amitmishra-cs/PYTHON-PROGRAMING/blob/main/Untitled1.ipynb\" target=\"_parent\"><img src=\"https://colab.research.google.com/assets/colab-badge.svg\" alt=\"Open In Colab\"/></a>"
      ]
    },
    {
      "cell_type": "code",
      "execution_count": 1,
      "metadata": {
        "id": "nMynIjzhQt5X"
      },
      "outputs": [],
      "source": [
        "import numpy as np"
      ]
    },
    {
      "cell_type": "code",
      "source": [
        "a =np.array(4)\n",
        "a"
      ],
      "metadata": {
        "colab": {
          "base_uri": "https://localhost:8080/"
        },
        "id": "Qtk6mxjLQy5h",
        "outputId": "5b010011-6127-4306-c076-81007811c360"
      },
      "execution_count": 3,
      "outputs": [
        {
          "output_type": "execute_result",
          "data": {
            "text/plain": [
              "array(4)"
            ]
          },
          "metadata": {},
          "execution_count": 3
        }
      ]
    },
    {
      "cell_type": "code",
      "source": [
        "a.ndim"
      ],
      "metadata": {
        "colab": {
          "base_uri": "https://localhost:8080/"
        },
        "id": "QJ0CREZwRCWf",
        "outputId": "7c3633cd-5860-4f13-f917-a375c896db17"
      },
      "execution_count": 4,
      "outputs": [
        {
          "output_type": "execute_result",
          "data": {
            "text/plain": [
              "0"
            ]
          },
          "metadata": {},
          "execution_count": 4
        }
      ]
    },
    {
      "cell_type": "code",
      "source": [
        "arr =np.array([1,2,4,4])"
      ],
      "metadata": {
        "id": "9JsHKbDEREas"
      },
      "execution_count": 6,
      "outputs": []
    },
    {
      "cell_type": "code",
      "source": [
        "arr.ndim"
      ],
      "metadata": {
        "colab": {
          "base_uri": "https://localhost:8080/"
        },
        "id": "EU2c9lWcRico",
        "outputId": "d41cabeb-c3c6-4b89-b8bf-b22fa975d531"
      },
      "execution_count": 7,
      "outputs": [
        {
          "output_type": "execute_result",
          "data": {
            "text/plain": [
              "1"
            ]
          },
          "metadata": {},
          "execution_count": 7
        }
      ]
    },
    {
      "cell_type": "code",
      "source": [
        "mat =np.array([[1,2,3],[4,5,6],[7,8,9]])"
      ],
      "metadata": {
        "id": "ffH7HfZoRiZP"
      },
      "execution_count": 8,
      "outputs": []
    },
    {
      "cell_type": "code",
      "source": [
        "mat.ndim"
      ],
      "metadata": {
        "colab": {
          "base_uri": "https://localhost:8080/"
        },
        "id": "K8cbHz2bSbg6",
        "outputId": "70a8f826-38e7-40d4-e6ab-dfeab6e133f6"
      },
      "execution_count": 10,
      "outputs": [
        {
          "output_type": "execute_result",
          "data": {
            "text/plain": [
              "2"
            ]
          },
          "metadata": {},
          "execution_count": 10
        }
      ]
    },
    {
      "cell_type": "code",
      "source": [
        "import pandas as pd"
      ],
      "metadata": {
        "id": "IQ1-Vu1_VEcK"
      },
      "execution_count": 2,
      "outputs": []
    },
    {
      "cell_type": "code",
      "source": [
        "df =pd.read_csv('/content/appleAppData.csv')"
      ],
      "metadata": {
        "id": "Y5vpexc0VEYp"
      },
      "execution_count": 3,
      "outputs": []
    },
    {
      "cell_type": "code",
      "source": [
        "df.head()"
      ],
      "metadata": {
        "colab": {
          "base_uri": "https://localhost:8080/",
          "height": 360
        },
        "id": "fkOcisGMVEXG",
        "outputId": "1d540bd2-7438-4400-cd92-3cb8b6fc8d24"
      },
      "execution_count": 4,
      "outputs": [
        {
          "output_type": "execute_result",
          "data": {
            "text/plain": [
              "                             App_Id                 App_Name  \\\n",
              "0               com.hkbu.arc.apaper           A+ Paper Guide   \n",
              "1               com.dmitriev.abooks                  A-Books   \n",
              "2                    no.terp.abooks                  A-books   \n",
              "3          fr.antoinettefleur.Book1              A-F Book #1   \n",
              "4  com.imonstersoft.azdictionaryios  A-Z Synonyms Dictionary   \n",
              "\n",
              "                                        AppStore_Url Primary_Genre  \\\n",
              "0  https://apps.apple.com/us/app/a-paper-guide/id...     Education   \n",
              "1  https://apps.apple.com/us/app/a-books/id103157...          Book   \n",
              "2  https://apps.apple.com/us/app/a-books/id145702...          Book   \n",
              "3  https://apps.apple.com/us/app/a-f-book-1/id500...          Book   \n",
              "4  https://apps.apple.com/us/app/a-z-synonyms-dic...     Reference   \n",
              "\n",
              "  Content_Rating  Size_Bytes Required_IOS_Version              Released  \\\n",
              "0             4+    21993472                  8.0  2017-09-28T03:02:41Z   \n",
              "1             4+    13135872                 10.0  2015-08-31T19:31:32Z   \n",
              "2             4+    21943296                  9.0  2021-04-14T07:00:00Z   \n",
              "3             4+    81851392                  8.0  2012-02-10T03:40:07Z   \n",
              "4             4+    64692224                  9.0  2020-12-16T08:00:00Z   \n",
              "\n",
              "                Updated Version  ...  Currency   Free  DeveloperId  \\\n",
              "0  2018-12-21T21:30:36Z   1.1.2  ...       USD   True   1375410542   \n",
              "1  2019-07-23T20:31:09Z     1.3  ...       USD   True   1031572001   \n",
              "2  2021-05-30T21:08:54Z   1.3.1  ...       USD   True   1457024163   \n",
              "3  2019-10-29T12:40:37Z     1.2  ...       USD  False    439568839   \n",
              "4  2020-12-18T21:36:11Z   1.0.1  ...       USD   True    656731821   \n",
              "\n",
              "        Developer                                      Developer_Url  \\\n",
              "0        HKBU ARC  https://apps.apple.com/us/developer/hkbu-arc/i...   \n",
              "1  Roman Dmitriev  https://apps.apple.com/us/developer/roman-dmit...   \n",
              "2         Terp AS  https://apps.apple.com/us/developer/terp-as/id...   \n",
              "3   i-editeur.com  https://apps.apple.com/us/developer/i-editeur-...   \n",
              "4   Ngov chiheang  https://apps.apple.com/us/developer/ngov-chihe...   \n",
              "\n",
              "         Developer_Website Average_User_Rating  Reviews  \\\n",
              "0                      NaN                 0.0      0.0   \n",
              "1                      NaN                 5.0      1.0   \n",
              "2                      NaN                 0.0      0.0   \n",
              "3                      NaN                 0.0      0.0   \n",
              "4  http://imonstersoft.com                 0.0      0.0   \n",
              "\n",
              "   Current_Version_Score  Current_Version_Reviews  \n",
              "0                    0.0                      0.0  \n",
              "1                    5.0                      1.0  \n",
              "2                    0.0                      0.0  \n",
              "3                    0.0                      0.0  \n",
              "4                    0.0                      0.0  \n",
              "\n",
              "[5 rows x 21 columns]"
            ],
            "text/html": [
              "\n",
              "  <div id=\"df-d96dc2e3-5659-4034-a2c5-b96a59778b30\" class=\"colab-df-container\">\n",
              "    <div>\n",
              "<style scoped>\n",
              "    .dataframe tbody tr th:only-of-type {\n",
              "        vertical-align: middle;\n",
              "    }\n",
              "\n",
              "    .dataframe tbody tr th {\n",
              "        vertical-align: top;\n",
              "    }\n",
              "\n",
              "    .dataframe thead th {\n",
              "        text-align: right;\n",
              "    }\n",
              "</style>\n",
              "<table border=\"1\" class=\"dataframe\">\n",
              "  <thead>\n",
              "    <tr style=\"text-align: right;\">\n",
              "      <th></th>\n",
              "      <th>App_Id</th>\n",
              "      <th>App_Name</th>\n",
              "      <th>AppStore_Url</th>\n",
              "      <th>Primary_Genre</th>\n",
              "      <th>Content_Rating</th>\n",
              "      <th>Size_Bytes</th>\n",
              "      <th>Required_IOS_Version</th>\n",
              "      <th>Released</th>\n",
              "      <th>Updated</th>\n",
              "      <th>Version</th>\n",
              "      <th>...</th>\n",
              "      <th>Currency</th>\n",
              "      <th>Free</th>\n",
              "      <th>DeveloperId</th>\n",
              "      <th>Developer</th>\n",
              "      <th>Developer_Url</th>\n",
              "      <th>Developer_Website</th>\n",
              "      <th>Average_User_Rating</th>\n",
              "      <th>Reviews</th>\n",
              "      <th>Current_Version_Score</th>\n",
              "      <th>Current_Version_Reviews</th>\n",
              "    </tr>\n",
              "  </thead>\n",
              "  <tbody>\n",
              "    <tr>\n",
              "      <th>0</th>\n",
              "      <td>com.hkbu.arc.apaper</td>\n",
              "      <td>A+ Paper Guide</td>\n",
              "      <td>https://apps.apple.com/us/app/a-paper-guide/id...</td>\n",
              "      <td>Education</td>\n",
              "      <td>4+</td>\n",
              "      <td>21993472</td>\n",
              "      <td>8.0</td>\n",
              "      <td>2017-09-28T03:02:41Z</td>\n",
              "      <td>2018-12-21T21:30:36Z</td>\n",
              "      <td>1.1.2</td>\n",
              "      <td>...</td>\n",
              "      <td>USD</td>\n",
              "      <td>True</td>\n",
              "      <td>1375410542</td>\n",
              "      <td>HKBU ARC</td>\n",
              "      <td>https://apps.apple.com/us/developer/hkbu-arc/i...</td>\n",
              "      <td>NaN</td>\n",
              "      <td>0.0</td>\n",
              "      <td>0.0</td>\n",
              "      <td>0.0</td>\n",
              "      <td>0.0</td>\n",
              "    </tr>\n",
              "    <tr>\n",
              "      <th>1</th>\n",
              "      <td>com.dmitriev.abooks</td>\n",
              "      <td>A-Books</td>\n",
              "      <td>https://apps.apple.com/us/app/a-books/id103157...</td>\n",
              "      <td>Book</td>\n",
              "      <td>4+</td>\n",
              "      <td>13135872</td>\n",
              "      <td>10.0</td>\n",
              "      <td>2015-08-31T19:31:32Z</td>\n",
              "      <td>2019-07-23T20:31:09Z</td>\n",
              "      <td>1.3</td>\n",
              "      <td>...</td>\n",
              "      <td>USD</td>\n",
              "      <td>True</td>\n",
              "      <td>1031572001</td>\n",
              "      <td>Roman Dmitriev</td>\n",
              "      <td>https://apps.apple.com/us/developer/roman-dmit...</td>\n",
              "      <td>NaN</td>\n",
              "      <td>5.0</td>\n",
              "      <td>1.0</td>\n",
              "      <td>5.0</td>\n",
              "      <td>1.0</td>\n",
              "    </tr>\n",
              "    <tr>\n",
              "      <th>2</th>\n",
              "      <td>no.terp.abooks</td>\n",
              "      <td>A-books</td>\n",
              "      <td>https://apps.apple.com/us/app/a-books/id145702...</td>\n",
              "      <td>Book</td>\n",
              "      <td>4+</td>\n",
              "      <td>21943296</td>\n",
              "      <td>9.0</td>\n",
              "      <td>2021-04-14T07:00:00Z</td>\n",
              "      <td>2021-05-30T21:08:54Z</td>\n",
              "      <td>1.3.1</td>\n",
              "      <td>...</td>\n",
              "      <td>USD</td>\n",
              "      <td>True</td>\n",
              "      <td>1457024163</td>\n",
              "      <td>Terp AS</td>\n",
              "      <td>https://apps.apple.com/us/developer/terp-as/id...</td>\n",
              "      <td>NaN</td>\n",
              "      <td>0.0</td>\n",
              "      <td>0.0</td>\n",
              "      <td>0.0</td>\n",
              "      <td>0.0</td>\n",
              "    </tr>\n",
              "    <tr>\n",
              "      <th>3</th>\n",
              "      <td>fr.antoinettefleur.Book1</td>\n",
              "      <td>A-F Book #1</td>\n",
              "      <td>https://apps.apple.com/us/app/a-f-book-1/id500...</td>\n",
              "      <td>Book</td>\n",
              "      <td>4+</td>\n",
              "      <td>81851392</td>\n",
              "      <td>8.0</td>\n",
              "      <td>2012-02-10T03:40:07Z</td>\n",
              "      <td>2019-10-29T12:40:37Z</td>\n",
              "      <td>1.2</td>\n",
              "      <td>...</td>\n",
              "      <td>USD</td>\n",
              "      <td>False</td>\n",
              "      <td>439568839</td>\n",
              "      <td>i-editeur.com</td>\n",
              "      <td>https://apps.apple.com/us/developer/i-editeur-...</td>\n",
              "      <td>NaN</td>\n",
              "      <td>0.0</td>\n",
              "      <td>0.0</td>\n",
              "      <td>0.0</td>\n",
              "      <td>0.0</td>\n",
              "    </tr>\n",
              "    <tr>\n",
              "      <th>4</th>\n",
              "      <td>com.imonstersoft.azdictionaryios</td>\n",
              "      <td>A-Z Synonyms Dictionary</td>\n",
              "      <td>https://apps.apple.com/us/app/a-z-synonyms-dic...</td>\n",
              "      <td>Reference</td>\n",
              "      <td>4+</td>\n",
              "      <td>64692224</td>\n",
              "      <td>9.0</td>\n",
              "      <td>2020-12-16T08:00:00Z</td>\n",
              "      <td>2020-12-18T21:36:11Z</td>\n",
              "      <td>1.0.1</td>\n",
              "      <td>...</td>\n",
              "      <td>USD</td>\n",
              "      <td>True</td>\n",
              "      <td>656731821</td>\n",
              "      <td>Ngov chiheang</td>\n",
              "      <td>https://apps.apple.com/us/developer/ngov-chihe...</td>\n",
              "      <td>http://imonstersoft.com</td>\n",
              "      <td>0.0</td>\n",
              "      <td>0.0</td>\n",
              "      <td>0.0</td>\n",
              "      <td>0.0</td>\n",
              "    </tr>\n",
              "  </tbody>\n",
              "</table>\n",
              "<p>5 rows × 21 columns</p>\n",
              "</div>\n",
              "    <div class=\"colab-df-buttons\">\n",
              "\n",
              "  <div class=\"colab-df-container\">\n",
              "    <button class=\"colab-df-convert\" onclick=\"convertToInteractive('df-d96dc2e3-5659-4034-a2c5-b96a59778b30')\"\n",
              "            title=\"Convert this dataframe to an interactive table.\"\n",
              "            style=\"display:none;\">\n",
              "\n",
              "  <svg xmlns=\"http://www.w3.org/2000/svg\" height=\"24px\" viewBox=\"0 -960 960 960\">\n",
              "    <path d=\"M120-120v-720h720v720H120Zm60-500h600v-160H180v160Zm220 220h160v-160H400v160Zm0 220h160v-160H400v160ZM180-400h160v-160H180v160Zm440 0h160v-160H620v160ZM180-180h160v-160H180v160Zm440 0h160v-160H620v160Z\"/>\n",
              "  </svg>\n",
              "    </button>\n",
              "\n",
              "  <style>\n",
              "    .colab-df-container {\n",
              "      display:flex;\n",
              "      gap: 12px;\n",
              "    }\n",
              "\n",
              "    .colab-df-convert {\n",
              "      background-color: #E8F0FE;\n",
              "      border: none;\n",
              "      border-radius: 50%;\n",
              "      cursor: pointer;\n",
              "      display: none;\n",
              "      fill: #1967D2;\n",
              "      height: 32px;\n",
              "      padding: 0 0 0 0;\n",
              "      width: 32px;\n",
              "    }\n",
              "\n",
              "    .colab-df-convert:hover {\n",
              "      background-color: #E2EBFA;\n",
              "      box-shadow: 0px 1px 2px rgba(60, 64, 67, 0.3), 0px 1px 3px 1px rgba(60, 64, 67, 0.15);\n",
              "      fill: #174EA6;\n",
              "    }\n",
              "\n",
              "    .colab-df-buttons div {\n",
              "      margin-bottom: 4px;\n",
              "    }\n",
              "\n",
              "    [theme=dark] .colab-df-convert {\n",
              "      background-color: #3B4455;\n",
              "      fill: #D2E3FC;\n",
              "    }\n",
              "\n",
              "    [theme=dark] .colab-df-convert:hover {\n",
              "      background-color: #434B5C;\n",
              "      box-shadow: 0px 1px 3px 1px rgba(0, 0, 0, 0.15);\n",
              "      filter: drop-shadow(0px 1px 2px rgba(0, 0, 0, 0.3));\n",
              "      fill: #FFFFFF;\n",
              "    }\n",
              "  </style>\n",
              "\n",
              "    <script>\n",
              "      const buttonEl =\n",
              "        document.querySelector('#df-d96dc2e3-5659-4034-a2c5-b96a59778b30 button.colab-df-convert');\n",
              "      buttonEl.style.display =\n",
              "        google.colab.kernel.accessAllowed ? 'block' : 'none';\n",
              "\n",
              "      async function convertToInteractive(key) {\n",
              "        const element = document.querySelector('#df-d96dc2e3-5659-4034-a2c5-b96a59778b30');\n",
              "        const dataTable =\n",
              "          await google.colab.kernel.invokeFunction('convertToInteractive',\n",
              "                                                    [key], {});\n",
              "        if (!dataTable) return;\n",
              "\n",
              "        const docLinkHtml = 'Like what you see? Visit the ' +\n",
              "          '<a target=\"_blank\" href=https://colab.research.google.com/notebooks/data_table.ipynb>data table notebook</a>'\n",
              "          + ' to learn more about interactive tables.';\n",
              "        element.innerHTML = '';\n",
              "        dataTable['output_type'] = 'display_data';\n",
              "        await google.colab.output.renderOutput(dataTable, element);\n",
              "        const docLink = document.createElement('div');\n",
              "        docLink.innerHTML = docLinkHtml;\n",
              "        element.appendChild(docLink);\n",
              "      }\n",
              "    </script>\n",
              "  </div>\n",
              "\n",
              "\n",
              "<div id=\"df-64e7eff5-8b20-455f-b085-040104725f97\">\n",
              "  <button class=\"colab-df-quickchart\" onclick=\"quickchart('df-64e7eff5-8b20-455f-b085-040104725f97')\"\n",
              "            title=\"Suggest charts\"\n",
              "            style=\"display:none;\">\n",
              "\n",
              "<svg xmlns=\"http://www.w3.org/2000/svg\" height=\"24px\"viewBox=\"0 0 24 24\"\n",
              "     width=\"24px\">\n",
              "    <g>\n",
              "        <path d=\"M19 3H5c-1.1 0-2 .9-2 2v14c0 1.1.9 2 2 2h14c1.1 0 2-.9 2-2V5c0-1.1-.9-2-2-2zM9 17H7v-7h2v7zm4 0h-2V7h2v10zm4 0h-2v-4h2v4z\"/>\n",
              "    </g>\n",
              "</svg>\n",
              "  </button>\n",
              "\n",
              "<style>\n",
              "  .colab-df-quickchart {\n",
              "      --bg-color: #E8F0FE;\n",
              "      --fill-color: #1967D2;\n",
              "      --hover-bg-color: #E2EBFA;\n",
              "      --hover-fill-color: #174EA6;\n",
              "      --disabled-fill-color: #AAA;\n",
              "      --disabled-bg-color: #DDD;\n",
              "  }\n",
              "\n",
              "  [theme=dark] .colab-df-quickchart {\n",
              "      --bg-color: #3B4455;\n",
              "      --fill-color: #D2E3FC;\n",
              "      --hover-bg-color: #434B5C;\n",
              "      --hover-fill-color: #FFFFFF;\n",
              "      --disabled-bg-color: #3B4455;\n",
              "      --disabled-fill-color: #666;\n",
              "  }\n",
              "\n",
              "  .colab-df-quickchart {\n",
              "    background-color: var(--bg-color);\n",
              "    border: none;\n",
              "    border-radius: 50%;\n",
              "    cursor: pointer;\n",
              "    display: none;\n",
              "    fill: var(--fill-color);\n",
              "    height: 32px;\n",
              "    padding: 0;\n",
              "    width: 32px;\n",
              "  }\n",
              "\n",
              "  .colab-df-quickchart:hover {\n",
              "    background-color: var(--hover-bg-color);\n",
              "    box-shadow: 0 1px 2px rgba(60, 64, 67, 0.3), 0 1px 3px 1px rgba(60, 64, 67, 0.15);\n",
              "    fill: var(--button-hover-fill-color);\n",
              "  }\n",
              "\n",
              "  .colab-df-quickchart-complete:disabled,\n",
              "  .colab-df-quickchart-complete:disabled:hover {\n",
              "    background-color: var(--disabled-bg-color);\n",
              "    fill: var(--disabled-fill-color);\n",
              "    box-shadow: none;\n",
              "  }\n",
              "\n",
              "  .colab-df-spinner {\n",
              "    border: 2px solid var(--fill-color);\n",
              "    border-color: transparent;\n",
              "    border-bottom-color: var(--fill-color);\n",
              "    animation:\n",
              "      spin 1s steps(1) infinite;\n",
              "  }\n",
              "\n",
              "  @keyframes spin {\n",
              "    0% {\n",
              "      border-color: transparent;\n",
              "      border-bottom-color: var(--fill-color);\n",
              "      border-left-color: var(--fill-color);\n",
              "    }\n",
              "    20% {\n",
              "      border-color: transparent;\n",
              "      border-left-color: var(--fill-color);\n",
              "      border-top-color: var(--fill-color);\n",
              "    }\n",
              "    30% {\n",
              "      border-color: transparent;\n",
              "      border-left-color: var(--fill-color);\n",
              "      border-top-color: var(--fill-color);\n",
              "      border-right-color: var(--fill-color);\n",
              "    }\n",
              "    40% {\n",
              "      border-color: transparent;\n",
              "      border-right-color: var(--fill-color);\n",
              "      border-top-color: var(--fill-color);\n",
              "    }\n",
              "    60% {\n",
              "      border-color: transparent;\n",
              "      border-right-color: var(--fill-color);\n",
              "    }\n",
              "    80% {\n",
              "      border-color: transparent;\n",
              "      border-right-color: var(--fill-color);\n",
              "      border-bottom-color: var(--fill-color);\n",
              "    }\n",
              "    90% {\n",
              "      border-color: transparent;\n",
              "      border-bottom-color: var(--fill-color);\n",
              "    }\n",
              "  }\n",
              "</style>\n",
              "\n",
              "  <script>\n",
              "    async function quickchart(key) {\n",
              "      const quickchartButtonEl =\n",
              "        document.querySelector('#' + key + ' button');\n",
              "      quickchartButtonEl.disabled = true;  // To prevent multiple clicks.\n",
              "      quickchartButtonEl.classList.add('colab-df-spinner');\n",
              "      try {\n",
              "        const charts = await google.colab.kernel.invokeFunction(\n",
              "            'suggestCharts', [key], {});\n",
              "      } catch (error) {\n",
              "        console.error('Error during call to suggestCharts:', error);\n",
              "      }\n",
              "      quickchartButtonEl.classList.remove('colab-df-spinner');\n",
              "      quickchartButtonEl.classList.add('colab-df-quickchart-complete');\n",
              "    }\n",
              "    (() => {\n",
              "      let quickchartButtonEl =\n",
              "        document.querySelector('#df-64e7eff5-8b20-455f-b085-040104725f97 button');\n",
              "      quickchartButtonEl.style.display =\n",
              "        google.colab.kernel.accessAllowed ? 'block' : 'none';\n",
              "    })();\n",
              "  </script>\n",
              "</div>\n",
              "\n",
              "    </div>\n",
              "  </div>\n"
            ],
            "application/vnd.google.colaboratory.intrinsic+json": {
              "type": "dataframe",
              "variable_name": "df"
            }
          },
          "metadata": {},
          "execution_count": 4
        }
      ]
    }
  ]
}