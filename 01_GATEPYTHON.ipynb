{
  "nbformat": 4,
  "nbformat_minor": 0,
  "metadata": {
    "colab": {
      "provenance": [],
      "authorship_tag": "ABX9TyPcb+4y6UFGaLeqVE1aEcHD",
      "include_colab_link": true
    },
    "kernelspec": {
      "name": "python3",
      "display_name": "Python 3"
    },
    "language_info": {
      "name": "python"
    }
  },
  "cells": [
    {
      "cell_type": "markdown",
      "metadata": {
        "id": "view-in-github",
        "colab_type": "text"
      },
      "source": [
        "<a href=\"https://colab.research.google.com/github/amitmishra-cs/PYTHON-PROGRAMING/blob/main/01_GATEPYTHON.ipynb\" target=\"_parent\"><img src=\"https://colab.research.google.com/assets/colab-badge.svg\" alt=\"Open In Colab\"/></a>"
      ]
    },
    {
      "cell_type": "markdown",
      "source": [
        "OPREATERS\n"
      ],
      "metadata": {
        "id": "jtNtx5vERxeV"
      }
    },
    {
      "cell_type": "code",
      "source": [
        "10 < 20\n",
        "10 <=10"
      ],
      "metadata": {
        "colab": {
          "base_uri": "https://localhost:8080/"
        },
        "id": "Lk3mYX_4SBdA",
        "outputId": "34df0235-3149-417c-f94f-dd4e085c5d0e"
      },
      "execution_count": null,
      "outputs": [
        {
          "output_type": "execute_result",
          "data": {
            "text/plain": [
              "True"
            ]
          },
          "metadata": {},
          "execution_count": 3
        }
      ]
    },
    {
      "cell_type": "code",
      "source": [
        "a =2+3j\n",
        "b = 4+5j\n",
        "a+b"
      ],
      "metadata": {
        "colab": {
          "base_uri": "https://localhost:8080/"
        },
        "id": "85_gMWyoSbPH",
        "outputId": "cbc6dfcc-d366-4f09-9a5b-c902b1d04916"
      },
      "execution_count": null,
      "outputs": [
        {
          "output_type": "execute_result",
          "data": {
            "text/plain": [
              "(6+8j)"
            ]
          },
          "metadata": {},
          "execution_count": 4
        }
      ]
    },
    {
      "cell_type": "code",
      "source": [
        "a =10\n",
        "b = 70\n",
        "a>b"
      ],
      "metadata": {
        "colab": {
          "base_uri": "https://localhost:8080/"
        },
        "id": "6J2uvNlESjt5",
        "outputId": "8eba9351-f336-4c78-b815-8bae609e49cf"
      },
      "execution_count": null,
      "outputs": [
        {
          "output_type": "execute_result",
          "data": {
            "text/plain": [
              "False"
            ]
          },
          "metadata": {},
          "execution_count": 7
        }
      ]
    },
    {
      "cell_type": "code",
      "source": [
        "a =\"amit \"\n",
        "b =\"ram\"\n",
        "a<b"
      ],
      "metadata": {
        "colab": {
          "base_uri": "https://localhost:8080/"
        },
        "id": "99erQ2DdSvTT",
        "outputId": "326368ca-74d0-4544-818a-661138bcd3f1"
      },
      "execution_count": null,
      "outputs": [
        {
          "output_type": "execute_result",
          "data": {
            "text/plain": [
              "True"
            ]
          },
          "metadata": {},
          "execution_count": 9
        }
      ]
    },
    {
      "cell_type": "code",
      "source": [
        "a =100\n",
        "a =a+1\n",
        "a"
      ],
      "metadata": {
        "colab": {
          "base_uri": "https://localhost:8080/"
        },
        "id": "H8Y76LX_TLxz",
        "outputId": "5a4796d7-f728-496e-c90c-20c78b64b95f"
      },
      "execution_count": null,
      "outputs": [
        {
          "output_type": "execute_result",
          "data": {
            "text/plain": [
              "101"
            ]
          },
          "metadata": {},
          "execution_count": 11
        }
      ]
    },
    {
      "cell_type": "code",
      "source": [
        "a =100\n",
        "id(a)"
      ],
      "metadata": {
        "colab": {
          "base_uri": "https://localhost:8080/"
        },
        "id": "bwkpiXnNUNqV",
        "outputId": "c6519920-9799-493d-f4b2-6961ebfe3525"
      },
      "execution_count": null,
      "outputs": [
        {
          "output_type": "execute_result",
          "data": {
            "text/plain": [
              "133912232217936"
            ]
          },
          "metadata": {},
          "execution_count": 12
        }
      ]
    },
    {
      "cell_type": "code",
      "source": [
        "a =a+1\n",
        "id(a)"
      ],
      "metadata": {
        "colab": {
          "base_uri": "https://localhost:8080/"
        },
        "id": "1C6tRJ6nUNmx",
        "outputId": "1a41ba2a-d1b4-4c5b-9782-0d475d127411"
      },
      "execution_count": null,
      "outputs": [
        {
          "output_type": "execute_result",
          "data": {
            "text/plain": [
              "133912232217968"
            ]
          },
          "metadata": {},
          "execution_count": 13
        }
      ]
    },
    {
      "cell_type": "code",
      "source": [
        "a =input()\n",
        "b =input()\n"
      ],
      "metadata": {
        "colab": {
          "base_uri": "https://localhost:8080/"
        },
        "id": "7sUPwUppUNkR",
        "outputId": "65ab5f64-4bfc-44e2-cea7-a10df541f596"
      },
      "execution_count": null,
      "outputs": [
        {
          "name": "stdout",
          "output_type": "stream",
          "text": [
            "22\n",
            "80\n"
          ]
        }
      ]
    },
    {
      "cell_type": "code",
      "source": [
        "a+b"
      ],
      "metadata": {
        "colab": {
          "base_uri": "https://localhost:8080/",
          "height": 35
        },
        "id": "4iVS2nWdUNgt",
        "outputId": "c5237e8e-0e84-4460-c7ae-066168131e98"
      },
      "execution_count": null,
      "outputs": [
        {
          "output_type": "execute_result",
          "data": {
            "text/plain": [
              "'2280'"
            ],
            "application/vnd.google.colaboratory.intrinsic+json": {
              "type": "string"
            }
          },
          "metadata": {},
          "execution_count": 15
        }
      ]
    },
    {
      "cell_type": "code",
      "source": [
        "#string = integer covert\n",
        "a =input()\n",
        "n1 =int(a)\n",
        "b =input()\n",
        "n2=int(b)\n",
        "n1+n2"
      ],
      "metadata": {
        "colab": {
          "base_uri": "https://localhost:8080/"
        },
        "id": "equDV8PaUNet",
        "outputId": "7d615d55-e6e4-4a34-da52-caae22357663"
      },
      "execution_count": null,
      "outputs": [
        {
          "name": "stdout",
          "output_type": "stream",
          "text": [
            "80\n",
            "90\n"
          ]
        },
        {
          "output_type": "execute_result",
          "data": {
            "text/plain": [
              "170"
            ]
          },
          "metadata": {},
          "execution_count": 16
        }
      ]
    },
    {
      "cell_type": "code",
      "source": [
        "# bitwise op only work int and boll\n",
        "a =10\n",
        "b =5\n",
        "a&b\n"
      ],
      "metadata": {
        "colab": {
          "base_uri": "https://localhost:8080/"
        },
        "id": "jwT4ZeG2WLFz",
        "outputId": "ba13107c-9957-4dbb-b9ce-e86d4069f901"
      },
      "execution_count": null,
      "outputs": [
        {
          "output_type": "execute_result",
          "data": {
            "text/plain": [
              "0"
            ]
          },
          "metadata": {},
          "execution_count": 2
        }
      ]
    },
    {
      "cell_type": "code",
      "source": [
        "  a = int(input())\n",
        "  b = int(input())\n",
        "  c = a  if  a>b else b\n",
        "  print(c)"
      ],
      "metadata": {
        "id": "fuVmb2huWLCa",
        "colab": {
          "base_uri": "https://localhost:8080/"
        },
        "outputId": "c6c6dbcd-771e-43cb-de07-fba8372d4c7d"
      },
      "execution_count": null,
      "outputs": [
        {
          "output_type": "stream",
          "name": "stdout",
          "text": [
            "90\n",
            "900\n",
            "900\n"
          ]
        }
      ]
    },
    {
      "cell_type": "code",
      "source": [
        "  a = int (input())\n",
        "  b = int (input())\n",
        "  c = int (input())\n",
        "\n",
        "  # if a>b and a>c:\n",
        "  #   print(a)\n",
        "  # elif b>a and b>c:\n",
        "  #   print(b)\n",
        "  # else:\n",
        "  #   print(c)\n",
        "\n",
        "  d = a if a>b and a>c else (b if b>c else c)\n",
        "  print(d)"
      ],
      "metadata": {
        "id": "FHUcj-mVWLAE",
        "colab": {
          "base_uri": "https://localhost:8080/"
        },
        "outputId": "326f2380-a266-4edd-f2fb-fba9279ed2ae"
      },
      "execution_count": null,
      "outputs": [
        {
          "output_type": "stream",
          "name": "stdout",
          "text": [
            "10\n",
            "9\n",
            "8\n",
            "10\n"
          ]
        }
      ]
    },
    {
      "cell_type": "code",
      "source": [
        "a,b,c =10, 20, 30\n",
        "d = a if a>b and a>c else (b if b>c else c)\n",
        "print(d)\n"
      ],
      "metadata": {
        "id": "tBqFM4nsWK9r",
        "colab": {
          "base_uri": "https://localhost:8080/"
        },
        "outputId": "03e2af17-ad2c-4d9e-be6a-e2a2c58e0cc1"
      },
      "execution_count": null,
      "outputs": [
        {
          "output_type": "stream",
          "name": "stdout",
          "text": [
            "30\n"
          ]
        }
      ]
    },
    {
      "cell_type": "code",
      "source": [
        "a = 10\n",
        "b =9873\n",
        "id(a)"
      ],
      "metadata": {
        "id": "XH1EeojmWK20",
        "colab": {
          "base_uri": "https://localhost:8080/"
        },
        "outputId": "821d3f8c-461f-491a-b861-544667405630"
      },
      "execution_count": null,
      "outputs": [
        {
          "output_type": "execute_result",
          "data": {
            "text/plain": [
              "139938074870288"
            ]
          },
          "metadata": {},
          "execution_count": 9
        }
      ]
    },
    {
      "cell_type": "code",
      "source": [
        "id(b)"
      ],
      "metadata": {
        "colab": {
          "base_uri": "https://localhost:8080/"
        },
        "id": "RQkOEyhvyA7s",
        "outputId": "91932792-c7d6-4cef-e521-2c360e2e5b6c"
      },
      "execution_count": null,
      "outputs": [
        {
          "output_type": "execute_result",
          "data": {
            "text/plain": [
              "139936794816112"
            ]
          },
          "metadata": {},
          "execution_count": 10
        }
      ]
    },
    {
      "cell_type": "code",
      "source": [
        "#id(a) == id(b)\n",
        "a is b"
      ],
      "metadata": {
        "colab": {
          "base_uri": "https://localhost:8080/"
        },
        "id": "zH1JNlMnyA4Q",
        "outputId": "4e1b3914-cd0b-412f-dda3-609509a6d997"
      },
      "execution_count": null,
      "outputs": [
        {
          "output_type": "execute_result",
          "data": {
            "text/plain": [
              "False"
            ]
          },
          "metadata": {},
          "execution_count": 13
        }
      ]
    },
    {
      "cell_type": "code",
      "source": [
        "a = \"AMIT\"\n",
        "b = \"AMIT\"\n",
        "a is b"
      ],
      "metadata": {
        "colab": {
          "base_uri": "https://localhost:8080/"
        },
        "id": "CNghauGJyPNy",
        "outputId": "a0d5e61e-5ad0-4fea-b0cf-828acee5b4ab"
      },
      "execution_count": null,
      "outputs": [
        {
          "output_type": "execute_result",
          "data": {
            "text/plain": [
              "True"
            ]
          },
          "metadata": {},
          "execution_count": 15
        }
      ]
    },
    {
      "cell_type": "code",
      "source": [
        " a=10\n",
        " b =20\n",
        " c= 30\n",
        " print(a,b,c)"
      ],
      "metadata": {
        "colab": {
          "base_uri": "https://localhost:8080/"
        },
        "id": "kxfb3mo-yPKZ",
        "outputId": "1106bfbe-8117-4a8c-b92d-4ba3b4c12303"
      },
      "execution_count": null,
      "outputs": [
        {
          "output_type": "stream",
          "name": "stdout",
          "text": [
            "10 20 30\n"
          ]
        }
      ]
    },
    {
      "cell_type": "code",
      "source": [
        "print(a,b,c,sep='')"
      ],
      "metadata": {
        "colab": {
          "base_uri": "https://localhost:8080/"
        },
        "id": "HD2gkVc0yPG0",
        "outputId": "db18e192-b646-4249-fd2b-9871512b97c7"
      },
      "execution_count": null,
      "outputs": [
        {
          "output_type": "stream",
          "name": "stdout",
          "text": [
            "102030\n"
          ]
        }
      ]
    },
    {
      "cell_type": "code",
      "source": [
        "print(a,b,c,sep=\"mishar\")"
      ],
      "metadata": {
        "colab": {
          "base_uri": "https://localhost:8080/"
        },
        "id": "L1QwW1zWAH7D",
        "outputId": "bda8d891-75ee-49fe-a06e-efa257c8fc96"
      },
      "execution_count": null,
      "outputs": [
        {
          "output_type": "stream",
          "name": "stdout",
          "text": [
            "10mishar20mishar30\n"
          ]
        }
      ]
    },
    {
      "cell_type": "code",
      "source": [
        "print(\"mishar\", \"ji\")"
      ],
      "metadata": {
        "colab": {
          "base_uri": "https://localhost:8080/"
        },
        "id": "-mmO0LQDAH3e",
        "outputId": "88d7f5e2-6077-4fea-9ddf-8e5c644e8211"
      },
      "execution_count": null,
      "outputs": [
        {
          "output_type": "stream",
          "name": "stdout",
          "text": [
            "mishar ji\n"
          ]
        }
      ]
    },
    {
      "cell_type": "code",
      "source": [
        "a =10\n",
        "b =20\n",
        "print(\"the sum is \", a+b)"
      ],
      "metadata": {
        "colab": {
          "base_uri": "https://localhost:8080/"
        },
        "id": "fG3VwN8-AxY9",
        "outputId": "6a5cacd2-90d0-42e7-b522-902d446f0cc9"
      },
      "execution_count": null,
      "outputs": [
        {
          "output_type": "stream",
          "name": "stdout",
          "text": [
            "the sum is  30\n"
          ]
        }
      ]
    },
    {
      "cell_type": "code",
      "source": [
        "print(\"hello kase ho\", end=' ')\n",
        "print(\"you\", end=' ')"
      ],
      "metadata": {
        "colab": {
          "base_uri": "https://localhost:8080/"
        },
        "id": "dfhPOV2nAxVk",
        "outputId": "96d746ed-81d3-42da-beaf-d772b3656abd"
      },
      "execution_count": null,
      "outputs": [
        {
          "output_type": "stream",
          "name": "stdout",
          "text": [
            "hello kase ho you "
          ]
        }
      ]
    },
    {
      "cell_type": "markdown",
      "source": [
        "**CONTROAL AND FLOW SATEMENT**"
      ],
      "metadata": {
        "id": "GTbBxQUTRqdp"
      }
    },
    {
      "cell_type": "code",
      "source": [
        "for i in range(1,4):\n",
        "  for j in range(1,5):\n",
        "    print(j, end='')"
      ],
      "metadata": {
        "id": "Xd3vLOtUDzH8",
        "colab": {
          "base_uri": "https://localhost:8080/"
        },
        "outputId": "8163bc24-ee05-46e8-d3b5-4d0d1889aa92"
      },
      "execution_count": null,
      "outputs": [
        {
          "output_type": "stream",
          "name": "stdout",
          "text": [
            "123412341234"
          ]
        }
      ]
    },
    {
      "cell_type": "code",
      "source": [
        "for i in range(1,4):\n",
        "  for j in range(1,5):\n",
        "    print(i,j)"
      ],
      "metadata": {
        "id": "ORfLn8u1DzEh",
        "colab": {
          "base_uri": "https://localhost:8080/"
        },
        "outputId": "817c5b7d-b07d-4231-ea57-004b3aa02dc1"
      },
      "execution_count": null,
      "outputs": [
        {
          "output_type": "stream",
          "name": "stdout",
          "text": [
            "1 1\n",
            "1 2\n",
            "1 3\n",
            "1 4\n",
            "2 1\n",
            "2 2\n",
            "2 3\n",
            "2 4\n",
            "3 1\n",
            "3 2\n",
            "3 3\n",
            "3 4\n"
          ]
        }
      ]
    },
    {
      "cell_type": "code",
      "source": [
        "for i in range(1,4):\n",
        "  for j in range(1,5):\n",
        "    print(i,j, sep='' ,end=' ')\n",
        "  print()"
      ],
      "metadata": {
        "id": "Vc68pZ1FDzCf",
        "colab": {
          "base_uri": "https://localhost:8080/"
        },
        "outputId": "94995cea-e47d-4a74-873b-4b0950621a8e"
      },
      "execution_count": null,
      "outputs": [
        {
          "output_type": "stream",
          "name": "stdout",
          "text": [
            "11 12 13 14 \n",
            "21 22 23 24 \n",
            "31 32 33 34 \n"
          ]
        }
      ]
    },
    {
      "cell_type": "code",
      "source": [
        "for row in range(1,6):\n",
        "  for col in range(1,row+1):\n",
        "    print(col, end='')\n",
        "  print()"
      ],
      "metadata": {
        "id": "uDLbQLj4Dy9C",
        "colab": {
          "base_uri": "https://localhost:8080/"
        },
        "outputId": "c6c5f22d-84c0-44ec-b384-73456f0401c4"
      },
      "execution_count": null,
      "outputs": [
        {
          "output_type": "stream",
          "name": "stdout",
          "text": [
            "1\n",
            "12\n",
            "123\n",
            "1234\n",
            "12345\n"
          ]
        }
      ]
    },
    {
      "cell_type": "code",
      "source": [
        "for row in range(1,6):\n",
        "  for col in range(1,row+1):\n",
        "    print(\"*\", end='')\n",
        "  print()"
      ],
      "metadata": {
        "colab": {
          "base_uri": "https://localhost:8080/"
        },
        "id": "CR-sLe0yN9MN",
        "outputId": "ebfe1e94-0df0-4fd0-ab4c-a076acb897dc"
      },
      "execution_count": null,
      "outputs": [
        {
          "output_type": "stream",
          "name": "stdout",
          "text": [
            "*\n",
            "**\n",
            "***\n",
            "****\n",
            "*****\n"
          ]
        }
      ]
    },
    {
      "cell_type": "code",
      "source": [
        "n = int(input())\n",
        "for row in range(1,n+1):\n",
        "  for col in range(1,row+1):\n",
        "    print(col, end='')\n",
        "  print()"
      ],
      "metadata": {
        "colab": {
          "base_uri": "https://localhost:8080/"
        },
        "id": "Yl31925iN9I1",
        "outputId": "7dc484dd-ed5a-45a0-ee80-a3ea56702e33"
      },
      "execution_count": null,
      "outputs": [
        {
          "output_type": "stream",
          "name": "stdout",
          "text": [
            "10\n",
            "1\n",
            "12\n",
            "123\n",
            "1234\n",
            "12345\n",
            "123456\n",
            "1234567\n",
            "12345678\n",
            "123456789\n",
            "12345678910\n"
          ]
        }
      ]
    },
    {
      "cell_type": "code",
      "source": [
        "a = [0, 1, 2, 3]\n",
        "for a[-1] in a:\n",
        "    print(a[-1])"
      ],
      "metadata": {
        "id": "iU4IJfiBEc0X",
        "outputId": "a237caa7-57de-4c14-ce2e-b159b593050e",
        "colab": {
          "base_uri": "https://localhost:8080/"
        }
      },
      "execution_count": null,
      "outputs": [
        {
          "output_type": "stream",
          "name": "stdout",
          "text": [
            "0\n",
            "1\n",
            "2\n",
            "2\n"
          ]
        }
      ]
    },
    {
      "cell_type": "code",
      "source": [
        "a = [0, 1, 2, 3]\n",
        "for a[-1] in a:\n",
        "    print(a[-1])"
      ],
      "metadata": {
        "id": "tDZ_7Yy4Ecw0",
        "colab": {
          "base_uri": "https://localhost:8080/"
        },
        "outputId": "793a9356-d50d-4f7e-b531-fcfcd37dd357"
      },
      "execution_count": 1,
      "outputs": [
        {
          "output_type": "stream",
          "name": "stdout",
          "text": [
            "0\n",
            "1\n",
            "2\n",
            "2\n"
          ]
        }
      ]
    },
    {
      "cell_type": "code",
      "source": [],
      "metadata": {
        "id": "jo5NoFx5EcvH"
      },
      "execution_count": null,
      "outputs": []
    },
    {
      "cell_type": "code",
      "source": [],
      "metadata": {
        "id": "SxR_q4InEcs6"
      },
      "execution_count": null,
      "outputs": []
    }
  ]
}