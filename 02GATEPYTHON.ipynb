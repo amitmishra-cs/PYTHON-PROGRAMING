{
  "nbformat": 4,
  "nbformat_minor": 0,
  "metadata": {
    "colab": {
      "provenance": [],
      "authorship_tag": "ABX9TyOBcgutH6KYgrUG1MYIfdeZ",
      "include_colab_link": true
    },
    "kernelspec": {
      "name": "python3",
      "display_name": "Python 3"
    },
    "language_info": {
      "name": "python"
    }
  },
  "cells": [
    {
      "cell_type": "markdown",
      "metadata": {
        "id": "view-in-github",
        "colab_type": "text"
      },
      "source": [
        "<a href=\"https://colab.research.google.com/github/amitmishra-cs/PYTHON-PROGRAMING/blob/main/02GATEPYTHON.ipynb\" target=\"_parent\"><img src=\"https://colab.research.google.com/assets/colab-badge.svg\" alt=\"Open In Colab\"/></a>"
      ]
    },
    {
      "cell_type": "code",
      "source": [
        "n = int(input(\"Enter the number: \"))\n",
        "for i in range(1, n + 1):\n",
        "  if n % i == 0:\n",
        "    print(i)\n"
      ],
      "metadata": {
        "colab": {
          "base_uri": "https://localhost:8080/"
        },
        "id": "zpjqAdzchGCU",
        "outputId": "1894f4a5-e6b0-4d7a-801d-81af3c34e972"
      },
      "execution_count": null,
      "outputs": [
        {
          "output_type": "stream",
          "name": "stdout",
          "text": [
            "Enter the number: 6\n",
            "1\n",
            "2\n",
            "3\n",
            "6\n"
          ]
        }
      ]
    },
    {
      "cell_type": "code",
      "source": [
        "n = int(input(\"Enter the number: \"))\n",
        "for i in range(1, n + 1):\n",
        "  if n % i == 0:\n",
        "    print(i)"
      ],
      "metadata": {
        "colab": {
          "base_uri": "https://localhost:8080/"
        },
        "id": "FXT3k4hFhMMM",
        "outputId": "ef98d49e-f839-4f2f-a83a-8751c9edc884"
      },
      "execution_count": null,
      "outputs": [
        {
          "output_type": "stream",
          "name": "stdout",
          "text": [
            "Enter the number: 30\n",
            "1\n",
            "2\n",
            "3\n",
            "5\n",
            "6\n",
            "10\n",
            "15\n",
            "30\n"
          ]
        }
      ]
    },
    {
      "cell_type": "code",
      "source": [
        "n = int(input(\"Enter the number: \"))\n",
        "l=[]\n",
        "for i in range(1, n + 1):\n",
        "  if n % i == 0:\n",
        "    l.append(i)\n",
        "print(l)"
      ],
      "metadata": {
        "colab": {
          "base_uri": "https://localhost:8080/"
        },
        "id": "JuX75Ednhz5s",
        "outputId": "2782555b-4d59-42d7-eb0f-af2ec9157744"
      },
      "execution_count": null,
      "outputs": [
        {
          "output_type": "stream",
          "name": "stdout",
          "text": [
            "Enter the number: 9\n",
            "[1, 3, 9]\n"
          ]
        }
      ]
    },
    {
      "cell_type": "code",
      "source": [
        "n =int(input(\"Enter the number \"))\n",
        "sum =0\n",
        "for i in range(1,n):\n",
        "    if n%i==0:\n",
        "        sum=sum+i\n",
        "if sum==n:\n",
        "    print(\"perfect number\")\n",
        "else:\n",
        "    print(\"not perfect number\")"
      ],
      "metadata": {
        "colab": {
          "base_uri": "https://localhost:8080/"
        },
        "id": "tM7Yx4ryiktM",
        "outputId": "f71af35d-3413-4e03-f827-383d3ead40b6"
      },
      "execution_count": null,
      "outputs": [
        {
          "output_type": "stream",
          "name": "stdout",
          "text": [
            "Enter the number 20\n",
            "not perfect number\n"
          ]
        }
      ]
    },
    {
      "cell_type": "code",
      "source": [
        "# to print sum of number\n",
        "n =int(input(\"enter the number \"))\n",
        "a=n\n",
        "sum =0\n",
        "while n!=0:\n",
        "  last = n%10\n",
        "  sum =sum + last\n",
        "  n =n//10\n",
        "print(\"sum of digit\" ,a,\"is\", sum)\n",
        "\n"
      ],
      "metadata": {
        "colab": {
          "base_uri": "https://localhost:8080/"
        },
        "id": "D3qCMvk7iknl",
        "outputId": "dcbba1e0-40a8-4a0e-a6fc-4b0e6b1c5974"
      },
      "execution_count": null,
      "outputs": [
        {
          "output_type": "stream",
          "name": "stdout",
          "text": [
            "enter the number 23456\n",
            "sum of digit 23456 is 20\n"
          ]
        }
      ]
    },
    {
      "cell_type": "code",
      "source": [
        "n =int(input(\"enter the number \"))\n",
        "a=n\n",
        "sum =0\n",
        "while n!=0:\n",
        "  last = n%10\n",
        "  sum =sum + last\n",
        "  n =n//10\n",
        "print(\"sum of digit\" ,a,\"is\", sum)"
      ],
      "metadata": {
        "colab": {
          "base_uri": "https://localhost:8080/"
        },
        "id": "VrUxpz15ikg0",
        "outputId": "27b797ed-db5a-4f85-f34b-e3607cce1400"
      },
      "execution_count": null,
      "outputs": [
        {
          "output_type": "stream",
          "name": "stdout",
          "text": [
            "enter the number 9999999999\n",
            "sum of digit 9999999999 is 90\n"
          ]
        }
      ]
    },
    {
      "cell_type": "code",
      "source": [
        "\n",
        "# armstrong number\n",
        "n =int(input(\"enter the number\"))\n",
        "a =n\n",
        "sum=0\n",
        "while n!=0:\n",
        "  last =n%10\n",
        "  cube=last**3\n",
        "  sum=sum+cube\n",
        "  n=n//10\n",
        "if sum ==0:\n",
        "  print(\"the number \",a,\"is armastrong\")\n",
        "else:\n",
        "  print(\"the number\",a,\"is not armstrong \")\n"
      ],
      "metadata": {
        "colab": {
          "base_uri": "https://localhost:8080/"
        },
        "id": "09Z-N8scgqqV",
        "outputId": "2e28ef63-f607-470c-cfd0-7c6c20913a3e"
      },
      "execution_count": null,
      "outputs": [
        {
          "output_type": "stream",
          "name": "stdout",
          "text": [
            "enter the number153\n",
            "the number 153 is not armstrong \n"
          ]
        }
      ]
    },
    {
      "cell_type": "code",
      "source": [
        "\n",
        "# armstrong number\n",
        "n =int(input(\"enter the number\"))\n",
        "a =n\n",
        "sum=0\n",
        "while n!=0:\n",
        "  last =n%10\n",
        "  cube=last**3\n",
        "  sum=sum+cube\n",
        "  n=n//10\n",
        "if sum ==a:\n",
        "  print(\"the number \",a,\"is armastrong\")\n",
        "else:\n",
        "  print(\"the number\",a,\"is not armstrong \")"
      ],
      "metadata": {
        "colab": {
          "base_uri": "https://localhost:8080/"
        },
        "id": "itsmNVg1gqm6",
        "outputId": "a56391ba-8943-4329-aca3-f3666ae23c6b"
      },
      "execution_count": null,
      "outputs": [
        {
          "output_type": "stream",
          "name": "stdout",
          "text": [
            "enter the number153\n",
            "the number  153 is armastrong\n"
          ]
        }
      ]
    },
    {
      "cell_type": "code",
      "source": [
        "# armstrong numbe r\n",
        "n =int(input(\"enter the number\"))\n",
        "a,b=n,n\n",
        "c=0\n",
        "while n!=0:\n",
        "  n=n//10\n",
        "  c=c+1\n",
        "sum=0\n",
        "while a!=0:\n",
        "  last=a%10\n",
        "  sum=sum + last**c\n",
        "  a=a//10\n",
        "if sum==b:\n",
        "  print(\"Bahubali\")\n",
        "else:\n",
        "  print(\"not Bahubali\")\n",
        "\n"
      ],
      "metadata": {
        "colab": {
          "base_uri": "https://localhost:8080/"
        },
        "id": "ijxSarmggqlR",
        "outputId": "99f1a496-453f-4b8d-e124-5446728db29b"
      },
      "execution_count": null,
      "outputs": [
        {
          "output_type": "stream",
          "name": "stdout",
          "text": [
            "enter the number153\n",
            "Bahubali\n"
          ]
        }
      ]
    },
    {
      "cell_type": "code",
      "source": [
        "# armstrong numbe r\n",
        "n =int(input(\"enter the number\"))\n",
        "a,b=n,n\n",
        "c=0\n",
        "while n!=0:\n",
        "  n=n//10\n",
        "  c=c+1\n",
        "sum=0\n",
        "while a!=0:\n",
        "  last=a%10\n",
        "  sum=sum + last**c\n",
        "  a=a//10\n",
        "if sum==b:\n",
        "  print(\"Bahubali\")\n",
        "else:\n",
        "  print(\"not Bahubali\")"
      ],
      "metadata": {
        "colab": {
          "base_uri": "https://localhost:8080/"
        },
        "id": "4yjnHZ51gqjP",
        "outputId": "c1671626-f3d3-4362-9cba-38aa09137813"
      },
      "execution_count": null,
      "outputs": [
        {
          "output_type": "stream",
          "name": "stdout",
          "text": [
            "enter the number13\n",
            "not Bahubali\n"
          ]
        }
      ]
    },
    {
      "cell_type": "code",
      "source": [
        "if 10<20:\n",
        "  pass\n",
        "print(\"Mishra\")\n"
      ],
      "metadata": {
        "colab": {
          "base_uri": "https://localhost:8080/"
        },
        "id": "lCSHkOyQBpoJ",
        "outputId": "12fd611f-bfc0-410b-be36-7dd63b4f2b35"
      },
      "execution_count": null,
      "outputs": [
        {
          "output_type": "stream",
          "name": "stdout",
          "text": [
            "Mishra\n"
          ]
        }
      ]
    },
    {
      "cell_type": "code",
      "source": [
        "a =int(input(\"enter a number\"))\n",
        "if a%2==0:\n",
        "  print(\"mishra\")"
      ],
      "metadata": {
        "colab": {
          "base_uri": "https://localhost:8080/"
        },
        "id": "UXnnmYVYBpmA",
        "outputId": "febcccbb-e07f-4cff-ca85-6922ca9d44f1"
      },
      "execution_count": null,
      "outputs": [
        {
          "output_type": "stream",
          "name": "stdout",
          "text": [
            "enter a number4\n",
            "mishras\n"
          ]
        }
      ]
    },
    {
      "cell_type": "code",
      "source": [
        "year =int(input(\"enter a number\"))\n",
        "if year==1:\n",
        "  print(\"Enjoy karo agle sall sochna \")\n",
        "elif year==2:\n",
        "  print(\"sochna shru karo\")\n",
        "elif year==3:\n",
        "  print(\"start kar do\")\n",
        "elif year== 4:\n",
        "  print(\"ab kiya kare\")\n",
        "else:\n",
        "  print(\"ram bhrose\")"
      ],
      "metadata": {
        "colab": {
          "base_uri": "https://localhost:8080/"
        },
        "id": "f3vJoIcNLfyx",
        "outputId": "be0b4931-4823-436a-d3a0-fdc5df66e924"
      },
      "execution_count": null,
      "outputs": [
        {
          "output_type": "stream",
          "name": "stdout",
          "text": [
            "enter a number8\n",
            "rambhorse\n"
          ]
        }
      ]
    },
    {
      "cell_type": "code",
      "source": [
        "a=int(input(\"enter a number\"))\n",
        "b=int(input(\"enter a number\"))\n",
        "c=int(input(\"enter a number\"))\n",
        "if a>b and a>c:\n",
        "  print(\"The largest among\",a,b,c,\"is\",a)\n",
        "else:\n",
        "  if b>c:\n",
        "    print(\"The largest among\",a,b,c,\"is\",b)\n",
        "  else:\n",
        "      print(\"The largest among\",c)\n"
      ],
      "metadata": {
        "colab": {
          "base_uri": "https://localhost:8080/"
        },
        "id": "q6zP0JmELfvR",
        "outputId": "d9190f7c-6fa9-4c4e-f01a-3cf35fc37ce9"
      },
      "execution_count": null,
      "outputs": [
        {
          "output_type": "stream",
          "name": "stdout",
          "text": [
            "enter a number10\n",
            "enter a number20\n",
            "enter a number30\n",
            "The largest among\n"
          ]
        }
      ]
    },
    {
      "cell_type": "code",
      "source": [
        "a=int(input(\"enter a number\"))\n",
        "b=int(input(\"enter a number\"))\n",
        "c=int(input(\"enter a number\"))\n",
        "if a>b and a>c:\n",
        "  print(\"The largest among\",a,b,c,\"is\",a)\n",
        "else:\n",
        "  if b>c:\n",
        "    print(\"The largest among\",a,b,c,\"is\",b)\n",
        "  else:\n",
        "      print(\"The largest among\",c)"
      ],
      "metadata": {
        "colab": {
          "base_uri": "https://localhost:8080/"
        },
        "id": "STSDzskuLfmD",
        "outputId": "62decfe4-e60d-4d70-e139-856cd9978f32"
      },
      "execution_count": null,
      "outputs": [
        {
          "output_type": "stream",
          "name": "stdout",
          "text": [
            "enter a number30\n",
            "enter a number20\n",
            "enter a number10\n",
            "The largest among 30 20 10 is 30\n"
          ]
        }
      ]
    },
    {
      "cell_type": "code",
      "source": [
        "i=0\n",
        "for x in \"pankaj\":\n",
        "  print(\"the element index\",i,\"is\",x)\n",
        "  i=i+1"
      ],
      "metadata": {
        "colab": {
          "base_uri": "https://localhost:8080/"
        },
        "id": "b0AYKgPYLfi1",
        "outputId": "c6353d3d-9ea8-4755-f451-2abc06ca5c68"
      },
      "execution_count": null,
      "outputs": [
        {
          "output_type": "stream",
          "name": "stdout",
          "text": [
            "the element index 0 is p\n",
            "the element index 1 is a\n",
            "the element index 2 is n\n",
            "the element index 3 is k\n",
            "the element index 4 is a\n",
            "the element index 5 is j\n"
          ]
        }
      ]
    },
    {
      "cell_type": "code",
      "source": [
        "for i in range(5):\n",
        "  print(\"pankaj\")\n",
        "  print(i)"
      ],
      "metadata": {
        "colab": {
          "base_uri": "https://localhost:8080/"
        },
        "id": "qTzKvlMSLfhC",
        "outputId": "00dedf80-ed19-4293-e456-639e82f78d7b"
      },
      "execution_count": null,
      "outputs": [
        {
          "output_type": "stream",
          "name": "stdout",
          "text": [
            "pankaj\n",
            "0\n",
            "pankaj\n",
            "1\n",
            "pankaj\n",
            "2\n",
            "pankaj\n",
            "3\n",
            "pankaj\n",
            "4\n"
          ]
        }
      ]
    },
    {
      "cell_type": "code",
      "source": [
        "for i in range(1,101):\n",
        "  if(i%2==0):\n",
        "     print(i)"
      ],
      "metadata": {
        "colab": {
          "base_uri": "https://localhost:8080/"
        },
        "id": "YPQJ6przLfes",
        "outputId": "0b31adbc-0a65-4f99-db63-7a8831c0ed4c"
      },
      "execution_count": null,
      "outputs": [
        {
          "output_type": "stream",
          "name": "stdout",
          "text": [
            "2\n",
            "4\n",
            "6\n",
            "8\n",
            "10\n",
            "12\n",
            "14\n",
            "16\n",
            "18\n",
            "20\n",
            "22\n",
            "24\n",
            "26\n",
            "28\n",
            "30\n",
            "32\n",
            "34\n",
            "36\n",
            "38\n",
            "40\n",
            "42\n",
            "44\n",
            "46\n",
            "48\n",
            "50\n",
            "52\n",
            "54\n",
            "56\n",
            "58\n",
            "60\n",
            "62\n",
            "64\n",
            "66\n",
            "68\n",
            "70\n",
            "72\n",
            "74\n",
            "76\n",
            "78\n",
            "80\n",
            "82\n",
            "84\n",
            "86\n",
            "88\n",
            "90\n",
            "92\n",
            "94\n",
            "96\n",
            "98\n",
            "100\n"
          ]
        }
      ]
    },
    {
      "cell_type": "code",
      "source": [
        "n=int(input(\"Enter the Number\"))\n",
        "Prod =1\n",
        "for i in range(1,n+1):\n",
        "  Prod=Prod*i\n",
        "print(Prod)"
      ],
      "metadata": {
        "colab": {
          "base_uri": "https://localhost:8080/"
        },
        "id": "JQqwb0nyLfcp",
        "outputId": "c1195547-0205-4506-e9e1-3f5d90e1fb61"
      },
      "execution_count": null,
      "outputs": [
        {
          "output_type": "stream",
          "name": "stdout",
          "text": [
            "Enter the Number5\n",
            "120\n"
          ]
        }
      ]
    },
    {
      "cell_type": "markdown",
      "source": [
        "**Strings**"
      ],
      "metadata": {
        "id": "UM7x-3mMtQfL"
      }
    },
    {
      "cell_type": "code",
      "source": [
        "s=\"mishra\"\n",
        "t='mishra'\n",
        "a='''mishra ji kase ko\n",
        "    aap kaha se ho bro how are'''\n",
        "# multiline string\n",
        "print(a)\n",
        "print(s)\n",
        "print(t)"
      ],
      "metadata": {
        "colab": {
          "base_uri": "https://localhost:8080/"
        },
        "id": "T2Dd2tFjoNPq",
        "outputId": "73cd3161-9d12-44cb-9af2-48f2d3647633"
      },
      "execution_count": 3,
      "outputs": [
        {
          "output_type": "stream",
          "name": "stdout",
          "text": [
            "mishra ji kase ko\n",
            "    aap kaha se ho bro how are\n",
            "mishra\n",
            "mishra\n"
          ]
        }
      ]
    },
    {
      "cell_type": "code",
      "source": [
        "s =\"mishra ji \"\n",
        "print(s[1:])"
      ],
      "metadata": {
        "colab": {
          "base_uri": "https://localhost:8080/"
        },
        "id": "9drrIx15oNNc",
        "outputId": "a827e698-2167-4fcd-d888-0e6bf58d0de8"
      },
      "execution_count": 2,
      "outputs": [
        {
          "output_type": "stream",
          "name": "stdout",
          "text": [
            "ishra ji \n"
          ]
        }
      ]
    },
    {
      "cell_type": "code",
      "source": [
        "print(s[ :4])"
      ],
      "metadata": {
        "colab": {
          "base_uri": "https://localhost:8080/"
        },
        "id": "C6-8pFCCoNLW",
        "outputId": "a99be235-7dbd-41b5-b544-18d4493bcb5e"
      },
      "execution_count": 3,
      "outputs": [
        {
          "output_type": "stream",
          "name": "stdout",
          "text": [
            "mish\n"
          ]
        }
      ]
    },
    {
      "cell_type": "code",
      "source": [
        "print(s[:])"
      ],
      "metadata": {
        "colab": {
          "base_uri": "https://localhost:8080/"
        },
        "id": "eCol41IKoNJb",
        "outputId": "31b5eac5-2602-4dee-c932-4c4429672aa7"
      },
      "execution_count": 4,
      "outputs": [
        {
          "output_type": "stream",
          "name": "stdout",
          "text": [
            "mishra ji \n"
          ]
        }
      ]
    },
    {
      "cell_type": "code",
      "source": [
        "print(s[3:1])"
      ],
      "metadata": {
        "colab": {
          "base_uri": "https://localhost:8080/"
        },
        "id": "iYmKCsj_soNw",
        "outputId": "f4716f9a-a1bd-4784-a447-82e969e56a90"
      },
      "execution_count": 7,
      "outputs": [
        {
          "output_type": "stream",
          "name": "stdout",
          "text": [
            "\n"
          ]
        }
      ]
    },
    {
      "cell_type": "code",
      "source": [
        "#slice opreater\n",
        "''' step can be positive or negative\n",
        "     1) if it is positive ====> it should be in forword direction\n",
        "     Or left to right within string\n",
        "     and s[begin:end] will slice from begin till end -1 index.\n",
        "     2) if it is negative ====> it should be in reverse direction\n",
        "     Or left to right within string\n",
        "     and s[begin:end] will slice from begin till end +1 index.\n",
        "\n",
        "\n",
        "\n",
        "'''"
      ],
      "metadata": {
        "id": "H_NV3MuTsoKM"
      },
      "execution_count": null,
      "outputs": []
    },
    {
      "cell_type": "code",
      "source": [
        "s=\"mishra\"\n",
        "s[4:2:-1]"
      ],
      "metadata": {
        "colab": {
          "base_uri": "https://localhost:8080/",
          "height": 35
        },
        "id": "gVyijbkNsn67",
        "outputId": "20ca26fa-4662-4015-b605-f2a6b847ef15"
      },
      "execution_count": 9,
      "outputs": [
        {
          "output_type": "execute_result",
          "data": {
            "text/plain": [
              "'rh'"
            ],
            "application/vnd.google.colaboratory.intrinsic+json": {
              "type": "string"
            }
          },
          "metadata": {},
          "execution_count": 9
        }
      ]
    },
    {
      "cell_type": "code",
      "source": [
        "#multiply opreeater ==>reptijijokwejnwsnbsw\n",
        "'mishra'*3"
      ],
      "metadata": {
        "colab": {
          "base_uri": "https://localhost:8080/",
          "height": 35
        },
        "id": "_lrxKC2lsn3h",
        "outputId": "521dfc4e-bdfe-4c80-aca8-6cfe1f959f79"
      },
      "execution_count": 10,
      "outputs": [
        {
          "output_type": "execute_result",
          "data": {
            "text/plain": [
              "'mishramishramishra'"
            ],
            "application/vnd.google.colaboratory.intrinsic+json": {
              "type": "string"
            }
          },
          "metadata": {},
          "execution_count": 10
        }
      ]
    },
    {
      "cell_type": "code",
      "source": [
        "\"mishra\" + \"Amit\""
      ],
      "metadata": {
        "colab": {
          "base_uri": "https://localhost:8080/",
          "height": 35
        },
        "id": "E-nA597toJlv",
        "outputId": "b31d6b75-d9dd-49f4-cc34-4bfcd246e8bb"
      },
      "execution_count": 11,
      "outputs": [
        {
          "output_type": "execute_result",
          "data": {
            "text/plain": [
              "'mishraAmit'"
            ],
            "application/vnd.google.colaboratory.intrinsic+json": {
              "type": "string"
            }
          },
          "metadata": {},
          "execution_count": 11
        }
      ]
    },
    {
      "cell_type": "code",
      "source": [
        "for i in s[::-1]:\n",
        "  print(i)\n"
      ],
      "metadata": {
        "colab": {
          "base_uri": "https://localhost:8080/"
        },
        "id": "-fQ_siFMoJiZ",
        "outputId": "6bac116e-197e-4ba4-c03a-4c3e41f96606"
      },
      "execution_count": 12,
      "outputs": [
        {
          "output_type": "stream",
          "name": "stdout",
          "text": [
            "a\n",
            "r\n",
            "h\n",
            "s\n",
            "i\n",
            "m\n"
          ]
        }
      ]
    },
    {
      "cell_type": "code",
      "source": [
        "s =input(\"enter orginal string\")\n",
        "t=input(\"enter the sbustring u want to find \")\n",
        "if t in s:\n",
        "  print(\"yes\")\n",
        "else:\n",
        "  print(\"no\")"
      ],
      "metadata": {
        "colab": {
          "base_uri": "https://localhost:8080/"
        },
        "id": "5N0J_e99oJct",
        "outputId": "a18162d9-31b7-4354-e83a-1bc836b1c1c7"
      },
      "execution_count": 14,
      "outputs": [
        {
          "output_type": "stream",
          "name": "stdout",
          "text": [
            "enter orginal stringmishra ji kse ho\n",
            "enter the sbustring u want to find mishra \n",
            "yes\n"
          ]
        }
      ]
    },
    {
      "cell_type": "code",
      "source": [
        "#palindrom string\n",
        "s=input(\"enter one word string\")\n",
        "if s[::-1]==s :\n",
        "  print(\"yes\")\n",
        "else:\n",
        "  print(\"No\")\n"
      ],
      "metadata": {
        "colab": {
          "base_uri": "https://localhost:8080/"
        },
        "id": "8yECTUeeoJZJ",
        "outputId": "1dc2a29c-7774-4ddb-f60a-25a5d3b2b531"
      },
      "execution_count": 1,
      "outputs": [
        {
          "output_type": "stream",
          "name": "stdout",
          "text": [
            "enter one word stringmom\n",
            "yes\n"
          ]
        }
      ]
    },
    {
      "cell_type": "code",
      "source": [
        "s=\"Amit Mishra is Worst  Person\"\n",
        "l=s.split()"
      ],
      "metadata": {
        "id": "tVEkWClFoLEw"
      },
      "execution_count": 2,
      "outputs": []
    },
    {
      "cell_type": "code",
      "source": [
        "type(l)"
      ],
      "metadata": {
        "colab": {
          "base_uri": "https://localhost:8080/"
        },
        "id": "sfZ3DvZSoLBS",
        "outputId": "0aae8b38-7232-4eb3-8bc6-b99fcc943db9"
      },
      "execution_count": 4,
      "outputs": [
        {
          "output_type": "execute_result",
          "data": {
            "text/plain": [
              "list"
            ]
          },
          "metadata": {},
          "execution_count": 4
        }
      ]
    },
    {
      "cell_type": "code",
      "source": [
        "print(l)"
      ],
      "metadata": {
        "colab": {
          "base_uri": "https://localhost:8080/"
        },
        "id": "stkzufNGGZcX",
        "outputId": "62cc5045-765c-4348-9fdb-bd2eb8ec26f1"
      },
      "execution_count": 5,
      "outputs": [
        {
          "output_type": "stream",
          "name": "stdout",
          "text": [
            "['Amit', 'Mishra', 'is', 'Worst', 'Person']\n"
          ]
        }
      ]
    },
    {
      "cell_type": "code",
      "source": [
        "a=\"20/7/2024\"\n",
        "l=a.split('/')\n",
        "print(l)"
      ],
      "metadata": {
        "colab": {
          "base_uri": "https://localhost:8080/"
        },
        "id": "5BGjOY1ZGZY9",
        "outputId": "c8dc0f3c-a147-44b5-f8fa-912e315fc456"
      },
      "execution_count": 9,
      "outputs": [
        {
          "output_type": "stream",
          "name": "stdout",
          "text": [
            "['20', '7', '2024']\n"
          ]
        }
      ]
    },
    {
      "cell_type": "code",
      "source": [
        "l =[\"Pankaj\", \"Sharma\", \"Is\", \"Worst\", \"Faculty\"]\n",
        "a=' '.join(l)\n",
        "print(a)"
      ],
      "metadata": {
        "colab": {
          "base_uri": "https://localhost:8080/"
        },
        "id": "2sN7NUR0GZVJ",
        "outputId": "00589710-6bac-4bc5-cb7b-622cbf6e82f2"
      },
      "execution_count": 12,
      "outputs": [
        {
          "output_type": "stream",
          "name": "stdout",
          "text": [
            "Pankaj Sharma Is Worst Faculty\n"
          ]
        }
      ]
    },
    {
      "cell_type": "code",
      "source": [
        "l =[\"Pankaj\", \"Sharma\", \"Is\", \"Worst\", \"Faculty\"]\n",
        "a= '@'.join(l)\n",
        "print(a)"
      ],
      "metadata": {
        "colab": {
          "base_uri": "https://localhost:8080/"
        },
        "id": "cHiqHjprGZTc",
        "outputId": "85b4c975-1a96-4826-93bd-a354fa594dc4"
      },
      "execution_count": 15,
      "outputs": [
        {
          "output_type": "stream",
          "name": "stdout",
          "text": [
            "Pankaj@Sharma@Is@Worst@Faculty\n"
          ]
        }
      ]
    },
    {
      "cell_type": "code",
      "source": [
        "s=\"pankaj sir teaching python\"\n",
        "for word in s.split():\n",
        "  if len(word) % 2 ==0:\n",
        "    print(word)"
      ],
      "metadata": {
        "colab": {
          "base_uri": "https://localhost:8080/"
        },
        "id": "QjPMtP2ZGZRm",
        "outputId": "d1fd865e-e7b6-4e9a-f37a-72c341962340"
      },
      "execution_count": 16,
      "outputs": [
        {
          "output_type": "stream",
          "name": "stdout",
          "text": [
            "pankaj\n",
            "teaching\n",
            "python\n"
          ]
        }
      ]
    },
    {
      "cell_type": "code",
      "source": [
        "s=\"pankaj sir teaching python\"\n",
        "for word in s.split():\n",
        "  if len(word) % 3 ==0:\n",
        "    print(word)"
      ],
      "metadata": {
        "colab": {
          "base_uri": "https://localhost:8080/"
        },
        "id": "uUHrFuOwHJSF",
        "outputId": "539029a1-1f5a-4914-de4b-b625b1b0e12a"
      },
      "execution_count": 19,
      "outputs": [
        {
          "output_type": "stream",
          "name": "stdout",
          "text": [
            "pankaj\n",
            "sir\n",
            "python\n"
          ]
        }
      ]
    },
    {
      "cell_type": "code",
      "source": [
        "s=\"pankaj sir is pankaj sir\"\n",
        "print(s.rfind(\"pankaj\"))\n"
      ],
      "metadata": {
        "colab": {
          "base_uri": "https://localhost:8080/"
        },
        "id": "zHRPZHc7HJO8",
        "outputId": "eaf8bd86-f0d8-40c7-9b7a-ccef2a071735"
      },
      "execution_count": 21,
      "outputs": [
        {
          "output_type": "stream",
          "name": "stdout",
          "text": [
            "14\n"
          ]
        }
      ]
    },
    {
      "cell_type": "code",
      "source": [
        "t=input().split()\n",
        "x =' '.join(t[::-1])\n",
        "print(x)\n"
      ],
      "metadata": {
        "colab": {
          "base_uri": "https://localhost:8080/"
        },
        "id": "kD4dz-B4HJMh",
        "outputId": "cb9f8ee0-da75-457e-a827-3e262d37e65a"
      },
      "execution_count": 27,
      "outputs": [
        {
          "output_type": "stream",
          "name": "stdout",
          "text": [
            "jai ho\n",
            "ho jai\n"
          ]
        }
      ]
    },
    {
      "cell_type": "code",
      "source": [],
      "metadata": {
        "id": "pPRtLAIqHJKg"
      },
      "execution_count": null,
      "outputs": []
    },
    {
      "cell_type": "code",
      "source": [],
      "metadata": {
        "id": "9LZ2HaRuQ_ew"
      },
      "execution_count": null,
      "outputs": []
    },
    {
      "cell_type": "code",
      "source": [],
      "metadata": {
        "id": "D_NUObZpQ_bc"
      },
      "execution_count": null,
      "outputs": []
    },
    {
      "cell_type": "code",
      "source": [],
      "metadata": {
        "id": "RtFnSOs-Q_ZH"
      },
      "execution_count": null,
      "outputs": []
    },
    {
      "cell_type": "code",
      "source": [],
      "metadata": {
        "id": "8XNJPKsKQ_VB"
      },
      "execution_count": null,
      "outputs": []
    }
  ]
}