{
  "nbformat": 4,
  "nbformat_minor": 0,
  "metadata": {
    "colab": {
      "provenance": [],
      "authorship_tag": "ABX9TyOYwirhHdIoglPoa2x+89qj",
      "include_colab_link": true
    },
    "kernelspec": {
      "name": "python3",
      "display_name": "Python 3"
    },
    "language_info": {
      "name": "python"
    }
  },
  "cells": [
    {
      "cell_type": "markdown",
      "metadata": {
        "id": "view-in-github",
        "colab_type": "text"
      },
      "source": [
        "<a href=\"https://colab.research.google.com/github/amitmishra-cs/PYTHON-PROGRAMING/blob/main/02GATEPYTHON.ipynb\" target=\"_parent\"><img src=\"https://colab.research.google.com/assets/colab-badge.svg\" alt=\"Open In Colab\"/></a>"
      ]
    },
    {
      "cell_type": "code",
      "source": [
        "n = int(input(\"Enter the number: \"))\n",
        "for i in range(1, n + 1):\n",
        "  if n % i == 0:\n",
        "    print(i)\n"
      ],
      "metadata": {
        "colab": {
          "base_uri": "https://localhost:8080/"
        },
        "id": "zpjqAdzchGCU",
        "outputId": "1894f4a5-e6b0-4d7a-801d-81af3c34e972"
      },
      "execution_count": 2,
      "outputs": [
        {
          "output_type": "stream",
          "name": "stdout",
          "text": [
            "Enter the number: 6\n",
            "1\n",
            "2\n",
            "3\n",
            "6\n"
          ]
        }
      ]
    },
    {
      "cell_type": "code",
      "source": [
        "n = int(input(\"Enter the number: \"))\n",
        "for i in range(1, n + 1):\n",
        "  if n % i == 0:\n",
        "    print(i)"
      ],
      "metadata": {
        "colab": {
          "base_uri": "https://localhost:8080/"
        },
        "id": "FXT3k4hFhMMM",
        "outputId": "ef98d49e-f839-4f2f-a83a-8751c9edc884"
      },
      "execution_count": 3,
      "outputs": [
        {
          "output_type": "stream",
          "name": "stdout",
          "text": [
            "Enter the number: 30\n",
            "1\n",
            "2\n",
            "3\n",
            "5\n",
            "6\n",
            "10\n",
            "15\n",
            "30\n"
          ]
        }
      ]
    },
    {
      "cell_type": "code",
      "source": [
        "n = int(input(\"Enter the number: \"))\n",
        "l=[]\n",
        "for i in range(1, n + 1):\n",
        "  if n % i == 0:\n",
        "    l.append(i)\n",
        "print(l)"
      ],
      "metadata": {
        "colab": {
          "base_uri": "https://localhost:8080/"
        },
        "id": "JuX75Ednhz5s",
        "outputId": "2782555b-4d59-42d7-eb0f-af2ec9157744"
      },
      "execution_count": 6,
      "outputs": [
        {
          "output_type": "stream",
          "name": "stdout",
          "text": [
            "Enter the number: 9\n",
            "[1, 3, 9]\n"
          ]
        }
      ]
    },
    {
      "cell_type": "code",
      "source": [
        "n =int(input(\"Enter the number \"))\n",
        "sum =0\n",
        "for i in range(1,n):\n",
        "    if n%i==0:\n",
        "        sum=sum+i\n",
        "if sum==n:\n",
        "    print(\"perfect number\")\n",
        "else:\n",
        "    print(\"not perfect number\")"
      ],
      "metadata": {
        "colab": {
          "base_uri": "https://localhost:8080/"
        },
        "id": "tM7Yx4ryiktM",
        "outputId": "f71af35d-3413-4e03-f827-383d3ead40b6"
      },
      "execution_count": 4,
      "outputs": [
        {
          "output_type": "stream",
          "name": "stdout",
          "text": [
            "Enter the number 20\n",
            "not perfect number\n"
          ]
        }
      ]
    },
    {
      "cell_type": "code",
      "source": [
        "# to print sum of number\n",
        "n =int(input(\"enter the number \"))\n",
        "a=n\n",
        "sum =0\n",
        "while n!=0:\n",
        "  last = n%10\n",
        "  sum =sum + last\n",
        "  n =n//10\n",
        "print(\"sum of digit\" ,a,\"is\", sum)\n",
        "\n"
      ],
      "metadata": {
        "colab": {
          "base_uri": "https://localhost:8080/"
        },
        "id": "D3qCMvk7iknl",
        "outputId": "dcbba1e0-40a8-4a0e-a6fc-4b0e6b1c5974"
      },
      "execution_count": 7,
      "outputs": [
        {
          "output_type": "stream",
          "name": "stdout",
          "text": [
            "enter the number 23456\n",
            "sum of digit 23456 is 20\n"
          ]
        }
      ]
    },
    {
      "cell_type": "code",
      "source": [
        "n =int(input(\"enter the number \"))\n",
        "a=n\n",
        "sum =0\n",
        "while n!=0:\n",
        "  last = n%10\n",
        "  sum =sum + last\n",
        "  n =n//10\n",
        "print(\"sum of digit\" ,a,\"is\", sum)"
      ],
      "metadata": {
        "colab": {
          "base_uri": "https://localhost:8080/"
        },
        "id": "VrUxpz15ikg0",
        "outputId": "27b797ed-db5a-4f85-f34b-e3607cce1400"
      },
      "execution_count": 8,
      "outputs": [
        {
          "output_type": "stream",
          "name": "stdout",
          "text": [
            "enter the number 9999999999\n",
            "sum of digit 9999999999 is 90\n"
          ]
        }
      ]
    },
    {
      "cell_type": "code",
      "source": [
        "\n",
        "# armstrong number\n",
        "n =int(input(\"enter the number\"))\n",
        "a =n\n",
        "sum=0\n",
        "while n!=0:\n",
        "  last =n%10\n",
        "  cube=last**3\n",
        "  sum=sum+cube\n",
        "  n=n//10\n",
        "if sum ==0:\n",
        "  print(\"the number \",a,\"is armastrong\")\n",
        "else:\n",
        "  print(\"the number\",a,\"is not armstrong \")\n"
      ],
      "metadata": {
        "colab": {
          "base_uri": "https://localhost:8080/"
        },
        "id": "09Z-N8scgqqV",
        "outputId": "2e28ef63-f607-470c-cfd0-7c6c20913a3e"
      },
      "execution_count": 13,
      "outputs": [
        {
          "output_type": "stream",
          "name": "stdout",
          "text": [
            "enter the number153\n",
            "the number 153 is not armstrong \n"
          ]
        }
      ]
    },
    {
      "cell_type": "code",
      "source": [
        "\n",
        "# armstrong number\n",
        "n =int(input(\"enter the number\"))\n",
        "a =n\n",
        "sum=0\n",
        "while n!=0:\n",
        "  last =n%10\n",
        "  cube=last**3\n",
        "  sum=sum+cube\n",
        "  n=n//10\n",
        "if sum ==a:\n",
        "  print(\"the number \",a,\"is armastrong\")\n",
        "else:\n",
        "  print(\"the number\",a,\"is not armstrong \")"
      ],
      "metadata": {
        "colab": {
          "base_uri": "https://localhost:8080/"
        },
        "id": "itsmNVg1gqm6",
        "outputId": "a56391ba-8943-4329-aca3-f3666ae23c6b"
      },
      "execution_count": 14,
      "outputs": [
        {
          "output_type": "stream",
          "name": "stdout",
          "text": [
            "enter the number153\n",
            "the number  153 is armastrong\n"
          ]
        }
      ]
    },
    {
      "cell_type": "code",
      "source": [
        "# armstrong numbe r\n",
        "n =int(input(\"enter the number\"))\n",
        "a,b=n,n\n",
        "c=0\n",
        "while n!=0:\n",
        "  n=n//10\n",
        "  c=c+1\n",
        "sum=0\n",
        "while a!=0:\n",
        "  last=a%10\n",
        "  sum=sum + last**c\n",
        "  a=a//10\n",
        "if sum==b:\n",
        "  print(\"Bahubali\")\n",
        "else:\n",
        "  print(\"not Bahubali\")\n",
        "\n"
      ],
      "metadata": {
        "colab": {
          "base_uri": "https://localhost:8080/"
        },
        "id": "ijxSarmggqlR",
        "outputId": "99f1a496-453f-4b8d-e124-5446728db29b"
      },
      "execution_count": 15,
      "outputs": [
        {
          "output_type": "stream",
          "name": "stdout",
          "text": [
            "enter the number153\n",
            "Bahubali\n"
          ]
        }
      ]
    },
    {
      "cell_type": "code",
      "source": [
        "# armstrong numbe r\n",
        "n =int(input(\"enter the number\"))\n",
        "a,b=n,n\n",
        "c=0\n",
        "while n!=0:\n",
        "  n=n//10\n",
        "  c=c+1\n",
        "sum=0\n",
        "while a!=0:\n",
        "  last=a%10\n",
        "  sum=sum + last**c\n",
        "  a=a//10\n",
        "if sum==b:\n",
        "  print(\"Bahubali\")\n",
        "else:\n",
        "  print(\"not Bahubali\")"
      ],
      "metadata": {
        "colab": {
          "base_uri": "https://localhost:8080/"
        },
        "id": "4yjnHZ51gqjP",
        "outputId": "c1671626-f3d3-4362-9cba-38aa09137813"
      },
      "execution_count": 16,
      "outputs": [
        {
          "output_type": "stream",
          "name": "stdout",
          "text": [
            "enter the number13\n",
            "not Bahubali\n"
          ]
        }
      ]
    },
    {
      "cell_type": "code",
      "source": [
        "if 10<20:\n",
        "  pass\n",
        "print(\"Mishra\")\n"
      ],
      "metadata": {
        "colab": {
          "base_uri": "https://localhost:8080/"
        },
        "id": "lCSHkOyQBpoJ",
        "outputId": "12fd611f-bfc0-410b-be36-7dd63b4f2b35"
      },
      "execution_count": 4,
      "outputs": [
        {
          "output_type": "stream",
          "name": "stdout",
          "text": [
            "Mishra\n"
          ]
        }
      ]
    },
    {
      "cell_type": "code",
      "source": [
        "a =int(input(\"enter a number\"))\n",
        "if a%2==0:\n",
        "  print(\"mishra\")"
      ],
      "metadata": {
        "colab": {
          "base_uri": "https://localhost:8080/"
        },
        "id": "UXnnmYVYBpmA",
        "outputId": "febcccbb-e07f-4cff-ca85-6922ca9d44f1"
      },
      "execution_count": 6,
      "outputs": [
        {
          "output_type": "stream",
          "name": "stdout",
          "text": [
            "enter a number4\n",
            "mishras\n"
          ]
        }
      ]
    },
    {
      "cell_type": "code",
      "source": [
        "year =int(input(\"enter a number\"))\n",
        "if year==1:\n",
        "  print(\"Enjoy karo agle sall sochna \")\n",
        "elif year==2:\n",
        "  print(\"sochna shru karo\")\n",
        "elif year==3:\n",
        "  print(\"start kar do\")\n",
        "elif year== 4:\n",
        "  print(\"ab kiya kare\")\n",
        "else:\n",
        "  print(\"ram bhrose\")"
      ],
      "metadata": {
        "colab": {
          "base_uri": "https://localhost:8080/"
        },
        "id": "f3vJoIcNLfyx",
        "outputId": "be0b4931-4823-436a-d3a0-fdc5df66e924"
      },
      "execution_count": 11,
      "outputs": [
        {
          "output_type": "stream",
          "name": "stdout",
          "text": [
            "enter a number8\n",
            "rambhorse\n"
          ]
        }
      ]
    },
    {
      "cell_type": "code",
      "source": [
        "a=int(input(\"enter a number\"))\n",
        "b=int(input(\"enter a number\"))\n",
        "c=int(input(\"enter a number\"))\n",
        "if a>b and a>c:\n",
        "  print(\"The largest among\",a,b,c,\"is\",a)\n",
        "else:\n",
        "  if b>c:\n",
        "    print(\"The largest among\",a,b,c,\"is\",b)\n",
        "  else:\n",
        "      print(\"The largest among\",c)\n"
      ],
      "metadata": {
        "colab": {
          "base_uri": "https://localhost:8080/"
        },
        "id": "q6zP0JmELfvR",
        "outputId": "d9190f7c-6fa9-4c4e-f01a-3cf35fc37ce9"
      },
      "execution_count": 13,
      "outputs": [
        {
          "output_type": "stream",
          "name": "stdout",
          "text": [
            "enter a number10\n",
            "enter a number20\n",
            "enter a number30\n",
            "The largest among\n"
          ]
        }
      ]
    },
    {
      "cell_type": "code",
      "source": [
        "a=int(input(\"enter a number\"))\n",
        "b=int(input(\"enter a number\"))\n",
        "c=int(input(\"enter a number\"))\n",
        "if a>b and a>c:\n",
        "  print(\"The largest among\",a,b,c,\"is\",a)\n",
        "else:\n",
        "  if b>c:\n",
        "    print(\"The largest among\",a,b,c,\"is\",b)\n",
        "  else:\n",
        "      print(\"The largest among\",c)"
      ],
      "metadata": {
        "colab": {
          "base_uri": "https://localhost:8080/"
        },
        "id": "STSDzskuLfmD",
        "outputId": "62decfe4-e60d-4d70-e139-856cd9978f32"
      },
      "execution_count": 17,
      "outputs": [
        {
          "output_type": "stream",
          "name": "stdout",
          "text": [
            "enter a number30\n",
            "enter a number20\n",
            "enter a number10\n",
            "The largest among 30 20 10 is 30\n"
          ]
        }
      ]
    },
    {
      "cell_type": "code",
      "source": [
        "i=0\n",
        "for x in \"pankaj\":\n",
        "  print(\"the element index\",i,\"is\",x)\n",
        "  i=i+1"
      ],
      "metadata": {
        "colab": {
          "base_uri": "https://localhost:8080/"
        },
        "id": "b0AYKgPYLfi1",
        "outputId": "c6353d3d-9ea8-4755-f451-2abc06ca5c68"
      },
      "execution_count": 18,
      "outputs": [
        {
          "output_type": "stream",
          "name": "stdout",
          "text": [
            "the element index 0 is p\n",
            "the element index 1 is a\n",
            "the element index 2 is n\n",
            "the element index 3 is k\n",
            "the element index 4 is a\n",
            "the element index 5 is j\n"
          ]
        }
      ]
    },
    {
      "cell_type": "code",
      "source": [
        "for i in range(5):\n",
        "  print(\"pankaj\")\n",
        "  print(i)"
      ],
      "metadata": {
        "colab": {
          "base_uri": "https://localhost:8080/"
        },
        "id": "qTzKvlMSLfhC",
        "outputId": "00dedf80-ed19-4293-e456-639e82f78d7b"
      },
      "execution_count": 20,
      "outputs": [
        {
          "output_type": "stream",
          "name": "stdout",
          "text": [
            "pankaj\n",
            "0\n",
            "pankaj\n",
            "1\n",
            "pankaj\n",
            "2\n",
            "pankaj\n",
            "3\n",
            "pankaj\n",
            "4\n"
          ]
        }
      ]
    },
    {
      "cell_type": "code",
      "source": [],
      "metadata": {
        "id": "YPQJ6przLfes"
      },
      "execution_count": null,
      "outputs": []
    },
    {
      "cell_type": "code",
      "source": [],
      "metadata": {
        "id": "JQqwb0nyLfcp"
      },
      "execution_count": null,
      "outputs": []
    },
    {
      "cell_type": "code",
      "source": [],
      "metadata": {
        "id": "R26aw3JGLfar"
      },
      "execution_count": null,
      "outputs": []
    }
  ]
}